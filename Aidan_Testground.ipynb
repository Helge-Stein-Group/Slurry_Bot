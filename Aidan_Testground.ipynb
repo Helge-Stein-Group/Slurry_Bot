{
 "cells": [
  {
   "cell_type": "code",
   "execution_count": 13,
   "metadata": {},
   "outputs": [
    {
     "name": "stdout",
     "output_type": "stream",
     "text": [
      "SDK_VERSION: 1.13.19\n"
     ]
    }
   ],
   "source": [
    "%reload_ext autoreload\n",
    "%autoreload 2\n",
    "from Testing.Robot_wrapper import *"
   ]
  },
  {
   "cell_type": "code",
   "execution_count": 157,
   "metadata": {},
   "outputs": [
    {
     "name": "stdout",
     "output_type": "stream",
     "text": [
      "ROBOT_IP: 192.168.1.200, VERSION: v2.3.0, PROTOCOL: V1, DETAIL: 6,6,XI1303,MC1303,v2.3.0, TYPE1300: [1, 1]\n",
      "change protocol identifier to 3\n"
     ]
    }
   ],
   "source": [
    "robot = Robot()"
   ]
  },
  {
   "cell_type": "code",
   "execution_count": 46,
   "metadata": {},
   "outputs": [
    {
     "name": "stdout",
     "output_type": "stream",
     "text": [
      "ROBOT_IP: 192.168.1.200, VERSION: v2.3.0, PROTOCOL: V1, DETAIL: 6,6,XI1303,MC1303,v2.3.0, TYPE1300: [1, 1]\n",
      "change protocol identifier to 3\n",
      "[motion_enable], xArm is not ready to move\n",
      "[set_state], xArm is ready to move\n"
     ]
    }
   ],
   "source": [
    "robot.restart()"
   ]
  },
  {
   "cell_type": "code",
   "execution_count": 161,
   "metadata": {},
   "outputs": [
    {
     "name": "stdout",
     "output_type": "stream",
     "text": [
      "ROBOT_IP: 192.168.1.200, VERSION: v2.3.0, PROTOCOL: V1, DETAIL: 6,6,XI1303,MC1303,v2.3.0, TYPE1300: [1, 1]\n",
      "change protocol identifier to 3\n",
      "[motion_enable], xArm is not ready to move\n",
      "[set_state], xArm is ready to move\n",
      "[SDK][ERROR][2025-04-24 16:01:55][base.py:374] - - wait_feedback, xarm is stop, state=4\n",
      "[SDK][ERROR][2025-04-24 16:01:55][base.py:374] - - API -> set_relative_position -> code=9, pos=[122.0, -200.0, 0, 0, 0, 0], radius=-1, velo=40.0, acc=2000\n",
      "[SDK][ERROR][2025-04-24 16:01:55][base.py:374] - - API -> set_relative_position -> code=9, pos=[96.3, 212.8, 34.9, 0, 0, 0], radius=-1, velo=24.0, acc=2000\n"
     ]
    },
    {
     "data": {
      "text/plain": [
       "9"
      ]
     },
     "execution_count": 161,
     "metadata": {},
     "output_type": "execute_result"
    }
   ],
   "source": [
    "robot.restart()\n",
    "robot.arm.set_position(x=-525.2, y=74, z=61.8, roll=-34.6, pitch=89.6, yaw=55.5, speed=64, wait=True)\n",
    "\n",
    "robot.arm.set_position(x=-503.7, y=323.9, z=3.4, roll=-34.6, pitch=89.6, yaw=55.5, speed=34, wait=True)\n",
    "robot.arm.set_gripper_position(471, wait=True)\n",
    "robot.arm.set_position(z=122, relative=True, speed=14, wait=True)\n",
    "robot.arm.set_position(x=122, y=-200, relative=True, speed=40, wait=True)\n",
    "robot.arm.set_position(x=96.3, y=212.8, z=34.9, relative=True, speed=24, wait=True)\n",
    "\n",
    "\n",
    "\n"
   ]
  },
  {
   "cell_type": "code",
   "execution_count": 178,
   "metadata": {},
   "outputs": [
    {
     "name": "stdout",
     "output_type": "stream",
     "text": [
      "ROBOT_IP: 192.168.1.200, VERSION: v2.3.0, PROTOCOL: V1, DETAIL: 6,6,XI1303,MC1303,v2.3.0, TYPE1300: [1, 1]\n",
      "change protocol identifier to 3\n"
     ]
    },
    {
     "data": {
      "text/plain": [
       "0"
      ]
     },
     "execution_count": 178,
     "metadata": {},
     "output_type": "execute_result"
    }
   ],
   "source": [
    "# FUNNEL PREP\n",
    "robot.restart()\n",
    "\n",
    "# picking up funnel\n",
    "robot.arm.set_gripper_position(800, wait=True)\n",
    "\n",
    "robot.arm.set_position(x=-504.7, y=249.6+14.5, z=42.4, roll=14.1, pitch=88.5, yaw=105.7, speed=40, wait=True)  # y=265.6\n",
    "robot.arm.set_position(x=-505.7, y=339.9+14.5, z=11.4, roll=87.7, pitch=87, yaw=177.3, speed=40, wait=True)  # y=355.9\n",
    "robot.arm.set_position(x=-505.7, y=339.9+14.5, z=3.4, roll=-34.6, pitch=89.6, yaw=55.5, speed=14, wait=True)  # y=355.9\n",
    "\n",
    "robot.arm.set_gripper_position(471, wait=True)\n",
    "\n",
    "# maneuvering away from shelf and into scales\n",
    "robot.arm.set_position(z=122, relative=True, speed=14, wait=True)\n",
    "robot.arm.set_position(x=-423.7, y=100+14.5, z=100.9, roll=-89.7, pitch=90, yaw=0, speed=30, wait=True)  # y=116\n",
    "robot.arm.set_position(x=-290.9, y=360+14.5, z=158.8, roll=-89.7, pitch=90, yaw=0, speed=30, wait=True)  # y=376\n",
    "## place funnel\n",
    "robot.arm.set_position(x=-290.9, y=360+14.5, z=86.5, roll=-89.7, pitch=90, yaw=0, speed=7, wait=True)  # y=376\n",
    "robot.arm.set_gripper_position(800, wait=True)\n",
    "robot.arm.set_position(y=-150+16, relative=True, speed=20, wait=True)  # y=-134\n",
    "\n",
    "\n",
    "\n"
   ]
  },
  {
   "cell_type": "code",
   "execution_count": 179,
   "metadata": {},
   "outputs": [
    {
     "name": "stdout",
     "output_type": "stream",
     "text": [
      "ROBOT_IP: 192.168.1.200, VERSION: v2.3.0, PROTOCOL: V1, DETAIL: 6,6,XI1303,MC1303,v2.3.0, TYPE1300: [1, 1]\n",
      "change protocol identifier to 3\n",
      "[SDK][ERROR][2025-04-24 16:23:07][base.py:374] - - wait_feedback, xarm is stop, state=4\n",
      "[SDK][ERROR][2025-04-24 16:23:07][base.py:374] - - API -> set_position -> code=9, pos=[-396.5, 122.60000000000001, 146.7, -1.5655603390389137, 1.5707963267948966, 0.0], radius=-1, velo=37.0, acc=2000\n",
      "[SDK][ERROR][2025-04-24 16:23:07][base.py:374] - - API -> set_position -> code=9, pos=[-490.6, 210.79999999999998, 148.1, -1.5655603390389137, 1.5707963267948966, 0.0], radius=-1, velo=37.0, acc=2000\n",
      "[SDK][ERROR][2025-04-24 16:23:07][base.py:374] - - API -> set_position -> code=9, pos=[-509.7, 345.2, 148.1, -0.6038839211900381, 1.5638150097869192, 0.9686577348568529], radius=-1, velo=37.0, acc=2000\n",
      "[SDK][ERROR][2025-04-24 16:23:07][base.py:374] - - API -> set_position -> code=9, pos=[-509.7, 347.0, 7.0, -0.6038839211900381, 1.5638150097869192, 0.9686577348568529], radius=-1, velo=10.0, acc=2000\n",
      "[SDK][ERROR][2025-04-24 16:23:07][base.py:374] - - wait_move, xarm is stop, state=4\n",
      "[SDK][ERROR][2025-04-24 16:23:07][base.py:374] - - API -> set_relative_position -> code=9, pos=[0, -153.8, 0, 0, 0, 0], radius=-1, velo=37.0, acc=2000\n"
     ]
    },
    {
     "data": {
      "text/plain": [
       "9"
      ]
     },
     "execution_count": 179,
     "metadata": {},
     "output_type": "execute_result"
    }
   ],
   "source": [
    "# FUNNEL REPLACEMENT\n",
    "robot.restart()\n",
    "\n",
    "\n",
    "# grab\n",
    "robot.arm.set_position(x=-290.9, y=393.8-19.3, z=83.8, roll=-89.7, pitch=90, yaw=0, speed=17, wait=True)  # y=360\n",
    "robot.arm.set_gripper_position(471, wait=True)\n",
    "robot.arm.set_position(x=-290.9, y=393.8-19.3, z=146.7, roll=-89.7, pitch=90, yaw=0, speed=17, wait=True)  # y=360\n",
    "\n",
    "robot.arm.set_position(x=-396.5, y=141.9-19.3, z=146.7, roll=-89.7, pitch=90, yaw=0, speed=37, wait=True)  # y=108.1\n",
    "robot.arm.set_position(x=-490.6, y=230.1-19.3, z=148.1, roll=-89.7, pitch=90, yaw=0, speed=37, wait=True)  # y=196.3\n",
    "\n",
    "robot.arm.set_position(x=-509.7, y=364.5-19.3, z=148.1, roll=-34.6, pitch=89.6, yaw=55.5, speed=37, wait=True)  # y=330.7\n",
    "robot.arm.set_position(x=-509.7, y=364.5-17.5, z=7, roll=-34.6, pitch=89.6, yaw=55.5, speed=10, wait=True)  # y=330.7\n",
    "\n",
    "robot.arm.set_gripper_position(800, wait=True)\n",
    "robot.arm.set_position(y=-120-33.8, relative=True, speed=37, wait=True)  # y=-153.8\n",
    "\n",
    "\n",
    "\n",
    "\n"
   ]
  },
  {
   "cell_type": "code",
   "execution_count": 153,
   "metadata": {},
   "outputs": [
    {
     "data": {
      "text/plain": [
       "(0, [-285.400024, 336.699921, 160.299988, -34.600005, 89.599999, 55.500015])"
      ]
     },
     "execution_count": 153,
     "metadata": {},
     "output_type": "execute_result"
    }
   ],
   "source": [
    "robot.arm.get_position()"
   ]
  },
  {
   "cell_type": "code",
   "execution_count": null,
   "metadata": {},
   "outputs": [
    {
     "name": "stdout",
     "output_type": "stream",
     "text": [
      "ROBOT_IP: 192.168.1.200, VERSION: v2.3.0, PROTOCOL: V1, DETAIL: 6,6,XI1303,MC1303,v2.3.0, TYPE1300: [1, 1]\n",
      "change protocol identifier to 3\n",
      "ControllerError, code: 31\n",
      "[SDK][ERROR][2025-04-24 16:25:31][base.py:374] - - wait_feedback, xarm has error, error=31\n",
      "[SDK][ERROR][2025-04-24 16:25:31][base.py:374] - - wait_feedback, xarm has error, error=31\n",
      "[SDK][ERROR][2025-04-24 16:25:31][base.py:374] - - wait_feedback, xarm has error, error=31\n"
     ]
    },
    {
     "data": {
      "text/plain": [
       "1"
      ]
     },
     "execution_count": 182,
     "metadata": {},
     "output_type": "execute_result"
    },
    {
     "name": "stdout",
     "output_type": "stream",
     "text": [
      "ControllerError had clean\n",
      "ControllerError, code: 31\n",
      "ControllerError had clean\n"
     ]
    }
   ],
   "source": [
    "## SPTULA PICK UP\n",
    "robot.restart()\n",
    "\n",
    "robot.arm.set_position(x=-360, y=237.6-30.8, z=185.9, roll=97.7, pitch=85.7, yaw=-170.9, speed=37, wait=True)  # y=203.8\n",
    "robot.arm.set_gripper_position(600, wait=True)\n",
    "robot.arm.set_position(x=-475.12, y=378, z=220.8, roll=174.2, pitch=87.3, yaw=-94.9, speed=17, wait=True)  # y=333.9\n",
    "robot.arm.set_gripper_position(261, wait=True)\n",
    "robot.arm.set_position(z=50, relative=True, speed=14, wait=True)\n",
    "robot.arm.set_position(y=-172-19.3, relative=True, speed=44, wait=True)  # y=-205.8\n",
    "robot.arm.set_position(x=-288.5, y=161.1-30.8, z=64.3, roll=171.4, pitch=68.1, yaw=-8.1, speed=44, wait=True)  # y=127.3\n",
    "\n"
   ]
  },
  {
   "cell_type": "code",
   "execution_count": 66,
   "metadata": {},
   "outputs": [
    {
     "name": "stdout",
     "output_type": "stream",
     "text": [
      "ROBOT_IP: 192.168.1.200, VERSION: v2.3.0, PROTOCOL: V1, DETAIL: 6,6,XI1303,MC1303,v2.3.0, TYPE1300: [1, 1]\n",
      "change protocol identifier to 3\n",
      "[motion_enable], xArm is not ready to move\n",
      "[set_state], xArm is ready to move\n",
      "[SDK][ERROR][2025-04-24 13:38:12][base.py:374] - - wait_feedback, xarm is stop, state=4\n"
     ]
    },
    {
     "data": {
      "text/plain": [
       "-9"
      ]
     },
     "execution_count": 66,
     "metadata": {},
     "output_type": "execute_result"
    }
   ],
   "source": [
    "robot.restart()\n",
    "robot.arm.set_position(x=-661.5, y=133.7, z=(-112.4 + 380), roll=-172.9, pitch=74, yaw=9.1, speed=14, wait=True)\n"
   ]
  },
  {
   "cell_type": "code",
   "execution_count": 61,
   "metadata": {},
   "outputs": [
    {
     "name": "stdout",
     "output_type": "stream",
     "text": [
      "(0, '6,6,XI1303,MC1303,v2.3.0')\n"
     ]
    }
   ],
   "source": [
    "print(robot.arm.get_version())\n"
   ]
  },
  {
   "cell_type": "code",
   "execution_count": 334,
   "metadata": {},
   "outputs": [
    {
     "name": "stdout",
     "output_type": "stream",
     "text": [
      "[SDK][ERROR][2025-02-10 13:16:13][base.py:247] - - [report-socket] recv error: [WinError 10054] An existing connection was forcibly closed by the remote host\n",
      "[SDK][ERROR][2025-02-10 13:16:13][base.py:293] - - [main-socket] recv error: [WinError 10054] An existing connection was forcibly closed by the remote host\n"
     ]
    }
   ],
   "source": [
    "robot.GoTo_InitialPoint()"
   ]
  },
  {
   "cell_type": "code",
   "execution_count": 355,
   "metadata": {},
   "outputs": [
    {
     "name": "stdout",
     "output_type": "stream",
     "text": [
      "[SDK][ERROR][2025-02-13 11:21:31][base.py:293] - - [main-socket] recv error: [WinError 10054] An existing connection was forcibly closed by the remote host\n",
      "[SDK][ERROR][2025-02-13 11:21:31][base.py:247] - - [report-socket] recv error: [WinError 10054] An existing connection was forcibly closed by the remote host\n"
     ]
    }
   ],
   "source": [
    "robot.initialize()\n",
    "\n",
    "robot.GoTo_InitialPoint()\n"
   ]
  },
  {
   "cell_type": "code",
   "execution_count": 53,
   "metadata": {},
   "outputs": [
    {
     "name": "stdout",
     "output_type": "stream",
     "text": [
      "ROBOT_IP: 192.168.1.200, VERSION: v2.3.0, PROTOCOL: V1, DETAIL: 6,6,XI1303,MC1303,v2.3.0, TYPE1300: [1, 1]\n",
      "change protocol identifier to 3\n",
      "[motion_enable], xArm is not ready to move\n",
      "[set_state], xArm is ready to move\n"
     ]
    },
    {
     "data": {
      "text/plain": [
       "0"
      ]
     },
     "execution_count": 53,
     "metadata": {},
     "output_type": "execute_result"
    }
   ],
   "source": [
    "robot.restart()\n",
    "robot.arm.set_position(x=-681.9, y=66.7, z=9.8, roll=-140.8, pitch=86.1, yaw=40, speed=40)\n"
   ]
  },
  {
   "cell_type": "code",
   "execution_count": 78,
   "metadata": {},
   "outputs": [
    {
     "name": "stdout",
     "output_type": "stream",
     "text": [
      "[0.0, 0.0, 172.0, 0.0, 0.0, 0.0]\n",
      "ROBOT_IP: 192.168.1.200, VERSION: v2.3.0, PROTOCOL: V1, DETAIL: 6,6,XI1303,MC1303,v2.3.0, TYPE1300: [1, 1]\n",
      "change protocol identifier to 3\n",
      "[motion_enable], xArm is not ready to move\n",
      "[set_state], xArm is ready to move\n"
     ]
    }
   ],
   "source": [
    "\n",
    "robot.arm.save_conf()\n",
    "print(robot.arm.tcp_offset)\n",
    "robot.restart()"
   ]
  },
  {
   "cell_type": "code",
   "execution_count": 353,
   "metadata": {},
   "outputs": [
    {
     "data": {
      "text/plain": [
       "0"
      ]
     },
     "execution_count": 353,
     "metadata": {},
     "output_type": "execute_result"
    }
   ],
   "source": [
    "#prep position 1\n",
    "robot.arm.set_position(x=-681.9, y=66.7, z=9.8, roll=-140.8, pitch=86.1, yaw=40, speed=40)\n",
    "#pp2, ready to scoop\n",
    "robot.arm.set_position(x=-748.9, y=66.7, z=-107.6, roll=-176, pitch=62, yaw=5.3, speed=20)\n",
    "#bottom of scoop mechanism\n",
    "robot.arm.set_position(x=-788.5, y=67.7, z=-117.5, roll=-174.9, pitch=67, yaw=6.4, speed=10)\n",
    "# top of above\n",
    "robot.arm.set_position(x=-792.8, y=66.7, z=-105.3, roll=-174.1, pitch=69.4, yaw=7.1, speed=10)\n",
    "#lid\n",
    "robot.arm.set_position(x=-792.8, y=66.7, z=-66.8, roll=-149.8, pitch=85.2, yaw=31.1, speed=10)\n",
    "robot.arm.set_position(x=-714.6, y=66.7, z=-67.6, roll=-149.8, pitch=85.2, yaw=31.1, speed=10)\n",
    "#final\n",
    "robot.arm.set_position(x=-792.8, y=66.7, z=42.8, roll=-149.8, pitch=85.1, yaw=31.1, speed=40)\n",
    "\n"
   ]
  },
  {
   "cell_type": "code",
   "execution_count": 313,
   "metadata": {},
   "outputs": [
    {
     "data": {
      "text/plain": [
       "0"
      ]
     },
     "execution_count": 313,
     "metadata": {},
     "output_type": "execute_result"
    }
   ],
   "source": [
    "robot.arm.set_position(z=20,relative=True, speed=15, wait=True)"
   ]
  },
  {
   "cell_type": "code",
   "execution_count": 314,
   "metadata": {},
   "outputs": [
    {
     "data": {
      "text/plain": [
       "0"
      ]
     },
     "execution_count": 314,
     "metadata": {},
     "output_type": "execute_result"
    },
    {
     "name": "stdout",
     "output_type": "stream",
     "text": [
      "[SDK][ERROR][2025-04-04 14:04:23][base.py:293] - - [main-socket] recv error: [WinError 10054] An existing connection was forcibly closed by the remote host\n",
      "[SDK][ERROR][2025-04-04 14:04:23][base.py:247] - - [report-socket] recv error: [WinError 10054] An existing connection was forcibly closed by the remote host\n"
     ]
    }
   ],
   "source": [
    "robot.arm.set_position(z=-20,relative=True, speed=7, wait=True)"
   ]
  },
  {
   "cell_type": "code",
   "execution_count": 163,
   "metadata": {},
   "outputs": [
    {
     "ename": "KeyboardInterrupt",
     "evalue": "",
     "output_type": "error",
     "traceback": [
      "\u001b[1;31m---------------------------------------------------------------------------\u001b[0m",
      "\u001b[1;31mKeyboardInterrupt\u001b[0m                         Traceback (most recent call last)",
      "Cell \u001b[1;32mIn[163], line 8\u001b[0m\n\u001b[0;32m      5\u001b[0m time\u001b[38;5;241m.\u001b[39msleep(\u001b[38;5;241m0.5\u001b[39m)\n\u001b[0;32m      7\u001b[0m robot\u001b[38;5;241m.\u001b[39marm\u001b[38;5;241m.\u001b[39mset_position(x\u001b[38;5;241m=\u001b[39m\u001b[38;5;241m20\u001b[39m,y\u001b[38;5;241m=\u001b[39m\u001b[38;5;241m-\u001b[39m\u001b[38;5;241m5\u001b[39m,z\u001b[38;5;241m=\u001b[39m\u001b[38;5;241m80\u001b[39m,relative\u001b[38;5;241m=\u001b[39m\u001b[38;5;28;01mTrue\u001b[39;00m, speed\u001b[38;5;241m=\u001b[39m\u001b[38;5;241m45\u001b[39m, wait\u001b[38;5;241m=\u001b[39m\u001b[38;5;28;01mTrue\u001b[39;00m)\n\u001b[1;32m----> 8\u001b[0m \u001b[43mtime\u001b[49m\u001b[38;5;241;43m.\u001b[39;49m\u001b[43msleep\u001b[49m\u001b[43m(\u001b[49m\u001b[38;5;241;43m17\u001b[39;49m\u001b[43m)\u001b[49m\n",
      "\u001b[1;31mKeyboardInterrupt\u001b[0m: "
     ]
    }
   ],
   "source": [
    "total_time = 240\n",
    "start_time = time.time()\n",
    "while time.time() - start_time < total_time:\n",
    "    robot.arm.set_position(x=-20,y=5,z=-80,relative=True, speed=45, wait=True)\n",
    "    time.sleep(0.5)\n",
    "\n",
    "    robot.arm.set_position(x=20,y=-5,z=80,relative=True, speed=45, wait=True)\n",
    "    time.sleep(17)"
   ]
  },
  {
   "cell_type": "code",
   "execution_count": 222,
   "metadata": {},
   "outputs": [
    {
     "name": "stdout",
     "output_type": "stream",
     "text": [
      "ROBOT_IP: 192.168.1.200, VERSION: v2.3.0, PROTOCOL: V1, DETAIL: 6,6,XI1303,MC1303,v2.3.0, TYPE1300: [1, 1]\n",
      "change protocol identifier to 3\n"
     ]
    },
    {
     "data": {
      "text/plain": [
       "0"
      ]
     },
     "execution_count": 222,
     "metadata": {},
     "output_type": "execute_result"
    }
   ],
   "source": [
    "robot.restart()\n",
    "## ABOVE LC\n",
    "robot.arm.set_position(x=-545.3, y=55.8, z=-44.1, roll=180, pitch=87.8, yaw=0, speed=5)\n"
   ]
  },
  {
   "cell_type": "code",
   "execution_count": 7,
   "metadata": {},
   "outputs": [
    {
     "name": "stdout",
     "output_type": "stream",
     "text": [
      "ROBOT_IP: 192.168.1.200, VERSION: v2.3.0, PROTOCOL: V1, DETAIL: 6,6,XI1303,MC1303,v2.3.0, TYPE1300: [1, 1]\n",
      "change protocol identifier to 3\n",
      "[motion_enable], xArm is not ready to move\n",
      "[set_state], xArm is ready to move\n"
     ]
    },
    {
     "data": {
      "text/plain": [
       "0"
      ]
     },
     "execution_count": 7,
     "metadata": {},
     "output_type": "execute_result"
    },
    {
     "name": "stdout",
     "output_type": "stream",
     "text": [
      "ControllerError, code: 11\n",
      "servo_error_code, servo_id=1, status=1, code=40\n",
      "[SDK][ERROR][2025-03-31 11:48:25][base.py:247] - - [report-socket] recv error: [WinError 10054] An existing connection was forcibly closed by the remote host\n",
      "[SDK][ERROR][2025-03-31 11:48:25][base.py:293] - - [main-socket] recv error: [WinError 10054] An existing connection was forcibly closed by the remote host\n"
     ]
    }
   ],
   "source": [
    "robot.restart()\n",
    "robot.arm.set_position(x=-549.2, y=51.5, z=-58.9, roll=180, pitch=90, yaw=0, speed=1)"
   ]
  },
  {
   "cell_type": "code",
   "execution_count": 128,
   "metadata": {},
   "outputs": [
    {
     "data": {
      "text/plain": [
       "0"
      ]
     },
     "execution_count": 128,
     "metadata": {},
     "output_type": "execute_result"
    }
   ],
   "source": [
    "robot.arm.set_position(x=-20,y=5,z=-80,relative=True, speed=25, wait=True)"
   ]
  },
  {
   "cell_type": "code",
   "execution_count": null,
   "metadata": {},
   "outputs": [
    {
     "data": {
      "text/plain": [
       "0"
      ]
     },
     "execution_count": 129,
     "metadata": {},
     "output_type": "execute_result"
    },
    {
     "name": "stdout",
     "output_type": "stream",
     "text": [
      "[SDK][ERROR][2025-04-14 13:32:53][base.py:168] - - [report-socket] socket read timeout\n",
      "[SDK][ERROR][2025-04-14 13:33:15][base.py:293] - - [main-socket] recv error: [WinError 10054] An existing connection was forcibly closed by the remote host\n"
     ]
    }
   ],
   "source": [
    "robot.arm.set_position(x=20,y=-5,z=80,relative=True, speed=45, wait=True)"
   ]
  }
 ],
 "metadata": {
  "kernelspec": {
   "display_name": "Python 3",
   "language": "python",
   "name": "python3"
  },
  "language_info": {
   "codemirror_mode": {
    "name": "ipython",
    "version": 3
   },
   "file_extension": ".py",
   "mimetype": "text/x-python",
   "name": "python",
   "nbconvert_exporter": "python",
   "pygments_lexer": "ipython3",
   "version": "3.12.1"
  }
 },
 "nbformat": 4,
 "nbformat_minor": 2
}
