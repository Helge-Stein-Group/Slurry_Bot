{
 "cells": [
  {
   "cell_type": "code",
   "execution_count": 2,
   "metadata": {},
   "outputs": [
    {
     "name": "stdout",
     "output_type": "stream",
     "text": [
      "SDK_VERSION: 1.13.19\n"
     ]
    }
   ],
   "source": [
    "%load_ext autoreload\n",
    "%autoreload 2\n",
    "from Testing.Robot_wrapper import *"
   ]
  },
  {
   "cell_type": "code",
   "execution_count": 3,
   "metadata": {},
   "outputs": [
    {
     "name": "stdout",
     "output_type": "stream",
     "text": [
      "ROBOT_IP: 192.168.1.200, VERSION: v2.3.0, PROTOCOL: V1, DETAIL: 6,6,XI1303,MC1303,v2.3.0, TYPE1300: [1, 1]\n",
      "change protocol identifier to 3\n"
     ]
    }
   ],
   "source": [
    "robot = Robot()"
   ]
  },
  {
   "cell_type": "code",
   "execution_count": 197,
   "metadata": {},
   "outputs": [
    {
     "name": "stdout",
     "output_type": "stream",
     "text": [
      "ROBOT_IP: 192.168.1.200, VERSION: v2.3.0, PROTOCOL: V1, DETAIL: 6,6,XI1303,MC1303,v2.3.0, TYPE1300: [1, 1]\n",
      "change protocol identifier to 3\n",
      "ControllerError, code: 22\n",
      "[motion_enable], xArm is not ready to move\n",
      "[set_state], xArm is ready to move\n"
     ]
    },
    {
     "name": "stdout",
     "output_type": "stream",
     "text": [
      "ControllerError had clean\n"
     ]
    }
   ],
   "source": [
    "robot.restart()"
   ]
  },
  {
   "cell_type": "code",
   "execution_count": 114,
   "metadata": {},
   "outputs": [
    {
     "data": {
      "text/plain": [
       "0"
      ]
     },
     "execution_count": 114,
     "metadata": {},
     "output_type": "execute_result"
    }
   ],
   "source": [
    "robot.arm.set_linear_track_pos(600, wait=True)"
   ]
  },
  {
   "cell_type": "code",
   "execution_count": 334,
   "metadata": {},
   "outputs": [
    {
     "name": "stdout",
     "output_type": "stream",
     "text": [
      "[SDK][ERROR][2025-02-10 13:16:13][base.py:247] - - [report-socket] recv error: [WinError 10054] An existing connection was forcibly closed by the remote host\n",
      "[SDK][ERROR][2025-02-10 13:16:13][base.py:293] - - [main-socket] recv error: [WinError 10054] An existing connection was forcibly closed by the remote host\n"
     ]
    }
   ],
   "source": [
    "robot.GoTo_InitialPoint()"
   ]
  },
  {
   "cell_type": "code",
   "execution_count": 355,
   "metadata": {},
   "outputs": [
    {
     "name": "stdout",
     "output_type": "stream",
     "text": [
      "[SDK][ERROR][2025-02-13 11:21:31][base.py:293] - - [main-socket] recv error: [WinError 10054] An existing connection was forcibly closed by the remote host\n",
      "[SDK][ERROR][2025-02-13 11:21:31][base.py:247] - - [report-socket] recv error: [WinError 10054] An existing connection was forcibly closed by the remote host\n"
     ]
    }
   ],
   "source": [
    "robot.initialize()\n",
    "\n",
    "robot.GoTo_InitialPoint()\n"
   ]
  },
  {
   "cell_type": "code",
   "execution_count": 124,
   "metadata": {},
   "outputs": [
    {
     "data": {
      "text/plain": [
       "0"
      ]
     },
     "execution_count": 124,
     "metadata": {},
     "output_type": "execute_result"
    },
    {
     "name": "stdout",
     "output_type": "stream",
     "text": [
      "[SDK][ERROR][2025-02-04 11:29:04][base.py:247] - - [report-socket] recv error: [WinError 10054] An existing connection was forcibly closed by the remote host\n",
      "[SDK][ERROR][2025-02-04 11:29:04][base.py:293] - - [main-socket] recv error: [WinError 10054] An existing connection was forcibly closed by the remote host\n",
      "[SDK][ERROR][2025-02-04 11:29:04][base.py:247] - - [report-socket] recv error: [WinError 10054] An existing connection was forcibly closed by the remote host\n",
      "[SDK][ERROR][2025-02-04 11:29:04][base.py:247] - - [report-socket] recv error: [WinError 10054] An existing connection was forcibly closed by the remote host\n",
      "[SDK][ERROR][2025-02-04 11:29:04][base.py:293] - - [main-socket] recv error: [WinError 10054] An existing connection was forcibly closed by the remote host\n",
      "[SDK][ERROR][2025-02-04 11:29:04][base.py:293] - - [main-socket] recv error: [WinError 10054] An existing connection was forcibly closed by the remote host\n"
     ]
    }
   ],
   "source": [
    "robot.arm.set_linear_track_pos(600, wait=True)"
   ]
  },
  {
   "cell_type": "code",
   "execution_count": 352,
   "metadata": {},
   "outputs": [
    {
     "name": "stdout",
     "output_type": "stream",
     "text": [
      "[0.0, 0.0, 380.0, 0.0, 0.0, 0.0]\n",
      "ROBOT_IP: 192.168.1.200, VERSION: v2.3.0, PROTOCOL: V1, DETAIL: 6,6,XI1303,MC1303,v2.3.0, TYPE1300: [1, 1]\n",
      "change protocol identifier to 3\n",
      "[motion_enable], xArm is not ready to move\n",
      "[set_state], xArm is ready to move\n"
     ]
    }
   ],
   "source": [
    "robot.arm.set_tcp_offset([0,0,380,0,0,0])\n",
    "robot.arm.set_tcp_offset([0,0,380,0,0,0])\n",
    "robot.arm.save_conf()\n",
    "print(robot.arm.tcp_offset)\n",
    "robot.restart()"
   ]
  },
  {
   "cell_type": "code",
   "execution_count": 353,
   "metadata": {},
   "outputs": [
    {
     "data": {
      "text/plain": [
       "0"
      ]
     },
     "execution_count": 353,
     "metadata": {},
     "output_type": "execute_result"
    }
   ],
   "source": [
    "#prep position 1\n",
    "robot.arm.set_position(x=-681.9, y=66.7, z=9.8, roll=-140.8, pitch=86.1, yaw=40, speed=40)\n",
    "#pp2, ready to scoop\n",
    "robot.arm.set_position(x=-748.9, y=66.7, z=-107.6, roll=-176, pitch=62, yaw=5.3, speed=20)\n",
    "#bottom of scoop mechanism\n",
    "robot.arm.set_position(x=-788.5, y=67.7, z=-117.5, roll=-174.9, pitch=67, yaw=6.4, speed=10)\n",
    "# top of above\n",
    "robot.arm.set_position(x=-792.8, y=66.7, z=-105.3, roll=-174.1, pitch=69.4, yaw=7.1, speed=10)\n",
    "#lid\n",
    "robot.arm.set_position(x=-792.8, y=66.7, z=-66.8, roll=-149.8, pitch=85.2, yaw=31.1, speed=10)\n",
    "robot.arm.set_position(x=-714.6, y=66.7, z=-67.6, roll=-149.8, pitch=85.2, yaw=31.1, speed=10)\n",
    "#final\n",
    "robot.arm.set_position(x=-792.8, y=66.7, z=42.8, roll=-149.8, pitch=85.1, yaw=31.1, speed=40)\n",
    "\n"
   ]
  },
  {
   "cell_type": "code",
   "execution_count": 344,
   "metadata": {},
   "outputs": [
    {
     "name": "stdout",
     "output_type": "stream",
     "text": [
      "[0.0, 0.0, 395.0, 0.0, 0.0, 0.0]\n",
      "ROBOT_IP: 192.168.1.200, VERSION: v2.3.0, PROTOCOL: V1, DETAIL: 6,6,XI1303,MC1303,v2.3.0, TYPE1300: [1, 1]\n",
      "change protocol identifier to 3\n",
      "[motion_enable], xArm is not ready to move\n",
      "[set_state], xArm is ready to move\n"
     ]
    },
    {
     "data": {
      "text/plain": [
       "0"
      ]
     },
     "execution_count": 344,
     "metadata": {},
     "output_type": "execute_result"
    },
    {
     "name": "stdout",
     "output_type": "stream",
     "text": [
      "ControllerError, code: 31\n",
      "ControllerError had clean\n",
      "ControllerError, code: 11\n",
      "servo_error_code, servo_id=1, status=1, code=40\n",
      "servo_error_code, servo_id=3, status=1, code=40\n"
     ]
    }
   ],
   "source": [
    "robot.arm.set_tcp_offset([0,0,395,0,0,0])\n",
    "robot.arm.set_tcp_offset([0,0,395,0,0,0])\n",
    "robot.arm.save_conf()\n",
    "print(robot.arm.tcp_offset)\n",
    "robot.restart()\n",
    "robot.arm.set_position(x=-681.9, y=66.7, z=9.8, roll=-140.8, pitch=86.1, yaw=40, speed=40)\n",
    "#pp2, ready to scoop\n",
    "robot.arm.set_position(x=-748.9, y=66.7, z=-107.6, roll=-176, pitch=62, yaw=5.3, speed=20)"
   ]
  },
  {
   "cell_type": "code",
   "execution_count": 18,
   "metadata": {},
   "outputs": [
    {
     "name": "stdout",
     "output_type": "stream",
     "text": [
      "ROBOT_IP: 192.168.1.200, VERSION: v2.3.0, PROTOCOL: V1, DETAIL: 6,6,XI1303,MC1303,v2.3.0, TYPE1300: [1, 1]\n",
      "change protocol identifier to 3\n"
     ]
    },
    {
     "data": {
      "text/plain": [
       "0"
      ]
     },
     "execution_count": 18,
     "metadata": {},
     "output_type": "execute_result"
    }
   ],
   "source": [
    "robot.restart()\n",
    "## ABOVE LC\n",
    "robot.arm.set_position(x=-512.3, y=55.8, z=-44.1, roll=180, pitch=87.8, yaw=0, speed=5)\n"
   ]
  },
  {
   "cell_type": "code",
   "execution_count": 19,
   "metadata": {},
   "outputs": [
    {
     "name": "stdout",
     "output_type": "stream",
     "text": [
      "ROBOT_IP: 192.168.1.200, VERSION: v2.3.0, PROTOCOL: V1, DETAIL: 6,6,XI1303,MC1303,v2.3.0, TYPE1300: [1, 1]\n",
      "change protocol identifier to 3\n"
     ]
    },
    {
     "data": {
      "text/plain": [
       "0"
      ]
     },
     "execution_count": 19,
     "metadata": {},
     "output_type": "execute_result"
    },
    {
     "name": "stdout",
     "output_type": "stream",
     "text": [
      "ControllerError, code: 11\n",
      "servo_error_code, servo_id=1, status=1, code=40\n",
      "[SDK][ERROR][2025-03-25 11:36:34][base.py:168] - - [report-socket] socket read timeout\n",
      "[SDK][ERROR][2025-03-25 11:37:09][base.py:293] - - [main-socket] recv error: [WinError 10054] An existing connection was forcibly closed by the remote host\n",
      "[SDK][ERROR][2025-03-25 11:37:10][base.py:1212] - - report thread is break, connected=False, failed_cnts=8\n"
     ]
    }
   ],
   "source": [
    "robot.restart()\n",
    "robot.arm.set_position(x=-512.3, y=55.8, z=-53, roll=180, pitch=87.9, yaw=0, speed=1)"
   ]
  }
 ],
 "metadata": {
  "kernelspec": {
   "display_name": "Python 3",
   "language": "python",
   "name": "python3"
  },
  "language_info": {
   "codemirror_mode": {
    "name": "ipython",
    "version": 3
   },
   "file_extension": ".py",
   "mimetype": "text/x-python",
   "name": "python",
   "nbconvert_exporter": "python",
   "pygments_lexer": "ipython3",
   "version": "3.12.1"
  }
 },
 "nbformat": 4,
 "nbformat_minor": 2
}
