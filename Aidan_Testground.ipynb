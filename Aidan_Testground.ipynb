{
 "cells": [
  {
   "cell_type": "code",
   "execution_count": 43,
   "metadata": {},
   "outputs": [
    {
     "name": "stdout",
     "output_type": "stream",
     "text": [
      "SDK_VERSION: 1.13.19\n"
     ]
    }
   ],
   "source": [
    "%reload_ext autoreload\n",
    "%autoreload 2\n",
    "from Testing.Robot_wrapper import *"
   ]
  },
  {
   "cell_type": "code",
   "execution_count": 72,
   "metadata": {},
   "outputs": [
    {
     "name": "stdout",
     "output_type": "stream",
     "text": [
      "ROBOT_IP: 192.168.1.200, VERSION: v2.3.0, PROTOCOL: V1, DETAIL: 6,6,XI1303,MC1303,v2.3.0, TYPE1300: [1, 1]\n",
      "change protocol identifier to 3\n"
     ]
    }
   ],
   "source": [
    "robot = Robot()"
   ]
  },
  {
   "cell_type": "code",
   "execution_count": 73,
   "metadata": {},
   "outputs": [
    {
     "name": "stdout",
     "output_type": "stream",
     "text": [
      "ROBOT_IP: 192.168.1.200, VERSION: v2.3.0, PROTOCOL: V1, DETAIL: 6,6,XI1303,MC1303,v2.3.0, TYPE1300: [1, 1]\n",
      "change protocol identifier to 3\n"
     ]
    }
   ],
   "source": [
    "robot.restart()"
   ]
  },
  {
   "cell_type": "code",
   "execution_count": null,
   "metadata": {},
   "outputs": [
    {
     "data": {
      "text/plain": [
       "0"
      ]
     },
     "execution_count": 314,
     "metadata": {},
     "output_type": "execute_result"
    }
   ],
   "source": [
    "## old pieces \n",
    "robot.arm.set_gripper_position(800, wait=True)\n",
    "robot.arm.set_position(x=-508.2, y=177.7, z=47.4, roll=-80.9, pitch=89.1, yaw=9.3, speed=70, wait=True)  # y=265.6\n",
    "robot.arm.set_position(x=-506.2, y=405.2, z=3.3, roll=-80.9, pitch=89.1, yaw=9.3, speed=40, wait=True)  # y=265.6\n",
    "robot.arm.set_gripper_position(480, wait=True)\n",
    "\n",
    "robot.arm.set_position(z=81, relative=True, speed=14, wait=True)\n",
    "robot.arm.set_position(x=-397.8, y=283.3, z=70, roll=-80.9, pitch=89.1, yaw=9.3, speed=40, wait=True)  # y=265.6\n",
    "\n",
    "robot.arm.set_position(x=-292.3, y=433.3, z=150.8, roll=-80.9, pitch=89.1, yaw=9.3, speed=40, wait=True)  # y=265.6\n",
    "robot.arm.set_position(x=-292.3, y=433.3, z=82.3, roll=-80.9, pitch=89.1, yaw=9.3, speed=10, wait=True)  # y=265.6\n",
    "robot.arm.set_gripper_position(800, wait=True)\n"
   ]
  },
  {
   "cell_type": "code",
   "execution_count": 169,
   "metadata": {},
   "outputs": [],
   "source": [
    "### new pieces funnel \n",
    "def place_funnel():\n",
    "    robot.arm.set_gripper_position(800, wait=True)\n",
    "    robot.arm.set_position(x=-508.2, y=177.7, z=47.4, roll=-80.9, pitch=89.1, yaw=9.3, speed=70, wait=True)  # y=265.6\n",
    "    robot.arm.set_position(x=-508.2, y=407.2, z=-18.5, roll=-80.9, pitch=89.1, yaw=9.3, speed=40, wait=True)  # y=265.6\n",
    "    robot.arm.set_gripper_position(503, wait=True)\n",
    "\n",
    "    robot.arm.set_position(z=81, relative=True, speed=14, wait=True)\n",
    "    robot.arm.set_position(x=-397.8, y=283.3, z=70, roll=-80.9, pitch=89.1, yaw=9.3, speed=40, wait=True)  # y=265.6\n",
    "\n",
    "    robot.arm.set_position(x=-292.3, y=433.3, z=150.8, roll=-80.9, pitch=89.1, yaw=9.3, speed=40, wait=True)  # y=265.6\n",
    "    robot.arm.set_position(x=-292.3, y=433.3, z=87.5, roll=-80.9, pitch=89.1, yaw=9.3, speed=10, wait=True)  # y=265.6\n",
    "\n",
    "    robot.arm.set_gripper_position(800, wait=True)\n",
    "    robot.arm.set_position(y=-181, relative=True, speed=34, wait=True)\n",
    "\n"
   ]
  },
  {
   "cell_type": "code",
   "execution_count": 185,
   "metadata": {},
   "outputs": [
    {
     "name": "stdout",
     "output_type": "stream",
     "text": [
      "Weight dispensed: 0.0\n",
      "Weight dispensed: 0.3298\n",
      "Weight dispensed: 0.5304\n",
      "Weight dispensed: 0.706\n",
      "Weight dispensed: 0.8003\n"
     ]
    }
   ],
   "source": [
    "\n",
    "scale.tare()\n",
    "weight_dispensed = scale.measure_stable().value\n",
    "print(f\"Weight dispensed: {weight_dispensed}\")\n",
    "\n",
    "scoop_new()\n",
    "weight_dispensed = scale.measure_stable().value\n",
    "print(f\"Weight dispensed: {weight_dispensed}\")\n",
    "\n",
    "rescoop()\n",
    "weight_dispensed = scale.measure_stable().value\n",
    "print(f\"Weight dispensed: {weight_dispensed}\")\n",
    "\n",
    "rescoop()\n",
    "weight_dispensed = scale.measure_stable().value\n",
    "print(f\"Weight dispensed: {weight_dispensed}\")\n",
    "\n",
    "rescoop()\n",
    "weight_dispensed = scale.measure_stable().value\n",
    "print(f\"Weight dispensed: {weight_dispensed}\")\n",
    "\n",
    "\n",
    "replace_spatula()   \n",
    "replace_funnel()"
   ]
  },
  {
   "cell_type": "code",
   "execution_count": 49,
   "metadata": {},
   "outputs": [
    {
     "name": "stdout",
     "output_type": "stream",
     "text": [
      "Weight dispensed: 0.0\n",
      "Weight dispensed: 0.0\n",
      "[SDK][ERROR][2025-05-12 14:02:46][base.py:374] - - wait_feedback, xarm is stop, state=4\n",
      "[SDK][ERROR][2025-05-12 14:02:46][base.py:374] - - API -> set_position -> code=9, pos=[-464.4, 94.5, -39.1, -3.0787608005179976, 1.165879940332212, 0.04014257279586958], radius=-1, velo=10.0, acc=2000\n",
      "[SDK][ERROR][2025-05-12 14:02:46][base.py:374] - - API -> set_position -> code=9, pos=[-504.7, 94.5, -54.3, -3.0787608005179976, 1.165879940332212, 0.04014257279586958], radius=-1, velo=10.0, acc=2000\n",
      "[SDK][ERROR][2025-05-12 14:02:46][base.py:374] - - API -> set_position -> code=9, pos=[-504.7, 94.5, -27.0, -2.9461157773664284, 1.478293876439197, 0.1710422666954443], radius=-1, velo=10.0, acc=2000\n",
      "[SDK][ERROR][2025-05-12 14:02:46][base.py:374] - - API -> set_position -> code=9, pos=[-332.3, 102.3, 79.5, -2.9461157773664284, 1.478293876439197, -1.3700834628155487], radius=-1, velo=30.0, acc=2000\n",
      "[SDK][ERROR][2025-05-12 14:02:46][base.py:374] - - API -> set_position -> code=9, pos=[-282.4, 268.4, 161.6, -2.9461157773664284, 1.478293876439197, -1.3700834628155487], radius=-1, velo=30.0, acc=2000\n",
      "[SDK][ERROR][2025-05-12 14:02:46][base.py:374] - - API -> set_position -> code=9, pos=[-293.4, 316.1, 186.2, -3.080506129769992, 0.9110618695410401, -1.4992378274631293], radius=-1, velo=30.0, acc=2000\n",
      "[SDK][ERROR][2025-05-12 14:02:46][base.py:374] - - API -> set_position -> code=9, pos=[-293.4, 335.3, 218.8, -3.1049407392979123, 0.6318091892219474, -1.5166911199830724], radius=-1, velo=40.0, acc=2000\n",
      "[SDK][ERROR][2025-05-12 14:02:46][base.py:374] - - API -> set_position -> code=9, pos=[-293.4, 335.3, 218.8, -2.872811948782666, 0.609119908946021, -1.3823007675795091], radius=-1, velo=40.0, acc=2000\n",
      "[SDK][ERROR][2025-05-12 14:02:46][base.py:374] - - API -> set_position -> code=9, pos=[-293.4, 335.3, 218.8, 2.9792770331543204, 0.6318091892219474, -1.6353735091186867], radius=-1, velo=40.0, acc=2000\n",
      "[SDK][ERROR][2025-05-12 14:02:46][base.py:374] - - API -> set_position -> code=9, pos=[-282.4, 137.9, 285.5, -3.1276300195738385, 0.6335545184739416, -1.530653753999027], radius=-1, velo=30.0, acc=2000\n",
      "[SDK][ERROR][2025-05-12 14:02:46][base.py:374] - - API -> set_position -> code=9, pos=[-443.2, 89.2, 285.5, -2.5237460983838003, 1.494001839707146, -0.9599310885968813], radius=-1, velo=30.0, acc=2000\n",
      "Weight dispensed: 0.0\n",
      "[SDK][ERROR][2025-05-12 14:02:46][base.py:374] - - API -> set_position -> code=9, pos=[-457.5, 98.0, -58.8, -3.036872898470133, 1.3735741213195374, 0.08028514559173916], radius=-1, velo=40.0, acc=2000\n",
      "[SDK][ERROR][2025-05-12 14:02:46][base.py:374] - - API -> set_position -> code=9, pos=[-464.4, 94.5, -39.1, -3.0787608005179976, 1.165879940332212, 0.04014257279586958], radius=-1, velo=10.0, acc=2000\n",
      "[SDK][ERROR][2025-05-12 14:02:46][base.py:374] - - API -> set_position -> code=9, pos=[-504.7, 94.5, -54.3, -3.0787608005179976, 1.165879940332212, 0.04014257279586958], radius=-1, velo=10.0, acc=2000\n",
      "[SDK][ERROR][2025-05-12 14:02:46][base.py:374] - - API -> set_position -> code=9, pos=[-504.7, 94.5, -27.0, -2.9461157773664284, 1.478293876439197, 0.1710422666954443], radius=-1, velo=10.0, acc=2000\n",
      "[SDK][ERROR][2025-05-12 14:02:46][base.py:374] - - API -> set_position -> code=9, pos=[-332.3, 102.3, 79.5, -2.9461157773664284, 1.478293876439197, -1.3700834628155487], radius=-1, velo=30.0, acc=2000\n",
      "[SDK][ERROR][2025-05-12 14:02:46][base.py:374] - - API -> set_position -> code=9, pos=[-282.4, 268.4, 161.6, -2.9461157773664284, 1.478293876439197, -1.3700834628155487], radius=-1, velo=30.0, acc=2000\n",
      "[SDK][ERROR][2025-05-12 14:02:46][base.py:374] - - API -> set_position -> code=9, pos=[-293.4, 316.1, 186.2, -3.080506129769992, 0.9110618695410401, -1.4992378274631293], radius=-1, velo=30.0, acc=2000\n",
      "[SDK][ERROR][2025-05-12 14:02:46][base.py:374] - - API -> set_position -> code=9, pos=[-293.4, 335.3, 218.8, -3.1049407392979123, 0.6318091892219474, -1.5166911199830724], radius=-1, velo=40.0, acc=2000\n",
      "[SDK][ERROR][2025-05-12 14:02:46][base.py:374] - - API -> set_position -> code=9, pos=[-293.4, 335.3, 218.8, -2.872811948782666, 0.609119908946021, -1.3823007675795091], radius=-1, velo=40.0, acc=2000\n",
      "[SDK][ERROR][2025-05-12 14:02:46][base.py:374] - - API -> set_position -> code=9, pos=[-293.4, 335.3, 218.8, 2.9792770331543204, 0.6318091892219474, -1.6353735091186867], radius=-1, velo=40.0, acc=2000\n",
      "[SDK][ERROR][2025-05-12 14:02:46][base.py:374] - - API -> set_position -> code=9, pos=[-282.4, 137.9, 285.5, -3.1276300195738385, 0.6335545184739416, -1.530653753999027], radius=-1, velo=30.0, acc=2000\n",
      "[SDK][ERROR][2025-05-12 14:02:46][base.py:374] - - API -> set_position -> code=9, pos=[-443.2, 89.2, 285.5, -2.5237460983838003, 1.494001839707146, -0.9599310885968813], radius=-1, velo=30.0, acc=2000\n",
      "Weight dispensed: 0.0\n"
     ]
    }
   ],
   "source": [
    "## scoop test loop to see variance in spatula scoop weights\n",
    "\n",
    "place_funnel()\n",
    "scale.tare()\n",
    "scoop()\n",
    "weight_dispensed = scale.measure_stable().value\n",
    "print(f\"Weight dispensed: {weight_dispensed}\")\n",
    "scale.tare()\n",
    "rescoop()\n",
    "weight_dispensed = scale.measure_stable().value\n",
    "print(f\"Weight dispensed: {weight_dispensed}\")\n",
    "scale.tare()\n",
    "rescoop()\n",
    "weight_dispensed = scale.measure_stable().value\n",
    "print(f\"Weight dispensed: {weight_dispensed}\")\n",
    "scale.tare()\n",
    "rescoop()\n",
    "weight_dispensed = scale.measure_stable().value\n",
    "print(f\"Weight dispensed: {weight_dispensed}\")\n"
   ]
  },
  {
   "cell_type": "code",
   "execution_count": 39,
   "metadata": {},
   "outputs": [
    {
     "name": "stdout",
     "output_type": "stream",
     "text": [
      "target weight 25.0 grams\n"
     ]
    }
   ],
   "source": [
    "try: \n",
    "    target_input = input(\"enter target weight (g)\")\n",
    "    target_weight = float(target_input)\n",
    "    print(f\"target weight {target_weight} grams\")\n",
    "except ValueError:\n",
    "    print(\"invalid target weight\")\n",
    "\n"
   ]
  },
  {
   "cell_type": "code",
   "execution_count": 40,
   "metadata": {},
   "outputs": [
    {
     "name": "stdout",
     "output_type": "stream",
     "text": [
      "needed: 0.43349999999999866\n"
     ]
    }
   ],
   "source": [
    "def calc_weight_needed(weight_dispensed, target_weight):\n",
    "    weight_needed = target_weight - weight_dispensed\n",
    "    return weight_needed\n",
    "weight_needed = calc_weight_needed(weight_dispensed, target_weight)\n",
    "print(f\"needed: {weight_needed}\")\n",
    "\n",
    "def restart(): \n",
    "    print(\"weight overshot, restarting\")\n",
    "\n",
    "overshoot_error = 0.4\n",
    "if weight_needed < -overshoot_error:\n",
    "    restart()"
   ]
  },
  {
   "cell_type": "code",
   "execution_count": 42,
   "metadata": {},
   "outputs": [
    {
     "name": "stdout",
     "output_type": "stream",
     "text": [
      "using medium spatula\n"
     ]
    }
   ],
   "source": [
    "def use_large_spatula():\n",
    "    print(\"using large spatula\")\n",
    "\n",
    "def use_medium_spatula():\n",
    "    print(\"using medium spatula\")\n",
    "\n",
    "def use_small_spatula():\n",
    "    print(\"using small spatula\")\n",
    "\n",
    "def select_spatula(weight_needed):\n",
    "    if weight_needed > 1:\n",
    "        use_large_spatula()\n",
    "        return \"large\"\n",
    "    elif weight_needed > 0.4:\n",
    "        use_medium_spatula()\n",
    "        return \"medium\"\n",
    "    else: \n",
    "        use_small_spatula()\n",
    "        return \"small\"\n",
    "\n",
    "spatula = select_spatula(weight_needed)"
   ]
  },
  {
   "cell_type": "code",
   "execution_count": 28,
   "metadata": {},
   "outputs": [
    {
     "name": "stdout",
     "output_type": "stream",
     "text": [
      "24.5665\n"
     ]
    }
   ],
   "source": [
    "weight_dispensed = scale.measure_stable().value\n",
    "print (weight_dispensed)"
   ]
  },
  {
   "cell_type": "code",
   "execution_count": 441,
   "metadata": {},
   "outputs": [],
   "source": [
    "locations = {\n",
    "    \"funnel_approach\": (-508.2, 177.7, 47.4, -80.9, 89.1, 9.3, 70),\n",
    "    \"funnel_grab\": (-508.2, 407.2, -18.5, -80.9, 89.1, 9.3, 30),\n",
    "    \"funnel_approach_scales\": (-397.8, 283.3, 70, -80.9, 89.1, 9.3, 50),\n",
    "    \"funnel_approach_vial\": (-292.3, 433.3, 150.8, -80.9, 89.1, 9.3, 50)\n",
    "}"
   ]
  },
  {
   "cell_type": "code",
   "execution_count": null,
   "metadata": {},
   "outputs": [],
   "source": [
    "def move_to_named(name):\n",
    "    if name in locations:\n",
    "        x, y, z, roll, pitch, yaw, speed, = locations[name]\n",
    "        robot.arm.set_position(x, y, z, roll, pitch, yaw, speed)\n",
    "    else:\n",
    "        print(f\"unknown position: {name}\")"
   ]
  },
  {
   "cell_type": "code",
   "execution_count": 442,
   "metadata": {},
   "outputs": [
    {
     "data": {
      "text/plain": [
       "0"
      ]
     },
     "execution_count": 442,
     "metadata": {},
     "output_type": "execute_result"
    }
   ],
   "source": [
    "# place funnel\n",
    "move_to_named(\"funnel_approach\")\n",
    "robot.arm.set_gripper_position(800, wait=True)\n",
    "move_to_named(\"funnel_grab\")\n",
    "robot.arm.set_gripper_position(503, wait=True)\n",
    "robot.arm.set_position(z=81, relative=True, speed=14, wait=True)\n",
    "move_to_named(\"funnel_approach_scales\")\n",
    "move_to_named(\"funnel_approach_vial\")\n",
    "robot.arm.set_position(z=-68.5, relative=True, speed=14, wait=True)\n",
    "robot.arm.set_gripper_position(800, wait=True)\n",
    "robot.arm.set_position(y=-181, relative=True, speed=34, wait=True)\n",
    "\n"
   ]
  },
  {
   "cell_type": "code",
   "execution_count": 167,
   "metadata": {},
   "outputs": [],
   "source": [
    "# new funnel replacement\n",
    "def replace_funnel():\n",
    "    robot.arm.set_gripper_position(800, wait=True)\n",
    "\n",
    "    robot.arm.set_position(x=-292.3, y=233.3, z=150.8, roll=-80.9, pitch=89.1, yaw=9.3, speed=40, wait=True)  # y=265.6\n",
    "    robot.arm.set_position(x=-292.3, y=433.3, z=82.3, roll=-80.9, pitch=89.1, yaw=9.3, speed=10, wait=True)  # y=265.6\n",
    "    robot.arm.set_gripper_position(503, wait=True)\n",
    "\n",
    "    robot.arm.set_position(x=-292.3, y=433.3, z=148, roll=-80.9, pitch=89.1, yaw=9.3, speed=10, wait=True)  # y=265.6\n",
    "    robot.arm.set_position(x=-300.3, y=240.5, z=120.1, roll=-80.9, pitch=89.1, yaw=9.3, speed=40, wait=True)  # y=265.6\n",
    "\n",
    "    robot.arm.set_position(x=-506.2, y=405.2, z=83.3, roll=-80.9, pitch=89.1, yaw=9.3, speed=40, wait=True)  # y=265.6\n",
    "    robot.arm.set_position(x=-506.2, y=406.2, z=-16.8, roll=-80.9, pitch=89.1, yaw=9.3, speed=5, wait=True)  # y=265.6\n",
    "    robot.arm.set_gripper_position(800, wait=True)\n",
    "    robot.arm.set_position(y=-181, relative=True, speed=34, wait=True)\n",
    "\n"
   ]
  },
  {
   "cell_type": "code",
   "execution_count": null,
   "metadata": {},
   "outputs": [
    {
     "data": {
      "text/plain": [
       "0"
      ]
     },
     "execution_count": 315,
     "metadata": {},
     "output_type": "execute_result"
    }
   ],
   "source": [
    "# old replacement\n",
    "robot.arm.set_gripper_position(800, wait=True)\n",
    "robot.arm.set_position(y=-181, relative=True, speed=34, wait=True)\n",
    "\n",
    "robot.arm.set_position(x=-292.3, y=233.3, z=150.8, roll=-80.9, pitch=89.1, yaw=9.3, speed=40, wait=True)  # y=265.6\n",
    "robot.arm.set_position(x=-292.3, y=433.3, z=82.3, roll=-80.9, pitch=89.1, yaw=9.3, speed=10, wait=True)  # y=265.6\n",
    "robot.arm.set_gripper_position(480, wait=True)\n",
    "\n",
    "robot.arm.set_position(x=-292.3, y=433.3, z=148, roll=-80.9, pitch=89.1, yaw=9.3, speed=10, wait=True)  # y=265.6\n",
    "robot.arm.set_position(x=-300.3, y=240.5, z=120.1, roll=-80.9, pitch=89.1, yaw=9.3, speed=40, wait=True)  # y=265.6\n",
    "\n",
    "robot.arm.set_position(x=-506.2, y=405.2, z=83.3, roll=-80.9, pitch=89.1, yaw=9.3, speed=40, wait=True)  # y=265.6\n",
    "robot.arm.set_position(x=-506.2, y=405.2, z=5.7, roll=-80.9, pitch=89.1, yaw=9.3, speed=5, wait=True)  # y=265.6\n",
    "robot.arm.set_gripper_position(800, wait=True)\n",
    "\n",
    "\n"
   ]
  },
  {
   "cell_type": "code",
   "execution_count": 186,
   "metadata": {},
   "outputs": [
    {
     "name": "stdout",
     "output_type": "stream",
     "text": [
      "ROBOT_IP: 192.168.1.200, VERSION: v2.3.0, PROTOCOL: V1, DETAIL: 6,6,XI1303,MC1303,v2.3.0, TYPE1300: [1, 1]\n",
      "change protocol identifier to 3\n"
     ]
    },
    {
     "name": "stdout",
     "output_type": "stream",
     "text": [
      "ControllerError, code: 11\n",
      "servo_error_code, servo_id=1, status=1, code=40\n",
      "servo_error_code, servo_id=3, status=1, code=40\n",
      "[SDK][ERROR][2025-05-13 12:49:53][base.py:168] - - [report-socket] socket read timeout\n",
      "[SDK][ERROR][2025-05-13 12:50:32][base.py:293] - - [main-socket] recv error: [WinError 10054] An existing connection was forcibly closed by the remote host\n",
      "[SDK][ERROR][2025-05-13 12:50:33][base.py:1212] - - report thread is break, connected=False, failed_cnts=9\n"
     ]
    }
   ],
   "source": [
    "robot.initialize()\n",
    "robot.GoTo_InitialPoint()\n",
    "robot.restart()\n"
   ]
  },
  {
   "cell_type": "code",
   "execution_count": 161,
   "metadata": {},
   "outputs": [],
   "source": [
    "from Drivers.scale_driver import *"
   ]
  },
  {
   "cell_type": "code",
   "execution_count": null,
   "metadata": {},
   "outputs": [],
   "source": []
  },
  {
   "cell_type": "code",
   "execution_count": 181,
   "metadata": {},
   "outputs": [],
   "source": [
    "scale = Scale('COM4', 9600, 10)"
   ]
  },
  {
   "cell_type": "code",
   "execution_count": 182,
   "metadata": {},
   "outputs": [],
   "source": [
    "scale.connect()"
   ]
  },
  {
   "cell_type": "code",
   "execution_count": 183,
   "metadata": {},
   "outputs": [],
   "source": [
    "scale.tare()"
   ]
  },
  {
   "cell_type": "code",
   "execution_count": 184,
   "metadata": {},
   "outputs": [
    {
     "data": {
      "text/plain": [
       "Measurement(mode='N', value=0.0, unit='g', stable=True, message=None)"
      ]
     },
     "execution_count": 184,
     "metadata": {},
     "output_type": "execute_result"
    }
   ],
   "source": [
    "scale.measure_stable()"
   ]
  },
  {
   "cell_type": "code",
   "execution_count": 391,
   "metadata": {},
   "outputs": [
    {
     "data": {
      "text/plain": [
       "0"
      ]
     },
     "execution_count": 391,
     "metadata": {},
     "output_type": "execute_result"
    }
   ],
   "source": [
    "# new spatula\n",
    "robot.arm.set_gripper_position(800, wait=True)\n",
    "robot.arm.set_position(x=-499.9, y=212.8, z=300.7, roll=-80.9, pitch=89.1, yaw=9.3, speed=40, wait=True)  # y=265.6\n",
    "robot.arm.set_position(x=-476.8, y=396.7, z=243.7, roll=-80.9, pitch=89.1, yaw=9.3, speed=30, wait=True)  # y=265.6\n",
    "#pick up spatula\n",
    "robot.arm.set_gripper_position(290, wait=True)\n",
    "robot.arm.set_position(z=81, relative=True, speed=14, wait=True)\n",
    "robot.arm.set_position(y=-200, relative=True, speed=44, wait=True)\n",
    "\n",
    "#scoop\n",
    "robot.arm.set_position(x=-457.5, y=98, z=-58.8, roll=-174, pitch=78.7, yaw=4.6, speed=40, wait=True)  # y=265.6"
   ]
  },
  {
   "cell_type": "code",
   "execution_count": null,
   "metadata": {},
   "outputs": [],
   "source": [
    "  # new sample bin\n",
    "def scoop():\n",
    "    robot.arm.set_gripper_position(800, wait=True)\n",
    "    robot.arm.set_position(x=-499.9, y=212.8, z=300.7, roll=-80.9, pitch=89.1, yaw=9.3, speed=60, wait=True)  # y=265.6\n",
    "    robot.arm.set_position(x=-476.8, y=396.7, z=243, roll=-80.9, pitch=89.1, yaw=9.3, speed=30, wait=True)  # y=265.6\n",
    "    #pick up spatula\n",
    "    robot.arm.set_gripper_position(290, wait=True)\n",
    "    robot.arm.set_position(z=81, relative=True, speed=14, wait=True)\n",
    "    robot.arm.set_position(y=-200, relative=True, speed=44, wait=True)"
   ]
  },
  {
   "cell_type": "code",
   "execution_count": 114,
   "metadata": {},
   "outputs": [
    {
     "ename": "KeyboardInterrupt",
     "evalue": "",
     "output_type": "error",
     "traceback": [
      "\u001b[1;31m---------------------------------------------------------------------------\u001b[0m",
      "\u001b[1;31mKeyboardInterrupt\u001b[0m                         Traceback (most recent call last)",
      "Cell \u001b[1;32mIn[114], line 1\u001b[0m\n\u001b[1;32m----> 1\u001b[0m \u001b[43mscoop\u001b[49m\u001b[43m(\u001b[49m\u001b[43m)\u001b[49m\n",
      "Cell \u001b[1;32mIn[113], line 18\u001b[0m, in \u001b[0;36mscoop\u001b[1;34m()\u001b[0m\n\u001b[0;32m     16\u001b[0m robot\u001b[38;5;241m.\u001b[39marm\u001b[38;5;241m.\u001b[39mset_position(x\u001b[38;5;241m=\u001b[39m\u001b[38;5;241m-\u001b[39m\u001b[38;5;241m527.2\u001b[39m, y\u001b[38;5;241m=\u001b[39m\u001b[38;5;241m70\u001b[39m, z\u001b[38;5;241m=\u001b[39m\u001b[38;5;241m-\u001b[39m\u001b[38;5;241m55.5\u001b[39m, roll\u001b[38;5;241m=\u001b[39m\u001b[38;5;241m-\u001b[39m\u001b[38;5;241m166\u001b[39m, pitch\u001b[38;5;241m=\u001b[39m\u001b[38;5;241m85.8\u001b[39m, yaw\u001b[38;5;241m=\u001b[39m\u001b[38;5;241m13.5\u001b[39m, speed\u001b[38;5;241m=\u001b[39m\u001b[38;5;241m10\u001b[39m, wait\u001b[38;5;241m=\u001b[39m\u001b[38;5;28;01mTrue\u001b[39;00m)  \u001b[38;5;66;03m# y=265.6\u001b[39;00m\n\u001b[0;32m     17\u001b[0m \u001b[38;5;66;03m# reposition \u001b[39;00m\n\u001b[1;32m---> 18\u001b[0m \u001b[43mrobot\u001b[49m\u001b[38;5;241;43m.\u001b[39;49m\u001b[43marm\u001b[49m\u001b[38;5;241;43m.\u001b[39;49m\u001b[43mset_position\u001b[49m\u001b[43m(\u001b[49m\u001b[43mx\u001b[49m\u001b[38;5;241;43m=\u001b[39;49m\u001b[38;5;241;43m-\u001b[39;49m\u001b[38;5;241;43m332.3\u001b[39;49m\u001b[43m,\u001b[49m\u001b[43m \u001b[49m\u001b[43my\u001b[49m\u001b[38;5;241;43m=\u001b[39;49m\u001b[38;5;241;43m102.3\u001b[39;49m\u001b[43m,\u001b[49m\u001b[43m \u001b[49m\u001b[43mz\u001b[49m\u001b[38;5;241;43m=\u001b[39;49m\u001b[38;5;241;43m79.5\u001b[39;49m\u001b[43m,\u001b[49m\u001b[43m \u001b[49m\u001b[43mroll\u001b[49m\u001b[38;5;241;43m=\u001b[39;49m\u001b[38;5;241;43m-\u001b[39;49m\u001b[38;5;241;43m168.8\u001b[39;49m\u001b[43m,\u001b[49m\u001b[43m \u001b[49m\u001b[43mpitch\u001b[49m\u001b[38;5;241;43m=\u001b[39;49m\u001b[38;5;241;43m84.7\u001b[39;49m\u001b[43m,\u001b[49m\u001b[43m \u001b[49m\u001b[43myaw\u001b[49m\u001b[38;5;241;43m=\u001b[39;49m\u001b[38;5;241;43m-\u001b[39;49m\u001b[38;5;241;43m78.5\u001b[39;49m\u001b[43m,\u001b[49m\u001b[43m \u001b[49m\u001b[43mspeed\u001b[49m\u001b[38;5;241;43m=\u001b[39;49m\u001b[38;5;241;43m30\u001b[39;49m\u001b[43m,\u001b[49m\u001b[43m \u001b[49m\u001b[43mwait\u001b[49m\u001b[38;5;241;43m=\u001b[39;49m\u001b[38;5;28;43;01mTrue\u001b[39;49;00m\u001b[43m)\u001b[49m  \u001b[38;5;66;03m# y=265.6\u001b[39;00m\n\u001b[0;32m     19\u001b[0m robot\u001b[38;5;241m.\u001b[39marm\u001b[38;5;241m.\u001b[39mset_position(x\u001b[38;5;241m=\u001b[39m\u001b[38;5;241m-\u001b[39m\u001b[38;5;241m282.4\u001b[39m, y\u001b[38;5;241m=\u001b[39m\u001b[38;5;241m268.4\u001b[39m, z\u001b[38;5;241m=\u001b[39m\u001b[38;5;241m161.6\u001b[39m, roll\u001b[38;5;241m=\u001b[39m\u001b[38;5;241m-\u001b[39m\u001b[38;5;241m168.8\u001b[39m, pitch\u001b[38;5;241m=\u001b[39m\u001b[38;5;241m84.7\u001b[39m, yaw\u001b[38;5;241m=\u001b[39m\u001b[38;5;241m-\u001b[39m\u001b[38;5;241m78.5\u001b[39m, speed\u001b[38;5;241m=\u001b[39m\u001b[38;5;241m30\u001b[39m, wait\u001b[38;5;241m=\u001b[39m\u001b[38;5;28;01mTrue\u001b[39;00m)  \u001b[38;5;66;03m# y=265.6\u001b[39;00m\n\u001b[0;32m     21\u001b[0m \u001b[38;5;66;03m# dispensing\u001b[39;00m\n",
      "File \u001b[1;32mc:\\Users\\digic\\AppData\\Local\\Programs\\Python\\Python312\\Lib\\site-packages\\xarm\\wrapper\\xarm_api.py:820\u001b[0m, in \u001b[0;36mXArmAPI.set_position\u001b[1;34m(self, x, y, z, roll, pitch, yaw, radius, speed, mvacc, mvtime, relative, is_radian, wait, timeout, **kwargs)\u001b[0m\n\u001b[0;32m    770\u001b[0m \u001b[38;5;28;01mdef\u001b[39;00m \u001b[38;5;21mset_position\u001b[39m(\u001b[38;5;28mself\u001b[39m, x\u001b[38;5;241m=\u001b[39m\u001b[38;5;28;01mNone\u001b[39;00m, y\u001b[38;5;241m=\u001b[39m\u001b[38;5;28;01mNone\u001b[39;00m, z\u001b[38;5;241m=\u001b[39m\u001b[38;5;28;01mNone\u001b[39;00m, roll\u001b[38;5;241m=\u001b[39m\u001b[38;5;28;01mNone\u001b[39;00m, pitch\u001b[38;5;241m=\u001b[39m\u001b[38;5;28;01mNone\u001b[39;00m, yaw\u001b[38;5;241m=\u001b[39m\u001b[38;5;28;01mNone\u001b[39;00m, radius\u001b[38;5;241m=\u001b[39m\u001b[38;5;28;01mNone\u001b[39;00m,\n\u001b[0;32m    771\u001b[0m                  speed\u001b[38;5;241m=\u001b[39m\u001b[38;5;28;01mNone\u001b[39;00m, mvacc\u001b[38;5;241m=\u001b[39m\u001b[38;5;28;01mNone\u001b[39;00m, mvtime\u001b[38;5;241m=\u001b[39m\u001b[38;5;28;01mNone\u001b[39;00m, relative\u001b[38;5;241m=\u001b[39m\u001b[38;5;28;01mFalse\u001b[39;00m, is_radian\u001b[38;5;241m=\u001b[39m\u001b[38;5;28;01mNone\u001b[39;00m,\n\u001b[0;32m    772\u001b[0m                  wait\u001b[38;5;241m=\u001b[39m\u001b[38;5;28;01mFalse\u001b[39;00m, timeout\u001b[38;5;241m=\u001b[39m\u001b[38;5;28;01mNone\u001b[39;00m, \u001b[38;5;241m*\u001b[39m\u001b[38;5;241m*\u001b[39mkwargs):\n\u001b[0;32m    773\u001b[0m \u001b[38;5;250m    \u001b[39m\u001b[38;5;124;03m\"\"\"\u001b[39;00m\n\u001b[0;32m    774\u001b[0m \u001b[38;5;124;03m    Set the cartesian position, the API will modify self.last_used_position value\u001b[39;00m\n\u001b[0;32m    775\u001b[0m \u001b[38;5;124;03m    Note:\u001b[39;00m\n\u001b[1;32m   (...)\u001b[0m\n\u001b[0;32m    818\u001b[0m \u001b[38;5;124;03m            code >= 0: the last_used_position/last_used_tcp_speed/last_used_tcp_acc will be modified\u001b[39;00m\n\u001b[0;32m    819\u001b[0m \u001b[38;5;124;03m    \"\"\"\u001b[39;00m\n\u001b[1;32m--> 820\u001b[0m     \u001b[38;5;28;01mreturn\u001b[39;00m \u001b[38;5;28;43mself\u001b[39;49m\u001b[38;5;241;43m.\u001b[39;49m\u001b[43m_arm\u001b[49m\u001b[38;5;241;43m.\u001b[39;49m\u001b[43mset_position\u001b[49m\u001b[43m(\u001b[49m\u001b[43mx\u001b[49m\u001b[38;5;241;43m=\u001b[39;49m\u001b[43mx\u001b[49m\u001b[43m,\u001b[49m\u001b[43m \u001b[49m\u001b[43my\u001b[49m\u001b[38;5;241;43m=\u001b[39;49m\u001b[43my\u001b[49m\u001b[43m,\u001b[49m\u001b[43m \u001b[49m\u001b[43mz\u001b[49m\u001b[38;5;241;43m=\u001b[39;49m\u001b[43mz\u001b[49m\u001b[43m,\u001b[49m\u001b[43m \u001b[49m\u001b[43mroll\u001b[49m\u001b[38;5;241;43m=\u001b[39;49m\u001b[43mroll\u001b[49m\u001b[43m,\u001b[49m\u001b[43m \u001b[49m\u001b[43mpitch\u001b[49m\u001b[38;5;241;43m=\u001b[39;49m\u001b[43mpitch\u001b[49m\u001b[43m,\u001b[49m\u001b[43m \u001b[49m\u001b[43myaw\u001b[49m\u001b[38;5;241;43m=\u001b[39;49m\u001b[43myaw\u001b[49m\u001b[43m,\u001b[49m\u001b[43m \u001b[49m\u001b[43mradius\u001b[49m\u001b[38;5;241;43m=\u001b[39;49m\u001b[43mradius\u001b[49m\u001b[43m,\u001b[49m\n\u001b[0;32m    821\u001b[0m \u001b[43m                                  \u001b[49m\u001b[43mspeed\u001b[49m\u001b[38;5;241;43m=\u001b[39;49m\u001b[43mspeed\u001b[49m\u001b[43m,\u001b[49m\u001b[43m \u001b[49m\u001b[43mmvacc\u001b[49m\u001b[38;5;241;43m=\u001b[39;49m\u001b[43mmvacc\u001b[49m\u001b[43m,\u001b[49m\u001b[43m \u001b[49m\u001b[43mmvtime\u001b[49m\u001b[38;5;241;43m=\u001b[39;49m\u001b[43mmvtime\u001b[49m\u001b[43m,\u001b[49m\u001b[43m \u001b[49m\u001b[43mrelative\u001b[49m\u001b[38;5;241;43m=\u001b[39;49m\u001b[43mrelative\u001b[49m\u001b[43m,\u001b[49m\n\u001b[0;32m    822\u001b[0m \u001b[43m                                  \u001b[49m\u001b[43mis_radian\u001b[49m\u001b[38;5;241;43m=\u001b[39;49m\u001b[43mis_radian\u001b[49m\u001b[43m,\u001b[49m\u001b[43m \u001b[49m\u001b[43mwait\u001b[49m\u001b[38;5;241;43m=\u001b[39;49m\u001b[43mwait\u001b[49m\u001b[43m,\u001b[49m\u001b[43m \u001b[49m\u001b[43mtimeout\u001b[49m\u001b[38;5;241;43m=\u001b[39;49m\u001b[43mtimeout\u001b[49m\u001b[43m,\u001b[49m\u001b[43m \u001b[49m\u001b[38;5;241;43m*\u001b[39;49m\u001b[38;5;241;43m*\u001b[39;49m\u001b[43mkwargs\u001b[49m\u001b[43m)\u001b[49m\n",
      "File \u001b[1;32mc:\\Users\\digic\\AppData\\Local\\Programs\\Python\\Python312\\Lib\\site-packages\\xarm\\x3\\decorator.py:73\u001b[0m, in \u001b[0;36mxarm_wait_until_not_pause.<locals>.decorator\u001b[1;34m(self, *args, **kwargs)\u001b[0m\n\u001b[0;32m     70\u001b[0m \u001b[38;5;129m@functools\u001b[39m\u001b[38;5;241m.\u001b[39mwraps(func)\n\u001b[0;32m     71\u001b[0m \u001b[38;5;28;01mdef\u001b[39;00m \u001b[38;5;21mdecorator\u001b[39m(\u001b[38;5;28mself\u001b[39m, \u001b[38;5;241m*\u001b[39margs, \u001b[38;5;241m*\u001b[39m\u001b[38;5;241m*\u001b[39mkwargs):\n\u001b[0;32m     72\u001b[0m     \u001b[38;5;28mself\u001b[39m\u001b[38;5;241m.\u001b[39mwait_until_not_pause()\n\u001b[1;32m---> 73\u001b[0m     \u001b[38;5;28;01mreturn\u001b[39;00m \u001b[43mfunc\u001b[49m\u001b[43m(\u001b[49m\u001b[38;5;28;43mself\u001b[39;49m\u001b[43m,\u001b[49m\u001b[43m \u001b[49m\u001b[38;5;241;43m*\u001b[39;49m\u001b[43margs\u001b[49m\u001b[43m,\u001b[49m\u001b[43m \u001b[49m\u001b[38;5;241;43m*\u001b[39;49m\u001b[38;5;241;43m*\u001b[39;49m\u001b[43mkwargs\u001b[49m\u001b[43m)\u001b[49m\n",
      "File \u001b[1;32mc:\\Users\\digic\\AppData\\Local\\Programs\\Python\\Python312\\Lib\\site-packages\\xarm\\x3\\decorator.py:81\u001b[0m, in \u001b[0;36mxarm_wait_until_cmdnum_lt_max.<locals>.decorator\u001b[1;34m(self, *args, **kwargs)\u001b[0m\n\u001b[0;32m     78\u001b[0m \u001b[38;5;129m@functools\u001b[39m\u001b[38;5;241m.\u001b[39mwraps(func)\n\u001b[0;32m     79\u001b[0m \u001b[38;5;28;01mdef\u001b[39;00m \u001b[38;5;21mdecorator\u001b[39m(\u001b[38;5;28mself\u001b[39m, \u001b[38;5;241m*\u001b[39margs, \u001b[38;5;241m*\u001b[39m\u001b[38;5;241m*\u001b[39mkwargs):\n\u001b[0;32m     80\u001b[0m     \u001b[38;5;28mself\u001b[39m\u001b[38;5;241m.\u001b[39mwait_until_cmdnum_lt_max()\n\u001b[1;32m---> 81\u001b[0m     \u001b[38;5;28;01mreturn\u001b[39;00m \u001b[43mfunc\u001b[49m\u001b[43m(\u001b[49m\u001b[38;5;28;43mself\u001b[39;49m\u001b[43m,\u001b[49m\u001b[43m \u001b[49m\u001b[38;5;241;43m*\u001b[39;49m\u001b[43margs\u001b[49m\u001b[43m,\u001b[49m\u001b[43m \u001b[49m\u001b[38;5;241;43m*\u001b[39;49m\u001b[38;5;241;43m*\u001b[39;49m\u001b[43mkwargs\u001b[49m\u001b[43m)\u001b[49m\n",
      "File \u001b[1;32mc:\\Users\\digic\\AppData\\Local\\Programs\\Python\\Python312\\Lib\\site-packages\\xarm\\x3\\decorator.py:56\u001b[0m, in \u001b[0;36mxarm_is_ready.<locals>._xarm_is_ready.<locals>.decorator\u001b[1;34m(self, *args, **kwargs)\u001b[0m\n\u001b[0;32m     54\u001b[0m \u001b[38;5;28;01mif\u001b[39;00m \u001b[38;5;28mself\u001b[39m\u001b[38;5;241m.\u001b[39mconnected:\n\u001b[0;32m     55\u001b[0m     \u001b[38;5;28;01mif\u001b[39;00m \u001b[38;5;28mself\u001b[39m\u001b[38;5;241m.\u001b[39mcheck_xarm_is_ready:\n\u001b[1;32m---> 56\u001b[0m         \u001b[38;5;28;01mreturn\u001b[39;00m \u001b[43mfunc\u001b[49m\u001b[43m(\u001b[49m\u001b[38;5;28;43mself\u001b[39;49m\u001b[43m,\u001b[49m\u001b[43m \u001b[49m\u001b[38;5;241;43m*\u001b[39;49m\u001b[43margs\u001b[49m\u001b[43m,\u001b[49m\u001b[43m \u001b[49m\u001b[38;5;241;43m*\u001b[39;49m\u001b[38;5;241;43m*\u001b[39;49m\u001b[43mkwargs\u001b[49m\u001b[43m)\u001b[49m\n\u001b[0;32m     57\u001b[0m     \u001b[38;5;28;01melse\u001b[39;00m:\n\u001b[0;32m     58\u001b[0m         logger\u001b[38;5;241m.\u001b[39merror(\u001b[38;5;124m'\u001b[39m\u001b[38;5;124mxArm is not ready\u001b[39m\u001b[38;5;124m'\u001b[39m)\n",
      "File \u001b[1;32mc:\\Users\\digic\\AppData\\Local\\Programs\\Python\\Python312\\Lib\\site-packages\\xarm\\x3\\xarm.py:248\u001b[0m, in \u001b[0;36mXArm.set_position\u001b[1;34m(self, x, y, z, roll, pitch, yaw, radius, speed, mvacc, mvtime, relative, is_radian, wait, timeout, **kwargs)\u001b[0m\n\u001b[0;32m    244\u001b[0m     \u001b[38;5;28;01mreturn\u001b[39;00m \u001b[38;5;28mself\u001b[39m\u001b[38;5;241m.\u001b[39m_set_position_relative(x\u001b[38;5;241m=\u001b[39mx, y\u001b[38;5;241m=\u001b[39my, z\u001b[38;5;241m=\u001b[39mz, roll\u001b[38;5;241m=\u001b[39mroll, pitch\u001b[38;5;241m=\u001b[39mpitch, yaw\u001b[38;5;241m=\u001b[39myaw, radius\u001b[38;5;241m=\u001b[39mradius,\n\u001b[0;32m    245\u001b[0m                                        speed\u001b[38;5;241m=\u001b[39mspeed, mvacc\u001b[38;5;241m=\u001b[39mmvacc, mvtime\u001b[38;5;241m=\u001b[39mmvtime, is_radian\u001b[38;5;241m=\u001b[39mis_radian,\n\u001b[0;32m    246\u001b[0m                                        wait\u001b[38;5;241m=\u001b[39mwait, timeout\u001b[38;5;241m=\u001b[39mtimeout, \u001b[38;5;241m*\u001b[39m\u001b[38;5;241m*\u001b[39mkwargs)\n\u001b[0;32m    247\u001b[0m \u001b[38;5;28;01melse\u001b[39;00m:\n\u001b[1;32m--> 248\u001b[0m     \u001b[38;5;28;01mreturn\u001b[39;00m \u001b[38;5;28;43mself\u001b[39;49m\u001b[38;5;241;43m.\u001b[39;49m\u001b[43m_set_position_absolute\u001b[49m\u001b[43m(\u001b[49m\u001b[43mx\u001b[49m\u001b[38;5;241;43m=\u001b[39;49m\u001b[43mx\u001b[49m\u001b[43m,\u001b[49m\u001b[43m \u001b[49m\u001b[43my\u001b[49m\u001b[38;5;241;43m=\u001b[39;49m\u001b[43my\u001b[49m\u001b[43m,\u001b[49m\u001b[43m \u001b[49m\u001b[43mz\u001b[49m\u001b[38;5;241;43m=\u001b[39;49m\u001b[43mz\u001b[49m\u001b[43m,\u001b[49m\u001b[43m \u001b[49m\u001b[43mroll\u001b[49m\u001b[38;5;241;43m=\u001b[39;49m\u001b[43mroll\u001b[49m\u001b[43m,\u001b[49m\u001b[43m \u001b[49m\u001b[43mpitch\u001b[49m\u001b[38;5;241;43m=\u001b[39;49m\u001b[43mpitch\u001b[49m\u001b[43m,\u001b[49m\u001b[43m \u001b[49m\u001b[43myaw\u001b[49m\u001b[38;5;241;43m=\u001b[39;49m\u001b[43myaw\u001b[49m\u001b[43m,\u001b[49m\u001b[43m \u001b[49m\u001b[43mradius\u001b[49m\u001b[38;5;241;43m=\u001b[39;49m\u001b[43mradius\u001b[49m\u001b[43m,\u001b[49m\n\u001b[0;32m    249\u001b[0m \u001b[43m                                       \u001b[49m\u001b[43mspeed\u001b[49m\u001b[38;5;241;43m=\u001b[39;49m\u001b[43mspeed\u001b[49m\u001b[43m,\u001b[49m\u001b[43m \u001b[49m\u001b[43mmvacc\u001b[49m\u001b[38;5;241;43m=\u001b[39;49m\u001b[43mmvacc\u001b[49m\u001b[43m,\u001b[49m\u001b[43m \u001b[49m\u001b[43mmvtime\u001b[49m\u001b[38;5;241;43m=\u001b[39;49m\u001b[43mmvtime\u001b[49m\u001b[43m,\u001b[49m\u001b[43m \u001b[49m\u001b[43mis_radian\u001b[49m\u001b[38;5;241;43m=\u001b[39;49m\u001b[43mis_radian\u001b[49m\u001b[43m,\u001b[49m\n\u001b[0;32m    250\u001b[0m \u001b[43m                                       \u001b[49m\u001b[43mwait\u001b[49m\u001b[38;5;241;43m=\u001b[39;49m\u001b[43mwait\u001b[49m\u001b[43m,\u001b[49m\u001b[43m \u001b[49m\u001b[43mtimeout\u001b[49m\u001b[38;5;241;43m=\u001b[39;49m\u001b[43mtimeout\u001b[49m\u001b[43m,\u001b[49m\u001b[43m \u001b[49m\u001b[38;5;241;43m*\u001b[39;49m\u001b[38;5;241;43m*\u001b[39;49m\u001b[43mkwargs\u001b[49m\u001b[43m)\u001b[49m\n",
      "File \u001b[1;32mc:\\Users\\digic\\AppData\\Local\\Programs\\Python\\Python312\\Lib\\site-packages\\xarm\\x3\\xarm.py:171\u001b[0m, in \u001b[0;36mXArm._set_position_absolute\u001b[1;34m(self, x, y, z, roll, pitch, yaw, radius, speed, mvacc, mvtime, is_radian, wait, timeout, **kwargs)\u001b[0m\n\u001b[0;32m    169\u001b[0m     \u001b[38;5;28;01mreturn\u001b[39;00m APIState\u001b[38;5;241m.\u001b[39mHAS_ERROR \u001b[38;5;28;01mif\u001b[39;00m ret[\u001b[38;5;241m3\u001b[39m] \u001b[38;5;241m!=\u001b[39m \u001b[38;5;241m0\u001b[39m \u001b[38;5;28;01melse\u001b[39;00m ret[\u001b[38;5;241m0\u001b[39m]\n\u001b[0;32m    170\u001b[0m \u001b[38;5;28;01mif\u001b[39;00m only_check_type \u001b[38;5;241m<\u001b[39m\u001b[38;5;241m=\u001b[39m \u001b[38;5;241m0\u001b[39m \u001b[38;5;129;01mand\u001b[39;00m wait \u001b[38;5;129;01mand\u001b[39;00m ret[\u001b[38;5;241m0\u001b[39m] \u001b[38;5;241m==\u001b[39m \u001b[38;5;241m0\u001b[39m:\n\u001b[1;32m--> 171\u001b[0m     code \u001b[38;5;241m=\u001b[39m \u001b[38;5;28;43mself\u001b[39;49m\u001b[38;5;241;43m.\u001b[39;49m\u001b[43mwait_move\u001b[49m\u001b[43m(\u001b[49m\u001b[43mtimeout\u001b[49m\u001b[43m,\u001b[49m\u001b[43m \u001b[49m\u001b[43mtrans_id\u001b[49m\u001b[38;5;241;43m=\u001b[39;49m\u001b[43mtrans_id\u001b[49m\u001b[43m)\u001b[49m\n\u001b[0;32m    172\u001b[0m     \u001b[38;5;28mself\u001b[39m\u001b[38;5;241m.\u001b[39m__update_tcp_motion_params(spd, acc, mvt)\n\u001b[0;32m    173\u001b[0m     \u001b[38;5;28mself\u001b[39m\u001b[38;5;241m.\u001b[39m_sync()\n",
      "File \u001b[1;32mc:\\Users\\digic\\AppData\\Local\\Programs\\Python\\Python312\\Lib\\site-packages\\xarm\\x3\\base.py:2316\u001b[0m, in \u001b[0;36mBase.wait_move\u001b[1;34m(self, timeout, trans_id)\u001b[0m\n\u001b[0;32m   2314\u001b[0m \u001b[38;5;28;01mdef\u001b[39;00m \u001b[38;5;21mwait_move\u001b[39m(\u001b[38;5;28mself\u001b[39m, timeout\u001b[38;5;241m=\u001b[39m\u001b[38;5;28;01mNone\u001b[39;00m, trans_id\u001b[38;5;241m=\u001b[39m\u001b[38;5;241m-\u001b[39m\u001b[38;5;241m1\u001b[39m):\n\u001b[0;32m   2315\u001b[0m     \u001b[38;5;28;01mif\u001b[39;00m \u001b[38;5;28mself\u001b[39m\u001b[38;5;241m.\u001b[39m_support_feedback \u001b[38;5;129;01mand\u001b[39;00m trans_id \u001b[38;5;241m>\u001b[39m \u001b[38;5;241m0\u001b[39m:\n\u001b[1;32m-> 2316\u001b[0m         \u001b[38;5;28;01mreturn\u001b[39;00m \u001b[38;5;28;43mself\u001b[39;49m\u001b[38;5;241;43m.\u001b[39;49m\u001b[43m_wait_feedback\u001b[49m\u001b[43m(\u001b[49m\u001b[43mtimeout\u001b[49m\u001b[43m,\u001b[49m\u001b[43m \u001b[49m\u001b[43mtrans_id\u001b[49m\u001b[43m)\u001b[49m[\u001b[38;5;241m0\u001b[39m]\n\u001b[0;32m   2317\u001b[0m     \u001b[38;5;28;01mif\u001b[39;00m timeout \u001b[38;5;129;01mis\u001b[39;00m \u001b[38;5;129;01mnot\u001b[39;00m \u001b[38;5;28;01mNone\u001b[39;00m:\n\u001b[0;32m   2318\u001b[0m         expired \u001b[38;5;241m=\u001b[39m time\u001b[38;5;241m.\u001b[39mmonotonic() \u001b[38;5;241m+\u001b[39m timeout \u001b[38;5;241m+\u001b[39m (\u001b[38;5;28mself\u001b[39m\u001b[38;5;241m.\u001b[39m_sleep_finish_time \u001b[38;5;28;01mif\u001b[39;00m \u001b[38;5;28mself\u001b[39m\u001b[38;5;241m.\u001b[39m_sleep_finish_time \u001b[38;5;241m>\u001b[39m time\u001b[38;5;241m.\u001b[39mmonotonic() \u001b[38;5;28;01melse\u001b[39;00m \u001b[38;5;241m0\u001b[39m)\n",
      "File \u001b[1;32mc:\\Users\\digic\\AppData\\Local\\Programs\\Python\\Python312\\Lib\\site-packages\\xarm\\x3\\base.py:2311\u001b[0m, in \u001b[0;36mBase._wait_feedback\u001b[1;34m(self, timeout, trans_id, ignore_log)\u001b[0m\n\u001b[0;32m   2309\u001b[0m     \u001b[38;5;28;01mif\u001b[39;00m trans_id \u001b[38;5;129;01min\u001b[39;00m \u001b[38;5;28mself\u001b[39m\u001b[38;5;241m.\u001b[39m_fb_transid_result_map:\n\u001b[0;32m   2310\u001b[0m         \u001b[38;5;28;01mreturn\u001b[39;00m \u001b[38;5;241m0\u001b[39m, \u001b[38;5;28mself\u001b[39m\u001b[38;5;241m.\u001b[39m_fb_transid_result_map\u001b[38;5;241m.\u001b[39mpop(trans_id, \u001b[38;5;241m-\u001b[39m\u001b[38;5;241m1\u001b[39m)\n\u001b[1;32m-> 2311\u001b[0m     \u001b[43mtime\u001b[49m\u001b[38;5;241;43m.\u001b[39;49m\u001b[43msleep\u001b[49m\u001b[43m(\u001b[49m\u001b[38;5;241;43m0.05\u001b[39;49m\u001b[43m)\u001b[49m\n\u001b[0;32m   2312\u001b[0m \u001b[38;5;28;01mreturn\u001b[39;00m APIState\u001b[38;5;241m.\u001b[39mWAIT_FINISH_TIMEOUT, \u001b[38;5;241m-\u001b[39m\u001b[38;5;241m1\u001b[39m\n",
      "\u001b[1;31mKeyboardInterrupt\u001b[0m: "
     ]
    }
   ],
   "source": [
    "scoop()"
   ]
  },
  {
   "cell_type": "code",
   "execution_count": 154,
   "metadata": {},
   "outputs": [],
   "source": [
    "  # new spatula\n",
    "def scoop_new():\n",
    "    robot.arm.set_gripper_position(800, wait=True)\n",
    "    robot.arm.set_position(x=-499.9, y=212.8, z=300.7, roll=-80.9, pitch=89.1, yaw=9.3, speed=40, wait=True)  # y=265.6\n",
    "    robot.arm.set_position(x=-476.8, y=396.7, z=243.7, roll=-80.9, pitch=89.1, yaw=9.3, speed=30, wait=True)  # y=265.6\n",
    "    #pick up spatula\n",
    "    robot.arm.set_gripper_position(290, wait=True)\n",
    "    robot.arm.set_position(z=81, relative=True, speed=14, wait=True)\n",
    "    robot.arm.set_position(y=-200, relative=True, speed=44, wait=True)\n",
    "\n",
    "    #scoop\n",
    "    robot.arm.set_position(x=-458.1, y=70, z=43.7, roll=-176.9, pitch=70, yaw=2.6, speed=50, wait=True)  # y=265.6\n",
    "    robot.arm.set_position(x=-458.1, y=70, z=-39.5, roll=-177.2, pitch=67.7, yaw=2.4, speed=30, wait=True)  # y=265.6\n",
    "    robot.arm.set_position(x=-486.4, y=70, z=-52.4, roll=-177.5, pitch=65.1, yaw=2.7, speed=10, wait=True)    \n",
    "    robot.arm.set_position(x=-527.5, y=70, z=-66.3, roll=-177.2, pitch=68.2, yaw=2.5, speed=10, wait=True)\n",
    "    robot.arm.set_position(x=-527.5, y=70, z=-66.3, roll=-152.2, pitch=88.2, yaw=27, speed=10, wait=True)\n",
    "    # reposition \n",
    "    robot.arm.set_position(x=-332.3, y=102.3, z=79.5, roll=-168.8, pitch=84.7, yaw=-78.5, speed=30, wait=True)  # y=265.6\n",
    "    robot.arm.set_position(x=-282.4, y=268.4, z=161.6, roll=-168.8, pitch=84.7, yaw=-78.5, speed=30, wait=True)  # y=265.6\n",
    "\n",
    "    # dispensing\n",
    "    robot.arm.set_position(x=-293.4, y=316.1, z=186.2, roll=-176.5, pitch=52.2, yaw=-85.9, speed=30, wait=True)  # y=265.6\n",
    "    robot.arm.set_position(x=-293.4, y=335.3, z=218.8, roll=-177.9, pitch=36.2, yaw=-86.9, speed=40, wait=True)  # y=265.6\n",
    "    robot.arm.set_position(x=-293.4, y=335.3, z=218.8, roll=-164.6, pitch=34.9, yaw=-79.2, speed=40, wait=True)  # y=265.6\n",
    "    robot.arm.set_position(x=-293.4, y=335.3, z=218.8, roll=170.7, pitch=36.2, yaw=-93.7, speed=40, wait=True)  # y=265.6\n",
    "    # reposition \n",
    "    robot.arm.set_position(x=-282.4, y=137.9, z=285.5, roll=-179.2, pitch=36.3, yaw=-87.7, speed=30, wait=True)  # y=265.6\n",
    "    robot.arm.set_position(x=-443.2, y=89.2, z=285.5, roll=-144.6, pitch=85.6, yaw=-55, speed=30, wait=True)  # y=265.6"
   ]
  },
  {
   "cell_type": "code",
   "execution_count": 157,
   "metadata": {},
   "outputs": [],
   "source": [
    "scoop_new()"
   ]
  },
  {
   "cell_type": "code",
   "execution_count": 113,
   "metadata": {},
   "outputs": [],
   "source": [
    "  # new spatula\n",
    "def scoop():\n",
    "    robot.arm.set_gripper_position(800, wait=True)\n",
    "    robot.arm.set_position(x=-499.9, y=212.8, z=300.7, roll=-80.9, pitch=89.1, yaw=9.3, speed=40, wait=True)  # y=265.6\n",
    "    robot.arm.set_position(x=-476.8, y=396.7, z=243.7, roll=-80.9, pitch=89.1, yaw=9.3, speed=30, wait=True)  # y=265.6\n",
    "    #pick up spatula\n",
    "    robot.arm.set_gripper_position(290, wait=True)\n",
    "    robot.arm.set_position(z=81, relative=True, speed=14, wait=True)\n",
    "    robot.arm.set_position(y=-200, relative=True, speed=44, wait=True)\n",
    "\n",
    "    #scoop\n",
    "    robot.arm.set_position(x=-458.1, y=70, z=43.7, roll=-176.9, pitch=70, yaw=2.6, speed=50, wait=True)  # y=265.6\n",
    "    robot.arm.set_position(x=-458.1, y=70, z=-39.5, roll=-177.2, pitch=67.7, yaw=2.4, speed=30, wait=True)  # y=265.6\n",
    "    robot.arm.set_position(x=-486.4, y=70, z=-48.4, roll=-177.2, pitch=67.7, yaw=2.4, speed=10, wait=True)  # y=265.6\n",
    "    robot.arm.set_position(x=-524.2, y=70, z=-69.5, roll=-176.5, pitch=72.7, yaw=3.1, speed=10, wait=True)  # y=265.6\n",
    "    robot.arm.set_position(x=-527.2, y=70, z=-55.5, roll=-166, pitch=85.8, yaw=13.5, speed=10, wait=True)  # y=265.6\n",
    "    # reposition \n",
    "    robot.arm.set_position(x=-332.3, y=102.3, z=79.5, roll=-168.8, pitch=84.7, yaw=-78.5, speed=30, wait=True)  # y=265.6\n",
    "    robot.arm.set_position(x=-282.4, y=268.4, z=161.6, roll=-168.8, pitch=84.7, yaw=-78.5, speed=30, wait=True)  # y=265.6\n",
    "\n",
    "    # dispensing\n",
    "    robot.arm.set_position(x=-293.4, y=316.1, z=186.2, roll=-176.5, pitch=52.2, yaw=-85.9, speed=30, wait=True)  # y=265.6\n",
    "    robot.arm.set_position(x=-293.4, y=335.3, z=218.8, roll=-177.9, pitch=36.2, yaw=-86.9, speed=40, wait=True)  # y=265.6\n",
    "    robot.arm.set_position(x=-293.4, y=335.3, z=218.8, roll=-164.6, pitch=34.9, yaw=-79.2, speed=40, wait=True)  # y=265.6\n",
    "    robot.arm.set_position(x=-293.4, y=335.3, z=218.8, roll=170.7, pitch=36.2, yaw=-93.7, speed=40, wait=True)  # y=265.6\n",
    "    # reposition \n",
    "    robot.arm.set_position(x=-282.4, y=137.9, z=285.5, roll=-179.2, pitch=36.3, yaw=-87.7, speed=30, wait=True)  # y=265.6\n",
    "    robot.arm.set_position(x=-443.2, y=89.2, z=285.5, roll=-144.6, pitch=85.6, yaw=-55, speed=30, wait=True)  # y=265.6"
   ]
  },
  {
   "cell_type": "code",
   "execution_count": 159,
   "metadata": {},
   "outputs": [],
   "source": [
    "def rescoop():\n",
    "    #scoop\n",
    "    robot.arm.set_position(x=-458.1, y=70, z=43.7, roll=-176.9, pitch=70, yaw=2.6, speed=50, wait=True)  # y=265.6\n",
    "    robot.arm.set_position(x=-458.1, y=70, z=-39.5, roll=-177.2, pitch=67.7, yaw=2.4, speed=30, wait=True)  # y=265.6\n",
    "    robot.arm.set_position(x=-486.4, y=70, z=-52.4, roll=-177.5, pitch=65.1, yaw=2.7, speed=10, wait=True)    \n",
    "    robot.arm.set_position(x=-527.5, y=70, z=-66.3, roll=-177.2, pitch=68.2, yaw=2.5, speed=10, wait=True)\n",
    "    robot.arm.set_position(x=-527.5, y=70, z=-66.3, roll=-152.2, pitch=88.2, yaw=27, speed=10, wait=True)\n",
    "    # reposition \n",
    "    robot.arm.set_position(x=-332.3, y=102.3, z=79.5, roll=-168.8, pitch=84.7, yaw=-78.5, speed=30, wait=True)  # y=265.6\n",
    "    robot.arm.set_position(x=-282.4, y=268.4, z=161.6, roll=-168.8, pitch=84.7, yaw=-78.5, speed=30, wait=True)  # y=265.6\n",
    "\n",
    "    # dispensing\n",
    "    robot.arm.set_position(x=-293.4, y=316.1, z=186.2, roll=-176.5, pitch=52.2, yaw=-85.9, speed=30, wait=True)  # y=265.6\n",
    "    robot.arm.set_position(x=-293.4, y=335.3, z=218.8, roll=-177.9, pitch=36.2, yaw=-86.9, speed=40, wait=True)  # y=265.6\n",
    "    robot.arm.set_position(x=-293.4, y=335.3, z=218.8, roll=-164.6, pitch=34.9, yaw=-79.2, speed=40, wait=True)  # y=265.6\n",
    "    robot.arm.set_position(x=-293.4, y=335.3, z=218.8, roll=170.7, pitch=36.2, yaw=-93.7, speed=40, wait=True)  # y=265.6\n",
    "    # reposition \n",
    "    robot.arm.set_position(x=-282.4, y=137.9, z=285.5, roll=-179.2, pitch=36.3, yaw=-87.7, speed=30, wait=True)  # y=265.6\n",
    "    robot.arm.set_position(x=-443.2, y=89.2, z=285.5, roll=-144.6, pitch=85.6, yaw=-55, speed=30, wait=True)  # y=265.6"
   ]
  },
  {
   "cell_type": "code",
   "execution_count": 166,
   "metadata": {},
   "outputs": [],
   "source": [
    "## replace spatula\n",
    "def replace_spatula():\n",
    "    robot.arm.set_position(x=-475.3, y=393.5, z=285.5, roll=-144.6, pitch=85.6, yaw=-55, speed=30, wait=True)  # y=265.6\n",
    "    robot.arm.set_position(x=-475.3, y=393.5, z=245.9, roll=-144.6, pitch=85.6, yaw=-55, speed=10, wait=True)  # y=265.6\n",
    "    robot.arm.set_gripper_position(767, wait=True)\n",
    "    robot.arm.set_position(y=-181, relative=True, speed=34, wait=True)\n",
    "\n"
   ]
  },
  {
   "cell_type": "code",
   "execution_count": 308,
   "metadata": {},
   "outputs": [
    {
     "data": {
      "text/plain": [
       "0"
      ]
     },
     "execution_count": 308,
     "metadata": {},
     "output_type": "execute_result"
    }
   ],
   "source": [
    "# spatula\n",
    "robot.arm.set_position(y=-181, relative=True, speed=34, wait=True)\n",
    "\n",
    "robot.arm.set_gripper_position(800, wait=True)\n",
    "robot.arm.set_position(x=-499.9, y=212.8, z=300.7, roll=-80.9, pitch=89.1, yaw=9.3, speed=40, wait=True)  # y=265.6\n",
    "robot.arm.set_position(x=-469.6, y=417.5, z=288.6, roll=-80.9, pitch=89.1, yaw=9.3, speed=30, wait=True)  # y=265.6\n",
    "robot.arm.set_gripper_position(254, wait=True)\n",
    "# approach sampl\n",
    "robot.arm.set_position(x=-469.6, y=417.5, z=325.9, roll=-80.9, pitch=89.1, yaw=9.3, speed=10, wait=True)  # y=265.6\n",
    "robot.arm.set_position(x=-469.6, y=280.8, z=325.9, roll=-80.9, pitch=89.1, yaw=9.3, speed=40, wait=True)  # y=265.6\n",
    "robot.arm.set_position(x=-457.5, y=104.1, z=-12.2, roll=-80.9, pitch=89.1, yaw=97.6, speed=40, wait=True)  # y=265.6\n",
    "# scoop\n",
    "robot.arm.set_position(x=-457.5, y=105.8, z=-58.8, roll=-174, pitch=78.7, yaw=4.6, speed=40, wait=True)  # y=265.6\n",
    "robot.arm.set_position(x=-464.4, y=102.3, z=-41.1, roll=-176.4, pitch=66.8, yaw=2.3, speed=10, wait=True)  # y=265.6\n",
    "robot.arm.set_position(x=-504.7, y=102.3, z=-50.8, roll=-176.4, pitch=66.8, yaw=2.3, speed=10, wait=True)  # y=265.6\n",
    "robot.arm.set_position(x=-504.7, y=102.3, z=-22, roll=-168.8, pitch=84.7, yaw=9.8, speed=10, wait=True)  # y=265.6\n",
    "# reposition \n",
    "robot.arm.set_position(x=-332.3, y=102.3, z=79.5, roll=-168.8, pitch=84.7, yaw=-78.5, speed=30, wait=True)  # y=265.6\n",
    "robot.arm.set_position(x=-282.4, y=268.4, z=161.6, roll=-168.8, pitch=84.7, yaw=-78.5, speed=30, wait=True)  # y=265.6\n",
    "# dispensing\n",
    "robot.arm.set_position(x=-282.4, y=316.1, z=186.2, roll=-176.5, pitch=52.2, yaw=-85.9, speed=30, wait=True)  # y=265.6\n",
    "robot.arm.set_position(x=-282.4, y=335.3, z=218.8, roll=-177.9, pitch=36.2, yaw=-86.9, speed=40, wait=True)  # y=265.6\n",
    "robot.arm.set_position(x=-282.4, y=335.3, z=218.8, roll=-164.6, pitch=34.9, yaw=-79.2, speed=40, wait=True)  # y=265.6\n",
    "robot.arm.set_position(x=-282.4, y=335.3, z=218.8, roll=170.7, pitch=36.2, yaw=-93.7, speed=40, wait=True)  # y=265.6\n",
    "# exiting scales\n",
    "robot.arm.set_position(x=-282.4, y=137.9, z=285.5, roll=-179.2, pitch=36.3, yaw=-87.7, speed=30, wait=True)  # y=265.6\n",
    "robot.arm.set_position(x=-443.2, y=89.2, z=285.5, roll=-144.6, pitch=85.6, yaw=-55, speed=30, wait=True)  # y=265.6\n",
    "# replacing spatula\n",
    "robot.arm.set_position(x=-471.5, y=412.3, z=328.4, roll=-144.6, pitch=85.6, yaw=-55, speed=30, wait=True)  # y=265.6\n",
    "robot.arm.set_gripper_position(800, wait=True)\n"
   ]
  },
  {
   "cell_type": "code",
   "execution_count": 232,
   "metadata": {},
   "outputs": [
    {
     "data": {
      "text/plain": [
       "0"
      ]
     },
     "execution_count": 232,
     "metadata": {},
     "output_type": "execute_result"
    }
   ],
   "source": [
    "# picking up funnel\n",
    "robot.arm.set_gripper_position(800, wait=True)\n",
    "robot.arm.set_position(x=-508.2, y=177.7, z=47.4, roll=-80.9, pitch=89.1, yaw=9.3, speed=70, wait=True)  # y=265.6\n",
    "robot.arm.set_position(x=-508.2, y=422.3, z=3.3, roll=-80.9, pitch=89.1, yaw=9.3, speed=40, wait=True)  # y=265.6"
   ]
  },
  {
   "cell_type": "code",
   "execution_count": 223,
   "metadata": {},
   "outputs": [
    {
     "name": "stdout",
     "output_type": "stream",
     "text": [
      "ROBOT_IP: 192.168.1.200, VERSION: v2.3.0, PROTOCOL: V1, DETAIL: 6,6,XI1303,MC1303,v2.3.0, TYPE1300: [1, 1]\n",
      "change protocol identifier to 3\n"
     ]
    },
    {
     "data": {
      "text/plain": [
       "0"
      ]
     },
     "execution_count": 223,
     "metadata": {},
     "output_type": "execute_result"
    }
   ],
   "source": [
    "robot.restart()\n",
    "robot.arm.set_gripper_position(800, wait=True)"
   ]
  },
  {
   "cell_type": "code",
   "execution_count": null,
   "metadata": {},
   "outputs": [
    {
     "name": "stdout",
     "output_type": "stream",
     "text": [
      "ROBOT_IP: 192.168.1.200, VERSION: v2.3.0, PROTOCOL: V1, DETAIL: 6,6,XI1303,MC1303,v2.3.0, TYPE1300: [1, 1]\n",
      "change protocol identifier to 3\n",
      "[motion_enable], xArm is not ready to move\n",
      "[set_state], xArm is ready to move\n"
     ]
    },
    {
     "data": {
      "text/plain": [
       "0"
      ]
     },
     "execution_count": 219,
     "metadata": {},
     "output_type": "execute_result"
    },
    {
     "name": "stdout",
     "output_type": "stream",
     "text": [
      "ControllerError, code: 31\n",
      "ControllerError had clean\n",
      "ControllerError, code: 31\n",
      "ControllerError had clean\n"
     ]
    }
   ],
   "source": [
    "# FUNNEL REPLACEMENT\n",
    "\n",
    "robot.arm.set_position(x=-288.9, y=308.9, z=83.3, roll=-80.9, pitch=89.1, yaw=9.3, speed=30, wait=True)  # y=265.6\n",
    "\n",
    "robot.arm.set_position(x=-290.1, y=457.9, z=81.3, roll=-80.9, pitch=89.1, yaw=9.3, speed=30, wait=True)  # y=265.6\n",
    "robot.arm.set_gripper_position(471, wait=True)\n",
    "\n",
    "robot.arm.set_position(x=-290.1, y=457.9, z=143.2, roll=-80.9, pitch=89.1, yaw=9.3, speed=10, wait=True)  # y=265.6\n",
    "robot.arm.set_position(x=-286.3, y=274.4, z=125.3, roll=-80.9, pitch=89.1, yaw=9.3, speed=60, wait=True)  # y=265.6\n",
    "robot.arm.set_position(x=-415.3, y=274.4, z=125.3, roll=-80.9, pitch=89.1, yaw=9.3, speed=60, wait=True)  # y=265.6\n",
    "robot.arm.set_position(x=-506.6, y=422.9, z=83.3, roll=-80.9, pitch=89.1, yaw=9.3, speed=40, wait=True)  # y=265.6\n",
    "\n",
    "\n"
   ]
  },
  {
   "cell_type": "code",
   "execution_count": null,
   "metadata": {},
   "outputs": [
    {
     "name": "stdout",
     "output_type": "stream",
     "text": [
      "ROBOT_IP: 192.168.1.200, VERSION: v2.3.0, PROTOCOL: V1, DETAIL: 6,6,XI1303,MC1303,v2.3.0, TYPE1300: [1, 1]\n",
      "change protocol identifier to 3\n"
     ]
    },
    {
     "data": {
      "text/plain": [
       "0"
      ]
     },
     "execution_count": 201,
     "metadata": {},
     "output_type": "execute_result"
    },
    {
     "name": "stdout",
     "output_type": "stream",
     "text": [
      "[SDK][ERROR][2025-04-24 16:50:21][base.py:293] - - [main-socket] recv error: [WinError 10054] An existing connection was forcibly closed by the remote host\n",
      "[SDK][ERROR][2025-04-24 16:50:21][base.py:293] - - [main-socket] recv error: [WinError 10054] An existing connection was forcibly closed by the remote host\n",
      "[SDK][ERROR][2025-04-24 16:50:21][base.py:247] - - [report-socket] recv error: [WinError 10054] An existing connection was forcibly closed by the remote host\n",
      "[SDK][ERROR][2025-04-24 16:50:21][base.py:247] - - [report-socket] recv error: [WinError 10054] An existing connection was forcibly closed by the remote host\n"
     ]
    }
   ],
   "source": [
    "# FUNNEL REPLACEMENT\n",
    "robot.restart()\n",
    "\n",
    "\n",
    "# grab\n",
    "robot.arm.set_position(x=-290.9, y=393.8-19.3, z=83.8, roll=-89.7, pitch=90, yaw=0, speed=17, wait=True)  # y=360\n",
    "robot.arm.set_gripper_position(471, wait=True)\n",
    "robot.arm.set_position(x=-290.9, y=393.8-19.3, z=146.7, roll=-89.7, pitch=90, yaw=0, speed=17, wait=True)  # y=360\n",
    "\n",
    "robot.arm.set_position(x=-396.5, y=141.9-19.3, z=146.7, roll=-89.7, pitch=90, yaw=0, speed=37, wait=True)  # y=108.1\n",
    "robot.arm.set_position(x=-490.6, y=230.1-19.3, z=148.1, roll=-89.7, pitch=90, yaw=0, speed=37, wait=True)  # y=196.3\n",
    "\n",
    "robot.arm.set_position(x=-509.7, y=364.5-19.3, z=148.1, roll=-34.6, pitch=89.6, yaw=55.5, speed=37, wait=True)  # y=330.7\n",
    "robot.arm.set_position(x=-509.7, y=364.5-15, z=7, roll=-34.6, pitch=89.6, yaw=55.5, speed=10, wait=True)  # y=330.7\n",
    "\n",
    "robot.arm.set_gripper_position(800, wait=True)\n",
    "robot.arm.set_position(y=-120-33.8, relative=True, speed=37, wait=True)  # y=-153.8\n",
    "\n",
    "\n",
    "\n",
    "\n"
   ]
  },
  {
   "cell_type": "code",
   "execution_count": 153,
   "metadata": {},
   "outputs": [
    {
     "data": {
      "text/plain": [
       "(0, [-285.400024, 336.699921, 160.299988, -34.600005, 89.599999, 55.500015])"
      ]
     },
     "execution_count": 153,
     "metadata": {},
     "output_type": "execute_result"
    }
   ],
   "source": [
    "robot.arm.get_position()"
   ]
  },
  {
   "cell_type": "code",
   "execution_count": 191,
   "metadata": {},
   "outputs": [
    {
     "name": "stdout",
     "output_type": "stream",
     "text": [
      "ROBOT_IP: 192.168.1.200, VERSION: v2.3.0, PROTOCOL: V1, DETAIL: 6,6,XI1303,MC1303,v2.3.0, TYPE1300: [1, 1]\n",
      "change protocol identifier to 3\n",
      "[SDK][ERROR][2025-04-24 16:40:44][base.py:374] - - wait_feedback, xarm is stop, state=4\n",
      "[SDK][ERROR][2025-04-24 16:40:44][base.py:374] - - API -> set_position -> code=9, pos=[-288.5, 130.29999999999998, 64.3, 2.991494337918281, 1.1885692206081384, -0.1413716694115407], radius=-1, velo=44.0, acc=2000\n"
     ]
    },
    {
     "data": {
      "text/plain": [
       "9"
      ]
     },
     "execution_count": 191,
     "metadata": {},
     "output_type": "execute_result"
    }
   ],
   "source": [
    "## SPTULA PICK UP\n",
    "robot.restart()\n",
    "\n",
    "robot.arm.set_position(x=-460, y=237.6-30.8, z=185.9, roll=97.7, pitch=85.7, yaw=-170.9, speed=37, wait=True)  # y=203.8\n",
    "robot.arm.set_gripper_position(600, wait=True)\n",
    "robot.arm.set_position(x=-475.12, y=350, z=225.1, roll=174.2, pitch=87.3, yaw=-94.9, speed=17, wait=True)  # y=333.9\n",
    "robot.arm.set_gripper_position(261, wait=True)\n",
    "robot.arm.set_position(z=50, relative=True, speed=14, wait=True)\n",
    "robot.arm.set_position(y=-172-19.3, relative=True, speed=44, wait=True)  # y=-205.8\n",
    "robot.arm.set_position(x=-288.5, y=161.1-30.8, z=64.3, roll=171.4, pitch=68.1, yaw=-8.1, speed=44, wait=True)  # y=127.3\n",
    "\n"
   ]
  },
  {
   "cell_type": "code",
   "execution_count": 66,
   "metadata": {},
   "outputs": [
    {
     "name": "stdout",
     "output_type": "stream",
     "text": [
      "ROBOT_IP: 192.168.1.200, VERSION: v2.3.0, PROTOCOL: V1, DETAIL: 6,6,XI1303,MC1303,v2.3.0, TYPE1300: [1, 1]\n",
      "change protocol identifier to 3\n",
      "[motion_enable], xArm is not ready to move\n",
      "[set_state], xArm is ready to move\n",
      "[SDK][ERROR][2025-04-24 13:38:12][base.py:374] - - wait_feedback, xarm is stop, state=4\n"
     ]
    },
    {
     "data": {
      "text/plain": [
       "-9"
      ]
     },
     "execution_count": 66,
     "metadata": {},
     "output_type": "execute_result"
    }
   ],
   "source": [
    "robot.restart()\n",
    "robot.arm.set_position(x=-661.5, y=133.7, z=(-112.4 + 380), roll=-172.9, pitch=74, yaw=9.1, speed=14, wait=True)\n"
   ]
  },
  {
   "cell_type": "code",
   "execution_count": 61,
   "metadata": {},
   "outputs": [
    {
     "name": "stdout",
     "output_type": "stream",
     "text": [
      "(0, '6,6,XI1303,MC1303,v2.3.0')\n"
     ]
    }
   ],
   "source": [
    "print(robot.arm.get_version())\n"
   ]
  },
  {
   "cell_type": "code",
   "execution_count": 204,
   "metadata": {},
   "outputs": [
    {
     "name": "stdout",
     "output_type": "stream",
     "text": [
      "[SDK][WARNING][2025-04-29 10:39:00][track.py:160] - - linear track is not on zero, please set linear track back to origin\n"
     ]
    }
   ],
   "source": [
    "robot.GoTo_InitialPoint()"
   ]
  },
  {
   "cell_type": "code",
   "execution_count": 355,
   "metadata": {},
   "outputs": [
    {
     "name": "stdout",
     "output_type": "stream",
     "text": [
      "[SDK][ERROR][2025-02-13 11:21:31][base.py:293] - - [main-socket] recv error: [WinError 10054] An existing connection was forcibly closed by the remote host\n",
      "[SDK][ERROR][2025-02-13 11:21:31][base.py:247] - - [report-socket] recv error: [WinError 10054] An existing connection was forcibly closed by the remote host\n"
     ]
    }
   ],
   "source": [
    "robot.initialize()\n",
    "\n",
    "robot.GoTo_InitialPoint()\n"
   ]
  },
  {
   "cell_type": "code",
   "execution_count": 53,
   "metadata": {},
   "outputs": [
    {
     "name": "stdout",
     "output_type": "stream",
     "text": [
      "ROBOT_IP: 192.168.1.200, VERSION: v2.3.0, PROTOCOL: V1, DETAIL: 6,6,XI1303,MC1303,v2.3.0, TYPE1300: [1, 1]\n",
      "change protocol identifier to 3\n",
      "[motion_enable], xArm is not ready to move\n",
      "[set_state], xArm is ready to move\n"
     ]
    },
    {
     "data": {
      "text/plain": [
       "0"
      ]
     },
     "execution_count": 53,
     "metadata": {},
     "output_type": "execute_result"
    }
   ],
   "source": [
    "robot.restart()\n",
    "robot.arm.set_position(x=-681.9, y=66.7, z=9.8, roll=-140.8, pitch=86.1, yaw=40, speed=40)\n"
   ]
  },
  {
   "cell_type": "code",
   "execution_count": 78,
   "metadata": {},
   "outputs": [
    {
     "name": "stdout",
     "output_type": "stream",
     "text": [
      "[0.0, 0.0, 172.0, 0.0, 0.0, 0.0]\n",
      "ROBOT_IP: 192.168.1.200, VERSION: v2.3.0, PROTOCOL: V1, DETAIL: 6,6,XI1303,MC1303,v2.3.0, TYPE1300: [1, 1]\n",
      "change protocol identifier to 3\n",
      "[motion_enable], xArm is not ready to move\n",
      "[set_state], xArm is ready to move\n"
     ]
    }
   ],
   "source": [
    "\n",
    "robot.arm.save_conf()\n",
    "print(robot.arm.tcp_offset)\n",
    "robot.restart()"
   ]
  },
  {
   "cell_type": "code",
   "execution_count": 353,
   "metadata": {},
   "outputs": [
    {
     "data": {
      "text/plain": [
       "0"
      ]
     },
     "execution_count": 353,
     "metadata": {},
     "output_type": "execute_result"
    }
   ],
   "source": [
    "#prep position 1\n",
    "robot.arm.set_position(x=-681.9, y=66.7, z=9.8, roll=-140.8, pitch=86.1, yaw=40, speed=40)\n",
    "#pp2, ready to scoop\n",
    "robot.arm.set_position(x=-748.9, y=66.7, z=-107.6, roll=-176, pitch=62, yaw=5.3, speed=20)\n",
    "#bottom of scoop mechanism\n",
    "robot.arm.set_position(x=-788.5, y=67.7, z=-117.5, roll=-174.9, pitch=67, yaw=6.4, speed=10)\n",
    "# top of above\n",
    "robot.arm.set_position(x=-792.8, y=66.7, z=-105.3, roll=-174.1, pitch=69.4, yaw=7.1, speed=10)\n",
    "#lid\n",
    "robot.arm.set_position(x=-792.8, y=66.7, z=-66.8, roll=-149.8, pitch=85.2, yaw=31.1, speed=10)\n",
    "robot.arm.set_position(x=-714.6, y=66.7, z=-67.6, roll=-149.8, pitch=85.2, yaw=31.1, speed=10)\n",
    "#final\n",
    "robot.arm.set_position(x=-792.8, y=66.7, z=42.8, roll=-149.8, pitch=85.1, yaw=31.1, speed=40)\n",
    "\n"
   ]
  },
  {
   "cell_type": "code",
   "execution_count": 313,
   "metadata": {},
   "outputs": [
    {
     "data": {
      "text/plain": [
       "0"
      ]
     },
     "execution_count": 313,
     "metadata": {},
     "output_type": "execute_result"
    }
   ],
   "source": [
    "robot.arm.set_position(z=20,relative=True, speed=15, wait=True)"
   ]
  },
  {
   "cell_type": "code",
   "execution_count": 314,
   "metadata": {},
   "outputs": [
    {
     "data": {
      "text/plain": [
       "0"
      ]
     },
     "execution_count": 314,
     "metadata": {},
     "output_type": "execute_result"
    },
    {
     "name": "stdout",
     "output_type": "stream",
     "text": [
      "[SDK][ERROR][2025-04-04 14:04:23][base.py:293] - - [main-socket] recv error: [WinError 10054] An existing connection was forcibly closed by the remote host\n",
      "[SDK][ERROR][2025-04-04 14:04:23][base.py:247] - - [report-socket] recv error: [WinError 10054] An existing connection was forcibly closed by the remote host\n"
     ]
    }
   ],
   "source": [
    "robot.arm.set_position(z=-20,relative=True, speed=7, wait=True)"
   ]
  },
  {
   "cell_type": "code",
   "execution_count": 163,
   "metadata": {},
   "outputs": [
    {
     "ename": "KeyboardInterrupt",
     "evalue": "",
     "output_type": "error",
     "traceback": [
      "\u001b[1;31m---------------------------------------------------------------------------\u001b[0m",
      "\u001b[1;31mKeyboardInterrupt\u001b[0m                         Traceback (most recent call last)",
      "Cell \u001b[1;32mIn[163], line 8\u001b[0m\n\u001b[0;32m      5\u001b[0m time\u001b[38;5;241m.\u001b[39msleep(\u001b[38;5;241m0.5\u001b[39m)\n\u001b[0;32m      7\u001b[0m robot\u001b[38;5;241m.\u001b[39marm\u001b[38;5;241m.\u001b[39mset_position(x\u001b[38;5;241m=\u001b[39m\u001b[38;5;241m20\u001b[39m,y\u001b[38;5;241m=\u001b[39m\u001b[38;5;241m-\u001b[39m\u001b[38;5;241m5\u001b[39m,z\u001b[38;5;241m=\u001b[39m\u001b[38;5;241m80\u001b[39m,relative\u001b[38;5;241m=\u001b[39m\u001b[38;5;28;01mTrue\u001b[39;00m, speed\u001b[38;5;241m=\u001b[39m\u001b[38;5;241m45\u001b[39m, wait\u001b[38;5;241m=\u001b[39m\u001b[38;5;28;01mTrue\u001b[39;00m)\n\u001b[1;32m----> 8\u001b[0m \u001b[43mtime\u001b[49m\u001b[38;5;241;43m.\u001b[39;49m\u001b[43msleep\u001b[49m\u001b[43m(\u001b[49m\u001b[38;5;241;43m17\u001b[39;49m\u001b[43m)\u001b[49m\n",
      "\u001b[1;31mKeyboardInterrupt\u001b[0m: "
     ]
    }
   ],
   "source": [
    "total_time = 240\n",
    "start_time = time.time()\n",
    "while time.time() - start_time < total_time:\n",
    "    robot.arm.set_position(x=-20,y=5,z=-80,relative=True, speed=45, wait=True)\n",
    "    time.sleep(0.5)\n",
    "\n",
    "    robot.arm.set_position(x=20,y=-5,z=80,relative=True, speed=45, wait=True)\n",
    "    time.sleep(17)"
   ]
  },
  {
   "cell_type": "code",
   "execution_count": 222,
   "metadata": {},
   "outputs": [
    {
     "name": "stdout",
     "output_type": "stream",
     "text": [
      "ROBOT_IP: 192.168.1.200, VERSION: v2.3.0, PROTOCOL: V1, DETAIL: 6,6,XI1303,MC1303,v2.3.0, TYPE1300: [1, 1]\n",
      "change protocol identifier to 3\n"
     ]
    },
    {
     "data": {
      "text/plain": [
       "0"
      ]
     },
     "execution_count": 222,
     "metadata": {},
     "output_type": "execute_result"
    }
   ],
   "source": [
    "robot.restart()\n",
    "## ABOVE LC\n",
    "robot.arm.set_position(x=-545.3, y=55.8, z=-44.1, roll=180, pitch=87.8, yaw=0, speed=5)\n"
   ]
  },
  {
   "cell_type": "code",
   "execution_count": 7,
   "metadata": {},
   "outputs": [
    {
     "name": "stdout",
     "output_type": "stream",
     "text": [
      "ROBOT_IP: 192.168.1.200, VERSION: v2.3.0, PROTOCOL: V1, DETAIL: 6,6,XI1303,MC1303,v2.3.0, TYPE1300: [1, 1]\n",
      "change protocol identifier to 3\n",
      "[motion_enable], xArm is not ready to move\n",
      "[set_state], xArm is ready to move\n"
     ]
    },
    {
     "data": {
      "text/plain": [
       "0"
      ]
     },
     "execution_count": 7,
     "metadata": {},
     "output_type": "execute_result"
    },
    {
     "name": "stdout",
     "output_type": "stream",
     "text": [
      "ControllerError, code: 11\n",
      "servo_error_code, servo_id=1, status=1, code=40\n",
      "[SDK][ERROR][2025-03-31 11:48:25][base.py:247] - - [report-socket] recv error: [WinError 10054] An existing connection was forcibly closed by the remote host\n",
      "[SDK][ERROR][2025-03-31 11:48:25][base.py:293] - - [main-socket] recv error: [WinError 10054] An existing connection was forcibly closed by the remote host\n"
     ]
    }
   ],
   "source": [
    "robot.restart()\n",
    "robot.arm.set_position(x=-549.2, y=51.5, z=-58.9, roll=180, pitch=90, yaw=0, speed=1)"
   ]
  },
  {
   "cell_type": "code",
   "execution_count": 128,
   "metadata": {},
   "outputs": [
    {
     "data": {
      "text/plain": [
       "0"
      ]
     },
     "execution_count": 128,
     "metadata": {},
     "output_type": "execute_result"
    }
   ],
   "source": [
    "robot.arm.set_position(x=-20,y=5,z=-80,relative=True, speed=25, wait=True)"
   ]
  },
  {
   "cell_type": "code",
   "execution_count": null,
   "metadata": {},
   "outputs": [
    {
     "data": {
      "text/plain": [
       "0"
      ]
     },
     "execution_count": 129,
     "metadata": {},
     "output_type": "execute_result"
    },
    {
     "name": "stdout",
     "output_type": "stream",
     "text": [
      "[SDK][ERROR][2025-04-14 13:32:53][base.py:168] - - [report-socket] socket read timeout\n",
      "[SDK][ERROR][2025-04-14 13:33:15][base.py:293] - - [main-socket] recv error: [WinError 10054] An existing connection was forcibly closed by the remote host\n"
     ]
    }
   ],
   "source": [
    "robot.arm.set_position(x=20,y=-5,z=80,relative=True, speed=45, wait=True)"
   ]
  }
 ],
 "metadata": {
  "kernelspec": {
   "display_name": "Python 3",
   "language": "python",
   "name": "python3"
  },
  "language_info": {
   "codemirror_mode": {
    "name": "ipython",
    "version": 3
   },
   "file_extension": ".py",
   "mimetype": "text/x-python",
   "name": "python",
   "nbconvert_exporter": "python",
   "pygments_lexer": "ipython3",
   "version": "3.12.1"
  }
 },
 "nbformat": 4,
 "nbformat_minor": 2
}
