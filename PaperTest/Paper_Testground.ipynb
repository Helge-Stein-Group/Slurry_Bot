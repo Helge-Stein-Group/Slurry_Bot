{
 "cells": [
  {
   "cell_type": "code",
   "execution_count": 1,
   "metadata": {},
   "outputs": [],
   "source": [
    "%load_ext autoreload\n",
    "%autoreload 2"
   ]
  },
  {
   "cell_type": "code",
   "execution_count": 2,
   "metadata": {},
   "outputs": [
    {
     "name": "stdout",
     "output_type": "stream",
     "text": [
      "SDK_VERSION: 1.13.19\n"
     ]
    }
   ],
   "source": [
    "import numpy as np\n",
    "import time\n",
    "import csv\n",
    "from Dispensing_wrapper_robot import *\n",
    "from scale_driver import *\n",
    "from motor_driver import *\n",
    "from Robot_wrapper import *\n"
   ]
  },
  {
   "cell_type": "code",
   "execution_count": 3,
   "metadata": {},
   "outputs": [
    {
     "name": "stdout",
     "output_type": "stream",
     "text": [
      "ROBOT_IP: 192.168.1.200, VERSION: v2.3.0, PROTOCOL: V1, DETAIL: 6,6,XI1303,MC1303,v2.3.0, TYPE1300: [1, 1]\n",
      "change protocol identifier to 3\n"
     ]
    },
    {
     "name": "stdout",
     "output_type": "stream",
     "text": [
      "ControllerError, code: 2\n",
      "ControllerError had clean\n",
      "ControllerError, code: 2\n",
      "ControllerError had clean\n",
      "ControllerError, code: 2\n",
      "[SDK][ERROR][2024-06-27 11:15:26][base.py:168] - - [report-socket] socket read timeout\n",
      "[SDK][ERROR][2024-06-27 11:16:00][base.py:293] - - [main-socket] recv error: [WinError 10054] An existing connection was forcibly closed by the remote host\n",
      "[SDK][ERROR][2024-06-27 11:16:01][base.py:1212] - - report thread is break, connected=False, failed_cnts=8\n"
     ]
    }
   ],
   "source": [
    "coms = {\n",
    "    'scaleCom': 'COM7',\n",
    "    'motorsCom': 'COM9',\n",
    "}\n",
    "\n",
    "#Robot Connection\n",
    "robot = Robot()\n",
    "robot.initialize()\n",
    "robot.GoTo_InitialPoint()"
   ]
  },
  {
   "cell_type": "code",
   "execution_count": 16,
   "metadata": {},
   "outputs": [
    {
     "name": "stdout",
     "output_type": "stream",
     "text": [
      "[motion_enable], xArm is not ready to move\n",
      "[set_state], xArm is ready to move\n"
     ]
    }
   ],
   "source": [
    "robot.initialize()"
   ]
  },
  {
   "cell_type": "code",
   "execution_count": 17,
   "metadata": {},
   "outputs": [],
   "source": [
    "robot.GoTo_InitialPoint()"
   ]
  },
  {
   "cell_type": "code",
   "execution_count": 61,
   "metadata": {},
   "outputs": [
    {
     "name": "stdout",
     "output_type": "stream",
     "text": [
      "inside\n",
      "Dispenser3\n"
     ]
    }
   ],
   "source": [
    "robot.PickUpVial(\"Vial1\")\n",
    "robot.VialToScale()\n",
    "robot.ScaleToDispenser3()"
   ]
  },
  {
   "cell_type": "code",
   "execution_count": 62,
   "metadata": {},
   "outputs": [],
   "source": [
    "robot.Dispenser3ToScale()"
   ]
  },
  {
   "cell_type": "code",
   "execution_count": 7,
   "metadata": {},
   "outputs": [],
   "source": [
    "#Motor Connection\n",
    "motors = SerialConnection(coms['motorsCom'], 9600, 10)\n",
    "dispenser_motor = Motor(motors, 2)\n",
    "\n",
    "#Scale Connection\n",
    "scale = Scale(coms['scaleCom'], 9600, 10)\n",
    "#scale.connect() -> this will happen directly in the calibartion loop \n",
    "#scale.tare()"
   ]
  },
  {
   "cell_type": "code",
   "execution_count": 65,
   "metadata": {},
   "outputs": [
    {
     "name": "stdout",
     "output_type": "stream",
     "text": [
      "inside\n",
      "Dispenser3\n"
     ]
    }
   ],
   "source": [
    "robot.PickUpVial(\"Vial1\")\n",
    "robot.VialToScale()\n",
    "robot.ScaleToDispenser3()\n",
    "dispenser_motor.move(200)\n",
    "robot.Dispenser3ToScale()"
   ]
  },
  {
   "cell_type": "code",
   "execution_count": 29,
   "metadata": {},
   "outputs": [],
   "source": [
    "#This is for calibrating the scale. For it to work you must run the scale.connect function.\n",
    "scale.connect()\n",
    "scale.IntCal() \n",
    "scale.close()\n",
    "#I will need to write in some wait function for the calibration to finish"
   ]
  },
  {
   "cell_type": "code",
   "execution_count": 19,
   "metadata": {},
   "outputs": [
    {
     "name": "stdout",
     "output_type": "stream",
     "text": [
      "Measurement(mode='N', value=0.0, unit='g', stable=True, message=None)\n",
      "0.0\n"
     ]
    }
   ],
   "source": [
    "scale.connect()\n",
    "scale.tare()"
   ]
  },
  {
   "cell_type": "code",
   "execution_count": 40,
   "metadata": {},
   "outputs": [],
   "source": [
    "scale.tare()"
   ]
  },
  {
   "cell_type": "code",
   "execution_count": 20,
   "metadata": {},
   "outputs": [],
   "source": [
    "scale.close()"
   ]
  },
  {
   "cell_type": "code",
   "execution_count": 8,
   "metadata": {},
   "outputs": [],
   "source": [
    "# Define your parameters\n",
    "acceleration = 10\n",
    "speed = 5\n",
    "material = \"SuperP\"\n",
    "version_inside = \"SpiralDesign1.0\"\n",
    "version_outside = \"SpiralDesign1.1\""
   ]
  },
  {
   "cell_type": "code",
   "execution_count": 21,
   "metadata": {},
   "outputs": [
    {
     "name": "stdout",
     "output_type": "stream",
     "text": [
      "[SDK][ERROR][2024-06-17 15:53:28][base.py:247] - - [report-socket] recv error: [WinError 10054] An existing connection was forcibly closed by the remote host\n",
      "[SDK][ERROR][2024-06-17 15:53:29][base.py:293] - - [main-socket] recv error: [WinError 10054] An existing connection was forcibly closed by the remote host\n",
      "[SDK][ERROR][2024-06-17 15:53:29][base.py:293] - - [main-socket] recv error: [WinError 10054] An existing connection was forcibly closed by the remote host\n",
      "[SDK][ERROR][2024-06-17 15:53:29][base.py:247] - - [report-socket] recv error: [WinError 10054] An existing connection was forcibly closed by the remote host\n"
     ]
    }
   ],
   "source": [
    "dispenser_motor.move(600, True) "
   ]
  },
  {
   "cell_type": "code",
   "execution_count": 15,
   "metadata": {},
   "outputs": [
    {
     "name": "stdout",
     "output_type": "stream",
     "text": [
      "Repeat: 1\n",
      "Scale opened\n",
      "inside\n",
      "Dispenser3\n"
     ]
    },
    {
     "ename": "KeyboardInterrupt",
     "evalue": "",
     "output_type": "error",
     "traceback": [
      "\u001b[1;31m---------------------------------------------------------------------------\u001b[0m",
      "\u001b[1;31mKeyboardInterrupt\u001b[0m                         Traceback (most recent call last)",
      "Cell \u001b[1;32mIn[15], line 16\u001b[0m\n\u001b[0;32m     13\u001b[0m calibration_steps \u001b[38;5;241m=\u001b[39m [\u001b[38;5;241m5000\u001b[39m, \u001b[38;5;241m6000\u001b[39m, \u001b[38;5;241m7000\u001b[39m, \u001b[38;5;241m8000\u001b[39m, \u001b[38;5;241m10000\u001b[39m, \u001b[38;5;241m15000\u001b[39m]\n\u001b[0;32m     14\u001b[0m calibration_repeat \u001b[38;5;241m=\u001b[39m \u001b[38;5;241m5\u001b[39m\n\u001b[1;32m---> 16\u001b[0m \u001b[43mcalibration\u001b[49m\u001b[38;5;241;43m.\u001b[39;49m\u001b[43mcalibrate\u001b[49m\u001b[43m(\u001b[49m\u001b[43mcalibration_steps\u001b[49m\u001b[43m,\u001b[49m\u001b[43m \u001b[49m\u001b[43mcalibration_repeat\u001b[49m\u001b[43m,\u001b[49m\u001b[43m \u001b[49m\u001b[38;5;124;43m\"\u001b[39;49m\u001b[38;5;124;43mVial1\u001b[39;49m\u001b[38;5;124;43m\"\u001b[39;49m\u001b[43m)\u001b[49m\n\u001b[0;32m     18\u001b[0m calibration\u001b[38;5;241m.\u001b[39msave_calibration()\n",
      "File \u001b[1;32mc:\\Users\\digic\\OneDrive\\Desktop\\Slurry Formation 2024\\SlurryBot\\Slurry_Bot\\PaperTest\\Dispensing_wrapper_robot.py:63\u001b[0m, in \u001b[0;36mCalibration.calibrate\u001b[1;34m(self, steps, repeat, vial_number)\u001b[0m\n\u001b[0;32m     61\u001b[0m \u001b[38;5;28mself\u001b[39m\u001b[38;5;241m.\u001b[39mrobot\u001b[38;5;241m.\u001b[39mScaleToDispenser3()\n\u001b[0;32m     62\u001b[0m time\u001b[38;5;241m.\u001b[39msleep(\u001b[38;5;241m2\u001b[39m)\n\u001b[1;32m---> 63\u001b[0m \u001b[38;5;28;43mself\u001b[39;49m\u001b[38;5;241;43m.\u001b[39;49m\u001b[43mmotor\u001b[49m\u001b[38;5;241;43m.\u001b[39;49m\u001b[43mmove\u001b[49m\u001b[43m(\u001b[49m\u001b[43mstep\u001b[49m\u001b[43m)\u001b[49m\n\u001b[0;32m     64\u001b[0m time\u001b[38;5;241m.\u001b[39msleep(\u001b[38;5;241m2\u001b[39m)\n\u001b[0;32m     65\u001b[0m \u001b[38;5;66;03m# Move vial from dispensing unit on scale\u001b[39;00m\n",
      "File \u001b[1;32mc:\\Users\\digic\\OneDrive\\Desktop\\Slurry Formation 2024\\SlurryBot\\Slurry_Bot\\PaperTest\\motor_driver.py:67\u001b[0m, in \u001b[0;36mMotor.move\u001b[1;34m(self, steps, wait_for_motor)\u001b[0m\n\u001b[0;32m     65\u001b[0m \u001b[38;5;28mself\u001b[39m\u001b[38;5;241m.\u001b[39mconnection\u001b[38;5;241m.\u001b[39msend_command(\u001b[38;5;28mstr\u001b[39m(\u001b[38;5;28mself\u001b[39m\u001b[38;5;241m.\u001b[39mnum) \u001b[38;5;241m+\u001b[39m \u001b[38;5;124m\"\u001b[39m\u001b[38;5;124mF\u001b[39m\u001b[38;5;124m\"\u001b[39m \u001b[38;5;241m+\u001b[39m \u001b[38;5;28mstr\u001b[39m(steps))\n\u001b[0;32m     66\u001b[0m \u001b[38;5;28;01mif\u001b[39;00m wait_for_motor:\n\u001b[1;32m---> 67\u001b[0m     \u001b[38;5;28;43mself\u001b[39;49m\u001b[38;5;241;43m.\u001b[39;49m\u001b[43mwait_for_motor\u001b[49m\u001b[43m(\u001b[49m\u001b[43m)\u001b[49m\n",
      "File \u001b[1;32mc:\\Users\\digic\\OneDrive\\Desktop\\Slurry Formation 2024\\SlurryBot\\Slurry_Bot\\PaperTest\\motor_driver.py:72\u001b[0m, in \u001b[0;36mMotor.wait_for_motor\u001b[1;34m(self)\u001b[0m\n\u001b[0;32m     70\u001b[0m \u001b[38;5;250m\u001b[39m\u001b[38;5;124;03m\"\"\" Wait for acknowledgment from the motor that task is finished \"\"\"\u001b[39;00m\n\u001b[0;32m     71\u001b[0m \u001b[38;5;28;01mwhile\u001b[39;00m \u001b[38;5;28;01mTrue\u001b[39;00m:\n\u001b[1;32m---> 72\u001b[0m     response \u001b[38;5;241m=\u001b[39m \u001b[38;5;28;43mself\u001b[39;49m\u001b[38;5;241;43m.\u001b[39;49m\u001b[43mconnection\u001b[49m\u001b[38;5;241;43m.\u001b[39;49m\u001b[43mread_response\u001b[49m\u001b[43m(\u001b[49m\u001b[43m)\u001b[49m\n\u001b[0;32m     73\u001b[0m     \u001b[38;5;28;01mif\u001b[39;00m response \u001b[38;5;241m==\u001b[39m \u001b[38;5;124m'\u001b[39m\u001b[38;5;124mMOTOR_FINISHED\u001b[39m\u001b[38;5;124m'\u001b[39m:\n\u001b[0;32m     74\u001b[0m         \u001b[38;5;28;01mbreak\u001b[39;00m\n",
      "File \u001b[1;32mc:\\Users\\digic\\OneDrive\\Desktop\\Slurry Formation 2024\\SlurryBot\\Slurry_Bot\\PaperTest\\motor_driver.py:27\u001b[0m, in \u001b[0;36mSerialConnection.read_response\u001b[1;34m(self)\u001b[0m\n\u001b[0;32m     25\u001b[0m \u001b[38;5;28;01mdef\u001b[39;00m \u001b[38;5;21mread_response\u001b[39m(\u001b[38;5;28mself\u001b[39m):\n\u001b[0;32m     26\u001b[0m \u001b[38;5;250m    \u001b[39m\u001b[38;5;124;03m\"\"\" Reads and returns the response from the serial connection. \"\"\"\u001b[39;00m\n\u001b[1;32m---> 27\u001b[0m     \u001b[38;5;28;01mreturn\u001b[39;00m \u001b[38;5;28;43mself\u001b[39;49m\u001b[38;5;241;43m.\u001b[39;49m\u001b[43mser\u001b[49m\u001b[38;5;241;43m.\u001b[39;49m\u001b[43mreadline\u001b[49m\u001b[43m(\u001b[49m\u001b[43m)\u001b[49m\u001b[38;5;241m.\u001b[39mdecode(\u001b[38;5;124m'\u001b[39m\u001b[38;5;124mutf-8\u001b[39m\u001b[38;5;124m'\u001b[39m)\u001b[38;5;241m.\u001b[39mstrip()\n",
      "File \u001b[1;32mc:\\Users\\digic\\AppData\\Local\\Programs\\Python\\Python312\\Lib\\site-packages\\serial\\serialwin32.py:288\u001b[0m, in \u001b[0;36mSerial.read\u001b[1;34m(self, size)\u001b[0m\n\u001b[0;32m    286\u001b[0m \u001b[38;5;28;01mif\u001b[39;00m \u001b[38;5;129;01mnot\u001b[39;00m read_ok \u001b[38;5;129;01mand\u001b[39;00m win32\u001b[38;5;241m.\u001b[39mGetLastError() \u001b[38;5;129;01mnot\u001b[39;00m \u001b[38;5;129;01min\u001b[39;00m (win32\u001b[38;5;241m.\u001b[39mERROR_SUCCESS, win32\u001b[38;5;241m.\u001b[39mERROR_IO_PENDING):\n\u001b[0;32m    287\u001b[0m     \u001b[38;5;28;01mraise\u001b[39;00m SerialException(\u001b[38;5;124m\"\u001b[39m\u001b[38;5;124mReadFile failed (\u001b[39m\u001b[38;5;132;01m{!r}\u001b[39;00m\u001b[38;5;124m)\u001b[39m\u001b[38;5;124m\"\u001b[39m\u001b[38;5;241m.\u001b[39mformat(ctypes\u001b[38;5;241m.\u001b[39mWinError()))\n\u001b[1;32m--> 288\u001b[0m result_ok \u001b[38;5;241m=\u001b[39m \u001b[43mwin32\u001b[49m\u001b[38;5;241;43m.\u001b[39;49m\u001b[43mGetOverlappedResult\u001b[49m\u001b[43m(\u001b[49m\n\u001b[0;32m    289\u001b[0m \u001b[43m    \u001b[49m\u001b[38;5;28;43mself\u001b[39;49m\u001b[38;5;241;43m.\u001b[39;49m\u001b[43m_port_handle\u001b[49m\u001b[43m,\u001b[49m\n\u001b[0;32m    290\u001b[0m \u001b[43m    \u001b[49m\u001b[43mctypes\u001b[49m\u001b[38;5;241;43m.\u001b[39;49m\u001b[43mbyref\u001b[49m\u001b[43m(\u001b[49m\u001b[38;5;28;43mself\u001b[39;49m\u001b[38;5;241;43m.\u001b[39;49m\u001b[43m_overlapped_read\u001b[49m\u001b[43m)\u001b[49m\u001b[43m,\u001b[49m\n\u001b[0;32m    291\u001b[0m \u001b[43m    \u001b[49m\u001b[43mctypes\u001b[49m\u001b[38;5;241;43m.\u001b[39;49m\u001b[43mbyref\u001b[49m\u001b[43m(\u001b[49m\u001b[43mrc\u001b[49m\u001b[43m)\u001b[49m\u001b[43m,\u001b[49m\n\u001b[0;32m    292\u001b[0m \u001b[43m    \u001b[49m\u001b[38;5;28;43;01mTrue\u001b[39;49;00m\u001b[43m)\u001b[49m\n\u001b[0;32m    293\u001b[0m \u001b[38;5;28;01mif\u001b[39;00m \u001b[38;5;129;01mnot\u001b[39;00m result_ok:\n\u001b[0;32m    294\u001b[0m     \u001b[38;5;28;01mif\u001b[39;00m win32\u001b[38;5;241m.\u001b[39mGetLastError() \u001b[38;5;241m!=\u001b[39m win32\u001b[38;5;241m.\u001b[39mERROR_OPERATION_ABORTED:\n",
      "\u001b[1;31mKeyboardInterrupt\u001b[0m: "
     ]
    }
   ],
   "source": [
    "#Error test: Test with Super P and Design 4, see at which point the error does not change anymore significantly \n",
    "#Motor is doing 200steps for one full turn, Design 4 has 12 pits which means 200/12 = 16.6 steps are neccesary to empty one pit\n",
    "#Calibration step: 200/n, 2x200/n, 3x200/n, 4x200/n,...till teh first hole is being emptied (e.g 12 holes for design 4 so we empty six holes so the first hole which was filled gets emptied again) + 200, 1000,...\n",
    "\n",
    "calibration = Calibration(acceleration, speed, material, version_inside, version_outside, dispenser_motor, scale, robot)\n",
    "\n",
    "#calibration_steps = [17, 34, 51, 68, 85, 102, 200, 400, 600, 800, 1000, 2000] 200/12 = 16.6, so 17 steps, we could do factors of 17 like shown here\n",
    "#calibration_steps = [17, 33, 50, 67, 83, 100, 200, 1000, 2000, 3000, 4000] # or we take factors of 16.6 and round up or down to the nearest integer liek shown here\n",
    "#calibration_steps = [8, 16, 24, 32, 40, 48, 56, 64, 72, 80, 88, 96, 200, 400, 600]\n",
    "#calibration_repeat = 10\n",
    "\n",
    "#Design 2: 25pits 200/25\n",
    "calibration_steps = [5000, 6000, 7000, 8000, 10000, 15000]\n",
    "calibration_repeat = 5\n",
    "\n",
    "calibration.calibrate(calibration_steps, calibration_repeat, \"Vial1\")\n",
    "\n",
    "calibration.save_calibration()"
   ]
  },
  {
   "cell_type": "code",
   "execution_count": 9,
   "metadata": {},
   "outputs": [
    {
     "name": "stdout",
     "output_type": "stream",
     "text": [
      "Total material used for calibration: 0.912g\n",
      "Total number of steps: 18240\n"
     ]
    }
   ],
   "source": [
    "#calibration_steps = [17, 33, 50, 67, 83, 100, 200, 1000, 2000, 3000, 4000]\n",
    "#calibration_repeat = 10\n",
    "\n",
    "calibration_steps = [8, 16, 24, 32, 40, 48, 56, 64, 72, 80, 88, 96, 200, 400, 600]\n",
    "calibration_repeat = 5\n",
    "\n",
    "material_per_step = 0.00005\n",
    "total_steps = sum(calibration_steps)*calibration_repeat\n",
    "total_material= sum(step*material_per_step for step in calibration_steps)*calibration_repeat\n",
    "print(f'Total material used for calibration: {total_material}g')\n",
    "print(f'Total number of steps: {total_steps}')"
   ]
  }
 ],
 "metadata": {
  "kernelspec": {
   "display_name": "Python 3",
   "language": "python",
   "name": "python3"
  },
  "language_info": {
   "codemirror_mode": {
    "name": "ipython",
    "version": 3
   },
   "file_extension": ".py",
   "mimetype": "text/x-python",
   "name": "python",
   "nbconvert_exporter": "python",
   "pygments_lexer": "ipython3",
   "version": "3.12.1"
  }
 },
 "nbformat": 4,
 "nbformat_minor": 2
}
