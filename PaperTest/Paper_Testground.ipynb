{
 "cells": [
  {
   "cell_type": "code",
   "execution_count": null,
   "metadata": {},
   "outputs": [],
   "source": [
    "#Hello Danika, I created this extra folder for all the paper regarding tests. \n",
    "#I also copied the relevant drivers and wrappers into this folder since I did not want to mess with the original files in case I need to change something.\n",
    "#I also changed the code in the way that it creates a file with all the raw data and adds the data immediately to the file.\n",
    "\n"
   ]
  },
  {
   "cell_type": "code",
   "execution_count": 1,
   "metadata": {},
   "outputs": [],
   "source": [
    "%load_ext autoreload\n",
    "%autoreload 2"
   ]
  },
  {
   "cell_type": "code",
   "execution_count": 2,
   "metadata": {},
   "outputs": [
    {
     "name": "stdout",
     "output_type": "stream",
     "text": [
      "SDK_VERSION: 1.13.19\n"
     ]
    }
   ],
   "source": [
    "import numpy as np\n",
    "import time\n",
    "import csv\n",
    "from Dispensing_wrapper_robot import *\n",
    "from scale_driver import *\n",
    "from motor_driver import *\n"
   ]
  },
  {
   "cell_type": "code",
   "execution_count": 11,
   "metadata": {},
   "outputs": [
    {
     "name": "stdout",
     "output_type": "stream",
     "text": [
      "ROBOT_IP: 192.168.1.200, VERSION: v2.3.0, PROTOCOL: V1, DETAIL: 6,6,XI1303,MC1303,v2.3.0, TYPE1300: [1, 1]\n",
      "change protocol identifier to 3\n",
      "[motion_enable], xArm is not ready to move\n",
      "[set_state], xArm is ready to move\n"
     ]
    }
   ],
   "source": [
    "coms = {\n",
    "    'scaleCom': 'COM7',\n",
    "    'motorsCom': 'COM9',\n",
    "}\n",
    "\n",
    "#Robot Connection\n",
    "robot = Robot()\n",
    "robot.initialize()\n",
    "robot.GoTo_InitialPoint()"
   ]
  },
  {
   "cell_type": "code",
   "execution_count": 22,
   "metadata": {},
   "outputs": [
    {
     "name": "stdout",
     "output_type": "stream",
     "text": [
      "[SDK][ERROR][2024-06-03 14:50:54][base.py:374] - - API -> set_position -> code=9, pos=[-228.0, 0.0, 133.0, 0.0, 1.5707963267948966, 3.141592653589793], radius=-1, velo=20.0, acc=2000\n"
     ]
    }
   ],
   "source": [
    "robot.GoTo_InitialPoint()"
   ]
  },
  {
   "cell_type": "code",
   "execution_count": 7,
   "metadata": {},
   "outputs": [],
   "source": [
    "#Motor Connection\n",
    "motors = SerialConnection(coms['motorsCom'], 9600, 10)\n",
    "dispenser_motor = Motor(motors, 1)\n",
    "\n",
    "#Scale Connection\n",
    "scale = Scale(coms['scaleCom'], 9600, 10)\n",
    "#scale.connect() -> this will happen directly in the calibartion loop \n",
    "#scale.tare()"
   ]
  },
  {
   "cell_type": "code",
   "execution_count": 29,
   "metadata": {},
   "outputs": [],
   "source": [
    "#This is for calibrating the scale. For it to work you must run the scale.connect function.\n",
    "scale.connect()\n",
    "scale.IntCal() \n",
    "scale.close()\n",
    "#I will need to write in some wait function for the calibration to finish"
   ]
  },
  {
   "cell_type": "code",
   "execution_count": 19,
   "metadata": {},
   "outputs": [
    {
     "name": "stdout",
     "output_type": "stream",
     "text": [
      "Measurement(mode='N', value=0.0, unit='g', stable=True, message=None)\n",
      "0.0\n"
     ]
    }
   ],
   "source": [
    "scale.connect()\n",
    "scale.tare()"
   ]
  },
  {
   "cell_type": "code",
   "execution_count": 20,
   "metadata": {},
   "outputs": [],
   "source": [
    "scale.close()"
   ]
  },
  {
   "cell_type": "code",
   "execution_count": 5,
   "metadata": {},
   "outputs": [],
   "source": [
    "# Define your parameters\n",
    "acceleration = 10\n",
    "speed = 5\n",
    "material = \"HardCarbon\"\n",
    "version_inside = \"Design2\"\n",
    "version_outside = \"Design1\""
   ]
  },
  {
   "cell_type": "code",
   "execution_count": 8,
   "metadata": {},
   "outputs": [],
   "source": [
    "dispenser_motor.move(600, True) \n",
    "#I ran some random tests and wrote some numbers down to get a feeling -> not looking good to be honest, i think with Super P we need a lot of turns to get a reproducibele outcome\n",
    "#0.0063g per 200 steps\n",
    "#0,0086 per 400\n",
    "#0,0026 per 200\n",
    "#0,0083 per 200\n",
    "#0,0167 per 1000\n",
    "#0,0172 per 1000\n",
    "#0,0132 per 1000\n"
   ]
  },
  {
   "cell_type": "code",
   "execution_count": 12,
   "metadata": {},
   "outputs": [
    {
     "name": "stdout",
     "output_type": "stream",
     "text": [
      "Repeat: 1\n",
      "Scale opened\n"
     ]
    },
    {
     "ename": "KeyboardInterrupt",
     "evalue": "",
     "output_type": "error",
     "traceback": [
      "\u001b[1;31m---------------------------------------------------------------------------\u001b[0m",
      "\u001b[1;31mKeyboardInterrupt\u001b[0m                         Traceback (most recent call last)",
      "Cell \u001b[1;32mIn[12], line 15\u001b[0m\n\u001b[0;32m     12\u001b[0m calibration_steps \u001b[38;5;241m=\u001b[39m [\u001b[38;5;241m8\u001b[39m, \u001b[38;5;241m16\u001b[39m, \u001b[38;5;241m24\u001b[39m, \u001b[38;5;241m32\u001b[39m, \u001b[38;5;241m40\u001b[39m, \u001b[38;5;241m48\u001b[39m, \u001b[38;5;241m56\u001b[39m, \u001b[38;5;241m64\u001b[39m, \u001b[38;5;241m72\u001b[39m, \u001b[38;5;241m80\u001b[39m, \u001b[38;5;241m88\u001b[39m, \u001b[38;5;241m96\u001b[39m, \u001b[38;5;241m200\u001b[39m, \u001b[38;5;241m400\u001b[39m, \u001b[38;5;241m600\u001b[39m]\n\u001b[0;32m     13\u001b[0m calibration_repeat \u001b[38;5;241m=\u001b[39m \u001b[38;5;241m10\u001b[39m\n\u001b[1;32m---> 15\u001b[0m \u001b[43mcalibration\u001b[49m\u001b[38;5;241;43m.\u001b[39;49m\u001b[43mcalibrate\u001b[49m\u001b[43m(\u001b[49m\u001b[43mcalibration_steps\u001b[49m\u001b[43m,\u001b[49m\u001b[43m \u001b[49m\u001b[43mcalibration_repeat\u001b[49m\u001b[43m,\u001b[49m\u001b[43m \u001b[49m\u001b[38;5;124;43m\"\u001b[39;49m\u001b[38;5;124;43mVial1\u001b[39;49m\u001b[38;5;124;43m\"\u001b[39;49m\u001b[43m)\u001b[49m\n\u001b[0;32m     17\u001b[0m calibration\u001b[38;5;241m.\u001b[39msave_calibration()\n",
      "File \u001b[1;32mc:\\Users\\digic\\OneDrive\\Desktop\\Slurry Formation 2024\\SlurryBot\\Slurry_Bot\\PaperTest\\Dispensing_wrapper_robot.py:64\u001b[0m, in \u001b[0;36mCalibration.calibrate\u001b[1;34m(self, steps, repeat, vial_number)\u001b[0m\n\u001b[0;32m     62\u001b[0m time\u001b[38;5;241m.\u001b[39msleep(\u001b[38;5;241m2\u001b[39m)\n\u001b[0;32m     63\u001b[0m \u001b[38;5;28mself\u001b[39m\u001b[38;5;241m.\u001b[39mmotor\u001b[38;5;241m.\u001b[39mmove(step)\n\u001b[1;32m---> 64\u001b[0m \u001b[43mtime\u001b[49m\u001b[38;5;241;43m.\u001b[39;49m\u001b[43msleep\u001b[49m\u001b[43m(\u001b[49m\u001b[38;5;241;43m2\u001b[39;49m\u001b[43m)\u001b[49m\n\u001b[0;32m     65\u001b[0m \u001b[38;5;66;03m# Move vial from dispensing unit on scale\u001b[39;00m\n\u001b[0;32m     66\u001b[0m \u001b[38;5;28mself\u001b[39m\u001b[38;5;241m.\u001b[39mrobot\u001b[38;5;241m.\u001b[39mDispenser1ToScale()\n",
      "\u001b[1;31mKeyboardInterrupt\u001b[0m: "
     ]
    }
   ],
   "source": [
    "#Error test: Test with Super P and Design 4, see at which point the error does not change anymore significantly \n",
    "#Motor is doing 200steps for one full turn, Design 4 has 12 pits which means 200/12 = 16.6 steps are neccesary to empty one pit\n",
    "#Calibration step: 200/n, 2x200/n, 3x200/n, 4x200/n,...till teh first hole is being emptied (e.g 12 holes for design 4 so we empty six holes so the first hole which was filled gets emptied again) + 200, 1000,...\n",
    "\n",
    "calibration = Calibration(acceleration, speed, material, version_inside, version_outside, dispenser_motor, scale, robot)\n",
    "\n",
    "#calibration_steps = [17, 34, 51, 68, 85, 102, 200, 400, 600, 800, 1000, 2000] 200/12 = 16.6, so 17 steps, we could do factors of 17 like shown here\n",
    "#calibration_steps = [17, 33, 50, 67, 83, 100, 200, 1000, 2000, 3000, 4000] # or we take factors of 16.6 and round up or down to the nearest integer liek shown here\n",
    "#calibration_repeat = 10\n",
    "\n",
    "#Design 2: 25pits 200/25\n",
    "calibration_steps = [8, 16, 24, 32, 40, 48, 56, 64, 72, 80, 88, 96, 200, 400, 600]\n",
    "calibration_repeat = 10\n",
    "\n",
    "calibration.calibrate(calibration_steps, calibration_repeat, \"Vial1\")\n",
    "\n",
    "calibration.save_calibration()"
   ]
  },
  {
   "cell_type": "code",
   "execution_count": 9,
   "metadata": {},
   "outputs": [
    {
     "name": "stdout",
     "output_type": "stream",
     "text": [
      "Total material used for calibration: 0.912g\n",
      "Total number of steps: 18240\n"
     ]
    }
   ],
   "source": [
    "#calibration_steps = [17, 33, 50, 67, 83, 100, 200, 1000, 2000, 3000, 4000]\n",
    "#calibration_repeat = 10\n",
    "\n",
    "calibration_steps = [8, 16, 24, 32, 40, 48, 56, 64, 72, 80, 88, 96, 200, 400, 600]\n",
    "calibration_repeat = 10\n",
    "\n",
    "material_per_step = 0.00005\n",
    "total_steps = sum(calibration_steps)*calibration_repeat\n",
    "total_material= sum(step*material_per_step for step in calibration_steps)*calibration_repeat\n",
    "print(f'Total material used for calibration: {total_material}g')\n",
    "print(f'Total number of steps: {total_steps}')"
   ]
  }
 ],
 "metadata": {
  "kernelspec": {
   "display_name": "Python 3",
   "language": "python",
   "name": "python3"
  },
  "language_info": {
   "codemirror_mode": {
    "name": "ipython",
    "version": 3
   },
   "file_extension": ".py",
   "mimetype": "text/x-python",
   "name": "python",
   "nbconvert_exporter": "python",
   "pygments_lexer": "ipython3",
   "version": "3.12.1"
  }
 },
 "nbformat": 4,
 "nbformat_minor": 2
}
