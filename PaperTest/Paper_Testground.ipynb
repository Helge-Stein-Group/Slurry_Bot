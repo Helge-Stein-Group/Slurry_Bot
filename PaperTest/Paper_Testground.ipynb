{
 "cells": [
  {
   "cell_type": "code",
   "execution_count": null,
   "metadata": {},
   "outputs": [],
   "source": [
    "import numpy as np\n",
    "import time\n",
    "import csv\n",
    "from dispensing import *\n",
    "from scale_driver import *\n",
    "from motor_driver import *\n",
    "\n",
    "coms = {\n",
    "    'scaleCom': 'COM7',\n",
    "    'motorsCom': 'COM5',\n",
    "}\n",
    "\n",
    "motors = SerialConnection(coms['motorsCom'], 9600, 10)\n",
    "dispenser_motor = Motor(motors, 0)\n",
    "\n",
    "scale = Scale(coms['scaleCom'], 9600, 10)\n",
    "scale.connect()\n",
    "scale.tare()"
   ]
  },
  {
   "cell_type": "code",
   "execution_count": null,
   "metadata": {},
   "outputs": [],
   "source": [
    "# Define your parameters\n",
    "acceleration = 10\n",
    "speed = 5\n",
    "material = \"SuperP\"\n",
    "version_inside = \"Design2\"\n",
    "version_outside = \"Design1\"\n",
    "motor = dispenser_motor\n",
    "scale = scale\n",
    "robot = robot\n",
    "\n",
    "flush_material(dispenser_motor, 500)"
   ]
  },
  {
   "cell_type": "code",
   "execution_count": null,
   "metadata": {},
   "outputs": [],
   "source": [
    "#Error test: Test with Super P and Design 2, see at which point the error does not change anymore significantly \n",
    "#Motor is doing 200steps for one full turn, Disgn2 has 25 pits which means 200/25 = 8 steps are neccesary to empty one pit\n",
    "\n",
    "calibration = Calibration(acceleration, speed, material, version_inside, version_outside, motor, scale, robot)\n",
    "glassware = Glassware()\n",
    "\n",
    "#calibration steps = 200/n, 2x200/n, 3x200/n, 4x200/n, 5x200/n, 6x200/n, 7x200/n, 8x200/n, 9x200/n, 10x200/n, 11x200/n, 12x/200, 200\n",
    "calibration_steps = [8, 16, 32, 40, 48, 56, 64, 72, 80, 88, 96, 104, 200]\n",
    "calibration_repeat = 10\n",
    "\n",
    "calibration.calibrate(calibration_steps, calibration_repeat, \"Vial1\")\n",
    "\n",
    "calibration.save_calibration()"
   ]
  },
  {
   "cell_type": "code",
   "execution_count": null,
   "metadata": {},
   "outputs": [],
   "source": [
    "\n",
    "my_calibration = Calibration(100,100,\"Test\",\"NA\", \"NA\")\n",
    "my_calibration.calibrate([5, 30, 70], 2, dispenser_motor, scale, robot, \"Vial1\")\n",
    "my_calibration.save_calibration()\n",
    "(self, acceleration, speed, material, version_inside, version_outside, motor, scale, robot):"
   ]
  }
 ],
 "metadata": {
  "language_info": {
   "name": "python"
  }
 },
 "nbformat": 4,
 "nbformat_minor": 2
}
