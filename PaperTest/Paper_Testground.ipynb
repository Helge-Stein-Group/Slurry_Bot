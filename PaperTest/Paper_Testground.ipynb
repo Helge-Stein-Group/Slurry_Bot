{
 "cells": [
  {
   "cell_type": "code",
   "execution_count": 48,
   "metadata": {},
   "outputs": [
    {
     "name": "stdout",
     "output_type": "stream",
     "text": [
      "The autoreload extension is already loaded. To reload it, use:\n",
      "  %reload_ext autoreload\n"
     ]
    }
   ],
   "source": [
    "%load_ext autoreload\n",
    "%autoreload 2"
   ]
  },
  {
   "cell_type": "code",
   "execution_count": 59,
   "metadata": {},
   "outputs": [],
   "source": [
    "import numpy as np\n",
    "import time\n",
    "import csv\n",
    "from Dispensing_wrapper_robot import *\n",
    "from scale_driver import *\n",
    "from motor_driver import *\n",
    "from Robot_wrapper import *\n"
   ]
  },
  {
   "cell_type": "code",
   "execution_count": 60,
   "metadata": {},
   "outputs": [
    {
     "name": "stdout",
     "output_type": "stream",
     "text": [
      "ROBOT_IP: 192.168.1.200, VERSION: v2.3.0, PROTOCOL: V1, DETAIL: 6,6,XI1303,MC1303,v2.3.0, TYPE1300: [1, 1]\n",
      "change protocol identifier to 3\n",
      "[motion_enable], xArm is not ready to move\n",
      "[set_state], xArm is ready to move\n"
     ]
    },
    {
     "name": "stdout",
     "output_type": "stream",
     "text": [
      "ControllerError had clean\n",
      "ControllerError, code: 31\n",
      "ControllerError had clean\n",
      "ControllerError, code: 31\n",
      "ControllerError had clean\n"
     ]
    }
   ],
   "source": [
    "coms = {\n",
    "    'scaleCom': 'COM7',\n",
    "    'motorsCom': 'COM9',\n",
    "}\n",
    "\n",
    "#Robot Connection\n",
    "robot = Robot()\n",
    "robot.initialize()\n",
    "robot.GoTo_InitialPoint()"
   ]
  },
  {
   "cell_type": "code",
   "execution_count": 71,
   "metadata": {},
   "outputs": [
    {
     "name": "stdout",
     "output_type": "stream",
     "text": [
      "[motion_enable], xArm is not ready to move\n",
      "[set_state], xArm is ready to move\n"
     ]
    }
   ],
   "source": [
    "robot.initialize()"
   ]
  },
  {
   "cell_type": "code",
   "execution_count": 70,
   "metadata": {},
   "outputs": [
    {
     "name": "stdout",
     "output_type": "stream",
     "text": [
      "[SDK][ERROR][2024-06-14 14:36:57][base.py:374] - - API -> set_position -> code=9, pos=[-228.0, 0.0, 133.0, 0.0, 1.5707963267948966, 3.141592653589793], radius=-1, velo=20.0, acc=2000\n"
     ]
    }
   ],
   "source": [
    "robot.GoTo_InitialPoint()"
   ]
  },
  {
   "cell_type": "code",
   "execution_count": 61,
   "metadata": {},
   "outputs": [
    {
     "name": "stdout",
     "output_type": "stream",
     "text": [
      "inside\n",
      "Dispenser3\n"
     ]
    }
   ],
   "source": [
    "robot.PickUpVial(\"Vial1\")\n",
    "robot.VialToScale()\n",
    "robot.ScaleToDispenser3()"
   ]
  },
  {
   "cell_type": "code",
   "execution_count": 62,
   "metadata": {},
   "outputs": [],
   "source": [
    "robot.Dispenser3ToScale()"
   ]
  },
  {
   "cell_type": "code",
   "execution_count": 64,
   "metadata": {},
   "outputs": [],
   "source": [
    "#Motor Connection\n",
    "motors = SerialConnection(coms['motorsCom'], 9600, 10)\n",
    "dispenser_motor = Motor(motors, 2)\n",
    "\n",
    "#Scale Connection\n",
    "scale = Scale(coms['scaleCom'], 9600, 10)\n",
    "#scale.connect() -> this will happen directly in the calibartion loop \n",
    "#scale.tare()"
   ]
  },
  {
   "cell_type": "code",
   "execution_count": 65,
   "metadata": {},
   "outputs": [
    {
     "name": "stdout",
     "output_type": "stream",
     "text": [
      "inside\n",
      "Dispenser3\n"
     ]
    }
   ],
   "source": [
    "robot.PickUpVial(\"Vial1\")\n",
    "robot.VialToScale()\n",
    "robot.ScaleToDispenser3()\n",
    "dispenser_motor.move(200)\n",
    "robot.Dispenser3ToScale()"
   ]
  },
  {
   "cell_type": "code",
   "execution_count": 29,
   "metadata": {},
   "outputs": [],
   "source": [
    "#This is for calibrating the scale. For it to work you must run the scale.connect function.\n",
    "scale.connect()\n",
    "scale.IntCal() \n",
    "scale.close()\n",
    "#I will need to write in some wait function for the calibration to finish"
   ]
  },
  {
   "cell_type": "code",
   "execution_count": 19,
   "metadata": {},
   "outputs": [
    {
     "name": "stdout",
     "output_type": "stream",
     "text": [
      "Measurement(mode='N', value=0.0, unit='g', stable=True, message=None)\n",
      "0.0\n"
     ]
    }
   ],
   "source": [
    "scale.connect()\n",
    "scale.tare()"
   ]
  },
  {
   "cell_type": "code",
   "execution_count": 40,
   "metadata": {},
   "outputs": [],
   "source": [
    "scale.tare()"
   ]
  },
  {
   "cell_type": "code",
   "execution_count": 20,
   "metadata": {},
   "outputs": [],
   "source": [
    "scale.close()"
   ]
  },
  {
   "cell_type": "code",
   "execution_count": 68,
   "metadata": {},
   "outputs": [],
   "source": [
    "# Define your parameters\n",
    "acceleration = 10\n",
    "speed = 5\n",
    "material = \"SuperP\"\n",
    "version_inside = \"SpiralDesign1.0\"\n",
    "version_outside = \"SpiralDesign1.1\""
   ]
  },
  {
   "cell_type": "code",
   "execution_count": 67,
   "metadata": {},
   "outputs": [],
   "source": [
    "dispenser_motor.move(600, True) \n",
    "#I ran some random tests and wrote some numbers down to get a feeling -> not looking good to be honest, i think with Super P we need a lot of turns to get a reproducibele outcome\n",
    "#0.0063g per 200 steps\n",
    "#0,0086 per 400\n",
    "#0,0026 per 200\n",
    "#0,0083 per 200\n",
    "#0,0167 per 1000\n",
    "#0,0172 per 1000\n",
    "#0,0132 per 1000\n"
   ]
  },
  {
   "cell_type": "code",
   "execution_count": 69,
   "metadata": {},
   "outputs": [
    {
     "name": "stdout",
     "output_type": "stream",
     "text": [
      "Repeat: 1\n",
      "Scale opened\n",
      "inside\n",
      "Dispenser3\n",
      "[SDK][ERROR][2024-06-14 14:34:36][base.py:374] - - wait_feedback, xarm is stop, state=4\n",
      "[SDK][ERROR][2024-06-14 14:34:36][base.py:374] - - API -> set_position -> code=1, pos=[-400.0, 50.0, 92.0, 3.141592653589793, 1.5707963267948966, 0.0], radius=-1, velo=30.0, acc=2000\n",
      "[SDK][ERROR][2024-06-14 14:34:36][base.py:374] - - API -> set_position -> code=1, pos=[-287.0, 120.0, 92.0, -1.5707963267948966, 1.5707963267948966, 0.0], radius=-1, velo=250.0, acc=2000\n",
      "[SDK][ERROR][2024-06-14 14:34:36][base.py:374] - - API -> set_relative_position -> code=1, pos=[0, 130.0, 0, 0, 0, 0], radius=-1, velo=80.0, acc=2000\n",
      "[SDK][ERROR][2024-06-14 14:34:36][base.py:374] - - API -> set_relative_position -> code=1, pos=[0, 0, -39.5, 0, 0, 0], radius=-1, velo=50.0, acc=2000\n",
      "[SDK][ERROR][2024-06-14 14:34:36][base.py:374] - - wait_move, xarm is stop, state=4\n",
      "[SDK][ERROR][2024-06-14 14:34:36][base.py:374] - - API -> set_modbus_gripper_position(pos=400) -> code=1\n"
     ]
    },
    {
     "ename": "KeyboardInterrupt",
     "evalue": "",
     "output_type": "error",
     "traceback": [
      "\u001b[1;31m---------------------------------------------------------------------------\u001b[0m",
      "\u001b[1;31mKeyboardInterrupt\u001b[0m                         Traceback (most recent call last)",
      "Cell \u001b[1;32mIn[69], line 16\u001b[0m\n\u001b[0;32m     13\u001b[0m calibration_steps \u001b[38;5;241m=\u001b[39m [\u001b[38;5;241m5\u001b[39m, \u001b[38;5;241m10\u001b[39m, \u001b[38;5;241m20\u001b[39m, \u001b[38;5;241m50\u001b[39m, \u001b[38;5;241m80\u001b[39m, \u001b[38;5;241m100\u001b[39m, \u001b[38;5;241m200\u001b[39m, \u001b[38;5;241m400\u001b[39m, \u001b[38;5;241m600\u001b[39m]\n\u001b[0;32m     14\u001b[0m calibration_repeat \u001b[38;5;241m=\u001b[39m \u001b[38;5;241m5\u001b[39m\n\u001b[1;32m---> 16\u001b[0m \u001b[43mcalibration\u001b[49m\u001b[38;5;241;43m.\u001b[39;49m\u001b[43mcalibrate\u001b[49m\u001b[43m(\u001b[49m\u001b[43mcalibration_steps\u001b[49m\u001b[43m,\u001b[49m\u001b[43m \u001b[49m\u001b[43mcalibration_repeat\u001b[49m\u001b[43m,\u001b[49m\u001b[43m \u001b[49m\u001b[38;5;124;43m\"\u001b[39;49m\u001b[38;5;124;43mVial1\u001b[39;49m\u001b[38;5;124;43m\"\u001b[39;49m\u001b[43m)\u001b[49m\n\u001b[0;32m     18\u001b[0m calibration\u001b[38;5;241m.\u001b[39msave_calibration()\n",
      "File \u001b[1;32mc:\\Users\\digic\\OneDrive\\Desktop\\Slurry Formation 2024\\SlurryBot\\Slurry_Bot\\PaperTest\\Dispensing_wrapper_robot.py:68\u001b[0m, in \u001b[0;36mCalibration.calibrate\u001b[1;34m(self, steps, repeat, vial_number)\u001b[0m\n\u001b[0;32m     66\u001b[0m \u001b[38;5;28mself\u001b[39m\u001b[38;5;241m.\u001b[39mrobot\u001b[38;5;241m.\u001b[39mDispenser1ToScale()\n\u001b[0;32m     67\u001b[0m time\u001b[38;5;241m.\u001b[39msleep(\u001b[38;5;241m2\u001b[39m)\n\u001b[1;32m---> 68\u001b[0m weight \u001b[38;5;241m=\u001b[39m \u001b[38;5;28;43mself\u001b[39;49m\u001b[38;5;241;43m.\u001b[39;49m\u001b[43mscale\u001b[49m\u001b[38;5;241;43m.\u001b[39;49m\u001b[43mmeasure_stable\u001b[49m\u001b[43m(\u001b[49m\u001b[43m)\u001b[49m\u001b[38;5;241m.\u001b[39mvalue\n\u001b[0;32m     70\u001b[0m weights[idx, i] \u001b[38;5;241m=\u001b[39m weight\n\u001b[0;32m     71\u001b[0m \u001b[38;5;66;03m#weights[idx, i] = self.scale.measure_stable().value\u001b[39;00m\n",
      "File \u001b[1;32mc:\\Users\\digic\\OneDrive\\Desktop\\Slurry Formation 2024\\SlurryBot\\Slurry_Bot\\PaperTest\\scale_driver.py:150\u001b[0m, in \u001b[0;36mScale.measure_stable\u001b[1;34m(self)\u001b[0m\n\u001b[0;32m    149\u001b[0m \u001b[38;5;28;01mdef\u001b[39;00m \u001b[38;5;21mmeasure_stable\u001b[39m(\u001b[38;5;28mself\u001b[39m):\n\u001b[1;32m--> 150\u001b[0m     measurement \u001b[38;5;241m=\u001b[39m \u001b[38;5;28;43mself\u001b[39;49m\u001b[38;5;241;43m.\u001b[39;49m\u001b[43mmeasure\u001b[49m\u001b[43m(\u001b[49m\u001b[43m)\u001b[49m \n\u001b[0;32m    151\u001b[0m     \u001b[38;5;28;01mreturn\u001b[39;00m measurement\n",
      "File \u001b[1;32mc:\\Users\\digic\\OneDrive\\Desktop\\Slurry Formation 2024\\SlurryBot\\Slurry_Bot\\PaperTest\\scale_driver.py:133\u001b[0m, in \u001b[0;36mScale.measure\u001b[1;34m(self)\u001b[0m\n\u001b[0;32m    131\u001b[0m \u001b[38;5;28;01mdef\u001b[39;00m \u001b[38;5;21mmeasure\u001b[39m(\u001b[38;5;28mself\u001b[39m):\n\u001b[0;32m    132\u001b[0m \u001b[38;5;250m    \u001b[39m\u001b[38;5;124;03m\"\"\" sends a print\"\"\"\u001b[39;00m\n\u001b[1;32m--> 133\u001b[0m     raw_data_lines \u001b[38;5;241m=\u001b[39m \u001b[38;5;28;43mself\u001b[39;49m\u001b[38;5;241;43m.\u001b[39;49m\u001b[43mget\u001b[49m\u001b[43m(\u001b[49m\u001b[43mCMD_PRINT\u001b[49m\u001b[43m)\u001b[49m\n\u001b[0;32m    134\u001b[0m     \u001b[38;5;28;01mif\u001b[39;00m raw_data_lines:\n\u001b[0;32m    135\u001b[0m         raw_data \u001b[38;5;241m=\u001b[39m raw_data_lines[\u001b[38;5;241m0\u001b[39m]\n",
      "File \u001b[1;32mc:\\Users\\digic\\OneDrive\\Desktop\\Slurry Formation 2024\\SlurryBot\\Slurry_Bot\\PaperTest\\scale_driver.py:129\u001b[0m, in \u001b[0;36mScale.get\u001b[1;34m(self, command)\u001b[0m\n\u001b[0;32m    127\u001b[0m \u001b[38;5;250m\u001b[39m\u001b[38;5;124;03m\"\"\" sends a command and returns the available data \"\"\"\u001b[39;00m\n\u001b[0;32m    128\u001b[0m \u001b[38;5;28mself\u001b[39m\u001b[38;5;241m.\u001b[39msend(command)\n\u001b[1;32m--> 129\u001b[0m \u001b[38;5;28;01mreturn\u001b[39;00m \u001b[38;5;28;43mself\u001b[39;49m\u001b[38;5;241;43m.\u001b[39;49m\u001b[43mreadlines\u001b[49m\u001b[43m(\u001b[49m\u001b[43m)\u001b[49m\n",
      "File \u001b[1;32mc:\\Users\\digic\\OneDrive\\Desktop\\Slurry Formation 2024\\SlurryBot\\Slurry_Bot\\PaperTest\\scale_driver.py:116\u001b[0m, in \u001b[0;36mScale.readlines\u001b[1;34m(self)\u001b[0m\n\u001b[0;32m    114\u001b[0m \u001b[38;5;28;01mfor\u001b[39;00m i \u001b[38;5;129;01min\u001b[39;00m \u001b[38;5;28mrange\u001b[39m(\u001b[38;5;241m1\u001b[39m):\n\u001b[0;32m    115\u001b[0m     i \u001b[38;5;241m+\u001b[39m\u001b[38;5;241m=\u001b[39m \u001b[38;5;241m1\u001b[39m\n\u001b[1;32m--> 116\u001b[0m     line \u001b[38;5;241m=\u001b[39m \u001b[38;5;28;43mself\u001b[39;49m\u001b[38;5;241;43m.\u001b[39;49m\u001b[43mreadline\u001b[49m\u001b[43m(\u001b[49m\u001b[43m)\u001b[49m\n\u001b[0;32m    117\u001b[0m     line \u001b[38;5;241m=\u001b[39m line\u001b[38;5;241m.\u001b[39mdecode(\u001b[38;5;28mself\u001b[39m\u001b[38;5;241m.\u001b[39mencoding)\n\u001b[0;32m    118\u001b[0m     \u001b[38;5;28;01mif\u001b[39;00m \u001b[38;5;129;01mnot\u001b[39;00m line\u001b[38;5;241m.\u001b[39mstrip():\n\u001b[0;32m    119\u001b[0m         \u001b[38;5;66;03m# a line with only whitespace shows the end of the output\u001b[39;00m\n\u001b[0;32m    120\u001b[0m         \u001b[38;5;66;03m# also a read timeout produces b''\u001b[39;00m\n",
      "File \u001b[1;32mc:\\Users\\digic\\OneDrive\\Desktop\\Slurry Formation 2024\\SlurryBot\\Slurry_Bot\\PaperTest\\scale_driver.py:108\u001b[0m, in \u001b[0;36mScale.readline\u001b[1;34m(self)\u001b[0m\n\u001b[0;32m    106\u001b[0m \u001b[38;5;28;01mdef\u001b[39;00m \u001b[38;5;21mreadline\u001b[39m(\u001b[38;5;28mself\u001b[39m):\n\u001b[0;32m    107\u001b[0m \u001b[38;5;250m    \u001b[39m\u001b[38;5;124;03m\"\"\" reads bytes from the serial connection until a newline \"\"\"\u001b[39;00m\n\u001b[1;32m--> 108\u001b[0m     \u001b[38;5;28;01mreturn\u001b[39;00m \u001b[38;5;28;43mself\u001b[39;49m\u001b[38;5;241;43m.\u001b[39;49m\u001b[43mser\u001b[49m\u001b[38;5;241;43m.\u001b[39;49m\u001b[43mreadline\u001b[49m\u001b[43m(\u001b[49m\u001b[43m)\u001b[49m\n",
      "File \u001b[1;32mc:\\Users\\digic\\AppData\\Local\\Programs\\Python\\Python312\\Lib\\site-packages\\serial\\serialwin32.py:288\u001b[0m, in \u001b[0;36mSerial.read\u001b[1;34m(self, size)\u001b[0m\n\u001b[0;32m    286\u001b[0m \u001b[38;5;28;01mif\u001b[39;00m \u001b[38;5;129;01mnot\u001b[39;00m read_ok \u001b[38;5;129;01mand\u001b[39;00m win32\u001b[38;5;241m.\u001b[39mGetLastError() \u001b[38;5;129;01mnot\u001b[39;00m \u001b[38;5;129;01min\u001b[39;00m (win32\u001b[38;5;241m.\u001b[39mERROR_SUCCESS, win32\u001b[38;5;241m.\u001b[39mERROR_IO_PENDING):\n\u001b[0;32m    287\u001b[0m     \u001b[38;5;28;01mraise\u001b[39;00m SerialException(\u001b[38;5;124m\"\u001b[39m\u001b[38;5;124mReadFile failed (\u001b[39m\u001b[38;5;132;01m{!r}\u001b[39;00m\u001b[38;5;124m)\u001b[39m\u001b[38;5;124m\"\u001b[39m\u001b[38;5;241m.\u001b[39mformat(ctypes\u001b[38;5;241m.\u001b[39mWinError()))\n\u001b[1;32m--> 288\u001b[0m result_ok \u001b[38;5;241m=\u001b[39m \u001b[43mwin32\u001b[49m\u001b[38;5;241;43m.\u001b[39;49m\u001b[43mGetOverlappedResult\u001b[49m\u001b[43m(\u001b[49m\n\u001b[0;32m    289\u001b[0m \u001b[43m    \u001b[49m\u001b[38;5;28;43mself\u001b[39;49m\u001b[38;5;241;43m.\u001b[39;49m\u001b[43m_port_handle\u001b[49m\u001b[43m,\u001b[49m\n\u001b[0;32m    290\u001b[0m \u001b[43m    \u001b[49m\u001b[43mctypes\u001b[49m\u001b[38;5;241;43m.\u001b[39;49m\u001b[43mbyref\u001b[49m\u001b[43m(\u001b[49m\u001b[38;5;28;43mself\u001b[39;49m\u001b[38;5;241;43m.\u001b[39;49m\u001b[43m_overlapped_read\u001b[49m\u001b[43m)\u001b[49m\u001b[43m,\u001b[49m\n\u001b[0;32m    291\u001b[0m \u001b[43m    \u001b[49m\u001b[43mctypes\u001b[49m\u001b[38;5;241;43m.\u001b[39;49m\u001b[43mbyref\u001b[49m\u001b[43m(\u001b[49m\u001b[43mrc\u001b[49m\u001b[43m)\u001b[49m\u001b[43m,\u001b[49m\n\u001b[0;32m    292\u001b[0m \u001b[43m    \u001b[49m\u001b[38;5;28;43;01mTrue\u001b[39;49;00m\u001b[43m)\u001b[49m\n\u001b[0;32m    293\u001b[0m \u001b[38;5;28;01mif\u001b[39;00m \u001b[38;5;129;01mnot\u001b[39;00m result_ok:\n\u001b[0;32m    294\u001b[0m     \u001b[38;5;28;01mif\u001b[39;00m win32\u001b[38;5;241m.\u001b[39mGetLastError() \u001b[38;5;241m!=\u001b[39m win32\u001b[38;5;241m.\u001b[39mERROR_OPERATION_ABORTED:\n",
      "\u001b[1;31mKeyboardInterrupt\u001b[0m: "
     ]
    }
   ],
   "source": [
    "#Error test: Test with Super P and Design 4, see at which point the error does not change anymore significantly \n",
    "#Motor is doing 200steps for one full turn, Design 4 has 12 pits which means 200/12 = 16.6 steps are neccesary to empty one pit\n",
    "#Calibration step: 200/n, 2x200/n, 3x200/n, 4x200/n,...till teh first hole is being emptied (e.g 12 holes for design 4 so we empty six holes so the first hole which was filled gets emptied again) + 200, 1000,...\n",
    "\n",
    "calibration = Calibration(acceleration, speed, material, version_inside, version_outside, dispenser_motor, scale, robot)\n",
    "\n",
    "#calibration_steps = [17, 34, 51, 68, 85, 102, 200, 400, 600, 800, 1000, 2000] 200/12 = 16.6, so 17 steps, we could do factors of 17 like shown here\n",
    "#calibration_steps = [17, 33, 50, 67, 83, 100, 200, 1000, 2000, 3000, 4000] # or we take factors of 16.6 and round up or down to the nearest integer liek shown here\n",
    "#calibration_steps = [8, 16, 24, 32, 40, 48, 56, 64, 72, 80, 88, 96, 200, 400, 600]\n",
    "#calibration_repeat = 10\n",
    "\n",
    "#Design 2: 25pits 200/25\n",
    "calibration_steps = [5, 10, 20, 50, 80, 100, 200, 400, 600]\n",
    "calibration_repeat = 5\n",
    "\n",
    "calibration.calibrate(calibration_steps, calibration_repeat, \"Vial1\")\n",
    "\n",
    "calibration.save_calibration()"
   ]
  },
  {
   "cell_type": "code",
   "execution_count": 9,
   "metadata": {},
   "outputs": [
    {
     "name": "stdout",
     "output_type": "stream",
     "text": [
      "Total material used for calibration: 0.912g\n",
      "Total number of steps: 18240\n"
     ]
    }
   ],
   "source": [
    "#calibration_steps = [17, 33, 50, 67, 83, 100, 200, 1000, 2000, 3000, 4000]\n",
    "#calibration_repeat = 10\n",
    "\n",
    "calibration_steps = [8, 16, 24, 32, 40, 48, 56, 64, 72, 80, 88, 96, 200, 400, 600]\n",
    "calibration_repeat = 5\n",
    "\n",
    "material_per_step = 0.00005\n",
    "total_steps = sum(calibration_steps)*calibration_repeat\n",
    "total_material= sum(step*material_per_step for step in calibration_steps)*calibration_repeat\n",
    "print(f'Total material used for calibration: {total_material}g')\n",
    "print(f'Total number of steps: {total_steps}')"
   ]
  }
 ],
 "metadata": {
  "kernelspec": {
   "display_name": "Python 3",
   "language": "python",
   "name": "python3"
  },
  "language_info": {
   "codemirror_mode": {
    "name": "ipython",
    "version": 3
   },
   "file_extension": ".py",
   "mimetype": "text/x-python",
   "name": "python",
   "nbconvert_exporter": "python",
   "pygments_lexer": "ipython3",
   "version": "3.12.1"
  }
 },
 "nbformat": 4,
 "nbformat_minor": 2
}
