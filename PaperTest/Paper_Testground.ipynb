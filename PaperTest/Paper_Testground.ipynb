{
 "cells": [
  {
   "cell_type": "code",
   "execution_count": null,
   "metadata": {},
   "outputs": [],
   "source": [
    "#Hello Danika, I created this extra folder for all the paper regarding tests. \n",
    "#I also copied the relevant drivers and wrappers into this folder since I did not want to mess with the original files in case I need to change something.\n",
    "#I also changed the code in the way that it creates a file with all the raw data and adds the data immediately to the file.\n",
    "\n"
   ]
  },
  {
   "cell_type": "code",
   "execution_count": 4,
   "metadata": {},
   "outputs": [
    {
     "name": "stdout",
     "output_type": "stream",
     "text": [
      "The autoreload extension is already loaded. To reload it, use:\n",
      "  %reload_ext autoreload\n"
     ]
    }
   ],
   "source": [
    "%load_ext autoreload\n",
    "%autoreload 2"
   ]
  },
  {
   "cell_type": "code",
   "execution_count": 10,
   "metadata": {},
   "outputs": [],
   "source": [
    "import numpy as np\n",
    "import time\n",
    "import csv\n",
    "from Dispensing_wrapper_robot import *\n",
    "from scale_driver import *\n",
    "from motor_driver import *\n"
   ]
  },
  {
   "cell_type": "code",
   "execution_count": null,
   "metadata": {},
   "outputs": [],
   "source": [
    "coms = {\n",
    "    'scaleCom': 'COM7',\n",
    "    'motorsCom': 'COM9',\n",
    "}\n",
    "\n",
    "#Robot Connection\n",
    "robot = Robot()\n",
    "robot.initialize()\n",
    "robot.GoTo_InitialPoint()"
   ]
  },
  {
   "cell_type": "code",
   "execution_count": null,
   "metadata": {},
   "outputs": [],
   "source": [
    "robot.GoTo_InitialPoint()"
   ]
  },
  {
   "cell_type": "code",
   "execution_count": 62,
   "metadata": {},
   "outputs": [],
   "source": [
    "#Motor Connection\n",
    "motors = SerialConnection(coms['motorsCom'], 9600, 10)\n",
    "dispenser_motor = Motor(motors, 0)\n",
    "\n",
    "#Scale Connection\n",
    "scale = Scale(coms['scaleCom'], 9600, 10)\n",
    "#scale.connect() -> this will happen directly in the calibartion loop \n",
    "#scale.tare()"
   ]
  },
  {
   "cell_type": "code",
   "execution_count": 65,
   "metadata": {},
   "outputs": [],
   "source": [
    "# Define your parameters\n",
    "acceleration = 10\n",
    "speed = 5\n",
    "material = \"SuperP\"\n",
    "version_inside = \"Design4\"\n",
    "version_outside = \"Design1\""
   ]
  },
  {
   "cell_type": "code",
   "execution_count": 64,
   "metadata": {},
   "outputs": [],
   "source": [
    "dispenser_motor.move(4000, True) \n",
    "#I ran some random tests and wrote some numbers down to get a feeling -> not looking good to be honest, i think with Super P we need a lot of turns to get a reproducibele outcome\n",
    "#0.0063g per 200 steps\n",
    "#0,0086 per 400\n",
    "#0,0026 per 200\n",
    "#0,0083 per 200\n",
    "#0,0167 per 1000\n",
    "#0,0172 per 1000\n",
    "#0,0132 per 1000\n"
   ]
  },
  {
   "cell_type": "code",
   "execution_count": 66,
   "metadata": {},
   "outputs": [
    {
     "name": "stdout",
     "output_type": "stream",
     "text": [
      "Repeat: 1\n",
      "Scale opened\n",
      "Step: 17, Weight: -0.0003\n",
      "Scale closed\n",
      "Scale opened\n",
      "Step: 33, Weight: -0.0001\n",
      "Scale closed\n",
      "Scale opened\n",
      "Step: 50, Weight: 0.0\n",
      "Scale closed\n",
      "Scale opened\n",
      "Step: 67, Weight: 0.0\n",
      "Scale closed\n",
      "Scale opened\n",
      "Step: 83, Weight: 0.0\n",
      "Scale closed\n",
      "Scale opened\n",
      "Step: 100, Weight: -0.0001\n",
      "Scale closed\n",
      "Scale opened\n",
      "Step: 200, Weight: 0.0\n",
      "Scale closed\n",
      "Scale opened\n",
      "Step: 1000, Weight: 0.0001\n",
      "Scale closed\n",
      "Scale opened\n",
      "Step: 2000, Weight: 0.0006\n",
      "Scale closed\n",
      "Scale opened\n",
      "Step: 3000, Weight: 0.0005\n",
      "Scale closed\n",
      "Scale opened\n",
      "Step: 4000, Weight: 0.0004\n",
      "Scale closed\n",
      "Repeat: 2\n",
      "Scale opened\n",
      "Step: 17, Weight: 0.0\n",
      "Scale closed\n",
      "Scale opened\n",
      "Step: 33, Weight: 0.0\n",
      "Scale closed\n",
      "Scale opened\n",
      "Step: 50, Weight: 0.0\n",
      "Scale closed\n",
      "Scale opened\n",
      "Step: 67, Weight: 0.0\n",
      "Scale closed\n",
      "Scale opened\n",
      "Step: 83, Weight: 0.0\n",
      "Scale closed\n",
      "Scale opened\n",
      "Step: 100, Weight: 0.0002\n",
      "Scale closed\n",
      "Scale opened\n",
      "Step: 200, Weight: 0.0\n",
      "Scale closed\n",
      "Scale opened\n",
      "Step: 1000, Weight: 0.0\n",
      "Scale closed\n",
      "Scale opened\n",
      "Step: 2000, Weight: 0.0\n",
      "Scale closed\n",
      "Scale opened\n",
      "Step: 3000, Weight: 0.0001\n",
      "Scale closed\n",
      "Scale opened\n",
      "Step: 4000, Weight: 0.0003\n",
      "Scale closed\n",
      "Repeat: 3\n",
      "Scale opened\n",
      "Step: 17, Weight: 0.0\n",
      "Scale closed\n",
      "Scale opened\n",
      "Step: 33, Weight: 0.0001\n",
      "Scale closed\n",
      "Scale opened\n",
      "Step: 50, Weight: 0.0\n",
      "Scale closed\n",
      "Scale opened\n",
      "Step: 67, Weight: 0.0\n",
      "Scale closed\n",
      "Scale opened\n",
      "Step: 83, Weight: 0.0\n",
      "Scale closed\n",
      "Scale opened\n",
      "Step: 100, Weight: -0.0001\n",
      "Scale closed\n",
      "Scale opened\n",
      "Step: 200, Weight: 0.0\n",
      "Scale closed\n",
      "Scale opened\n",
      "Step: 1000, Weight: 0.0001\n",
      "Scale closed\n",
      "Scale opened\n",
      "Step: 2000, Weight: 0.0\n",
      "Scale closed\n",
      "Scale opened\n",
      "Step: 3000, Weight: 0.0\n",
      "Scale closed\n",
      "Scale opened\n",
      "Step: 4000, Weight: 0.0\n",
      "Scale closed\n",
      "Repeat: 4\n",
      "Scale opened\n",
      "Step: 17, Weight: 0.0\n",
      "Scale closed\n",
      "Scale opened\n",
      "Step: 33, Weight: 0.0\n",
      "Scale closed\n",
      "Scale opened\n",
      "Step: 50, Weight: 0.0\n",
      "Scale closed\n",
      "Scale opened\n",
      "Step: 67, Weight: 0.0\n",
      "Scale closed\n",
      "Scale opened\n",
      "Step: 83, Weight: 0.0\n",
      "Scale closed\n",
      "Scale opened\n",
      "Step: 100, Weight: 0.0\n",
      "Scale closed\n",
      "Scale opened\n",
      "Step: 200, Weight: 0.0\n",
      "Scale closed\n",
      "Scale opened\n",
      "Step: 1000, Weight: -0.0001\n",
      "Scale closed\n",
      "Scale opened\n",
      "Step: 2000, Weight: 0.0\n",
      "Scale closed\n",
      "Scale opened\n",
      "Step: 3000, Weight: 0.0\n",
      "Scale closed\n",
      "Scale opened\n",
      "Step: 4000, Weight: 0.0\n",
      "Scale closed\n",
      "Repeat: 5\n",
      "Scale opened\n",
      "Step: 17, Weight: 0.0\n",
      "Scale closed\n",
      "Scale opened\n",
      "Step: 33, Weight: 0.0\n",
      "Scale closed\n",
      "Scale opened\n",
      "Step: 50, Weight: 0.0\n",
      "Scale closed\n",
      "Scale opened\n",
      "Step: 67, Weight: 0.0\n",
      "Scale closed\n",
      "Scale opened\n",
      "Step: 83, Weight: 0.0\n",
      "Scale closed\n",
      "Scale opened\n",
      "Step: 100, Weight: 0.0\n",
      "Scale closed\n",
      "Scale opened\n",
      "Step: 200, Weight: 0.0\n",
      "Scale closed\n",
      "Scale opened\n",
      "Step: 1000, Weight: 0.0\n",
      "Scale closed\n",
      "Scale opened\n",
      "Step: 2000, Weight: 0.0\n",
      "Scale closed\n",
      "Scale opened\n",
      "Step: 3000, Weight: 0.0\n",
      "Scale closed\n",
      "Scale opened\n",
      "Step: 4000, Weight: 0.0001\n",
      "Scale closed\n"
     ]
    },
    {
     "name": "stderr",
     "output_type": "stream",
     "text": [
      "c:\\Users\\digic\\OneDrive\\Desktop\\Slurry Formation 2024\\SlurryBot\\Slurry_Bot\\PaperTest\\Dispensing_wrapper_robot.py:95: RuntimeWarning: divide by zero encountered in divide\n",
      "  self.relative_std_error_weights = self.std_error_weights / self.avg_weights\n",
      "c:\\Users\\digic\\OneDrive\\Desktop\\Slurry Formation 2024\\SlurryBot\\Slurry_Bot\\PaperTest\\Dispensing_wrapper_robot.py:95: RuntimeWarning: invalid value encountered in divide\n",
      "  self.relative_std_error_weights = self.std_error_weights / self.avg_weights\n"
     ]
    },
    {
     "name": "stdout",
     "output_type": "stream",
     "text": [
      "[SDK][ERROR][2024-05-28 16:58:53][base.py:293] - - [main-socket] recv error: [WinError 10054] An existing connection was forcibly closed by the remote host\n",
      "[SDK][ERROR][2024-05-28 16:58:53][base.py:247] - - [report-socket] recv error: [WinError 10054] An existing connection was forcibly closed by the remote host\n"
     ]
    }
   ],
   "source": [
    "#Error test: Test with Super P and Design 4, see at which point the error does not change anymore significantly \n",
    "#Motor is doing 200steps for one full turn, Design 4 has 12 pits which means 200/12 = 16.6 steps are neccesary to empty one pit\n",
    "#Calibration step: 200/n, 2x200/n, 3x200/n, 4x200/n,...till teh first hole is being emptied (e.g 12 holes for design 4 so we empty six holes so the first hole which was filled gets emptied again) + 200, 1000,...\n",
    "\n",
    "calibration = Calibration(acceleration, speed, material, version_inside, version_outside, dispenser_motor, scale, robot)\n",
    "\n",
    "#calibration_steps = [17, 34, 51, 68, 85, 102, 200, 400, 600, 800, 1000, 2000] 200/12 = 16.6, so 17 steps, we could do factors of 17 like shown here\n",
    "calibration_steps = [17, 33, 50, 67, 83, 100, 200, 1000, 2000, 3000, 4000] # or we take factors of 16.6 and round up or down to the nearest integer liek shown here\n",
    "calibration_repeat = 10\n",
    "\n",
    "calibration.calibrate(calibration_steps, calibration_repeat, \"Vial1\")\n",
    "\n",
    "calibration.save_calibration()"
   ]
  },
  {
   "cell_type": "code",
   "execution_count": 68,
   "metadata": {},
   "outputs": [
    {
     "name": "stdout",
     "output_type": "stream",
     "text": [
      "Total material used for calibration: 5.2749999999999995g\n",
      "Total number of steps: 105500\n"
     ]
    }
   ],
   "source": [
    "calibration_steps = [17, 33, 50, 67, 83, 100, 200, 1000, 2000, 3000, 4000]\n",
    "calibration_repeat = 10\n",
    "\n",
    "material_per_step = 0.00005\n",
    "total_steps = sum(calibration_steps)*calibration_repeat\n",
    "total_material= sum(step*material_per_step for step in calibration_steps)*calibration_repeat\n",
    "print(f'Total material used for calibration: {total_material}g')\n",
    "print(f'Total number of steps: {total_steps}')"
   ]
  }
 ],
 "metadata": {
  "kernelspec": {
   "display_name": "Python 3",
   "language": "python",
   "name": "python3"
  },
  "language_info": {
   "codemirror_mode": {
    "name": "ipython",
    "version": 3
   },
   "file_extension": ".py",
   "mimetype": "text/x-python",
   "name": "python",
   "nbconvert_exporter": "python",
   "pygments_lexer": "ipython3",
   "version": "3.12.1"
  }
 },
 "nbformat": 4,
 "nbformat_minor": 2
}
