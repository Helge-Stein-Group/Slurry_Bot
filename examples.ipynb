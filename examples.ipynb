{
 "cells": [
  {
   "cell_type": "code",
   "execution_count": null,
   "metadata": {},
   "outputs": [],
   "source": [
    "#To test your robot connection run this code below\n",
    "#Remember to run this code in your terminal: pip install xArm-Python-SDK\n",
    "\n",
    "robot = Robot() #Connecting to the xArm robot"
   ]
  },
  {
   "cell_type": "code",
   "execution_count": null,
   "metadata": {},
   "outputs": [],
   "source": [
    "robot.initialize()\n",
    "robot.GoTo_InitialPoint()"
   ]
  },
  {
   "cell_type": "code",
   "execution_count": null,
   "metadata": {},
   "outputs": [],
   "source": [
    "#To test your motor/motors connection run this code below\n",
    "from Drivers.motor_driver import *"
   ]
  },
  {
   "cell_type": "code",
   "execution_count": null,
   "metadata": {},
   "outputs": [],
   "source": [
    "motors = SerialConnection('COM5', 9600, 10) #Put your own COM port here"
   ]
  },
  {
   "cell_type": "code",
   "execution_count": null,
   "metadata": {},
   "outputs": [],
   "source": [
    "first_motor = Motor(motors, 0) #This motor should be connected to pins 2 and 3\n",
    "second_motor = Motor(motors, 1) #This motor should be connected to pins 4 and 5\n",
    "#third_motor = Motor(motors, 2) #This motor should be connected to pins 6 and 7"
   ]
  },
  {
   "cell_type": "code",
   "execution_count": null,
   "metadata": {},
   "outputs": [],
   "source": [
    "first_motor.check_connection()",
    "first_motor.setAcceleration(10)",
    "first_motor.setSpeed(100)",
    "first_motor.move(100)",
   ]
  },
  {
   "cell_type": "code",
   "execution_count": null,
   "metadata": {},
   "outputs": [],
   "source": [
    "#To test your scale connection run this code below\n",
    "from Drivers.scale_driver import *"
   ]
  },
  {
   "cell_type": "code",
   "execution_count": null,
   "metadata": {},
   "outputs": [],
   "source": [
    "scale = Scale('COM7', 9600, 10) #Put your own COM port here"
   ]
  },
  {
   "cell_type": "code",
   "execution_count": null,
   "metadata": {},
   "outputs": [],
   "source": [
    "scale.connect()\n",
    "scale.tare()"
   ]
  },
  {
   "cell_type": "code",
   "execution_count": null,
   "metadata": {},
   "outputs": [],
   "source": [
    "#To test your pipette connection run this code below\n",
    "from Drivers.pipette_driver import *"
   ]
  },
  {
   "cell_type": "code",
   "execution_count": null,
   "metadata": {},
   "outputs": [],
   "source": [
    "pipette = Pipette('COM6') #Put your own COM port here"
   ]
  },
  {
   "cell_type": "code",
   "execution_count": null,
   "metadata": {},
   "outputs": [],
   "source": [
    "pipette.initialize()"
   ]
  }
 ],
 "metadata": {
  "language_info": {
   "name": "python"
  }
 },
 "nbformat": 4,
 "nbformat_minor": 2
}
