{
 "cells": [
  {
   "cell_type": "code",
   "execution_count": 170,
   "metadata": {},
   "outputs": [
    {
     "name": "stdout",
     "output_type": "stream",
     "text": [
      "The autoreload extension is already loaded. To reload it, use:\n",
      "  %reload_ext autoreload\n"
     ]
    }
   ],
   "source": [
    "%load_ext autoreload\n",
    "%autoreload 2\n",
    "from Drivers.scale_driver import *\n",
    "from Drivers.motor_driver import *\n",
    "#rom Testing.Dispensing_wrapper import *\n",
    "from Testing.Robot_wrapper import *\n",
    "from Drivers.pipette_driver import *"
   ]
  },
  {
   "cell_type": "code",
   "execution_count": null,
   "metadata": {},
   "outputs": [],
   "source": [
    "robot = Robot()"
   ]
  },
  {
   "cell_type": "code",
   "execution_count": null,
   "metadata": {},
   "outputs": [
    {
     "name": "stdout",
     "output_type": "stream",
     "text": [
      "ControllerError, code: 31\n",
      "ControllerError, code: 2\n",
      "ControllerError had clean\n",
      "ControllerError, code: 22\n",
      "ControllerError had clean\n"
     ]
    }
   ],
   "source": [
    "robot.restart()"
   ]
  },
  {
   "cell_type": "code",
   "execution_count": null,
   "metadata": {},
   "outputs": [
    {
     "name": "stdout",
     "output_type": "stream",
     "text": [
      "[motion_enable], xArm is not ready to move\n",
      "[set_state], xArm is ready to move\n"
     ]
    }
   ],
   "source": [
    "robot.initialize()\n",
    "robot.GoTo_InitialPoint()"
   ]
  },
  {
   "cell_type": "code",
   "execution_count": 169,
   "metadata": {},
   "outputs": [],
   "source": [
    "robot.GoTo_InitialPoint()"
   ]
  },
  {
   "cell_type": "code",
   "execution_count": 374,
   "metadata": {},
   "outputs": [],
   "source": [
    "coms = {\n",
    "    'scaleCom': 'COM7',\n",
    "    'motorsCom': 'COM5',\n",
    "    'pipetteCom': 'COM6'\n",
    "}"
   ]
  },
  {
   "cell_type": "code",
   "execution_count": 375,
   "metadata": {},
   "outputs": [],
   "source": [
    "motors = SerialConnection(coms['motorsCom'], 9600, 10)\n",
    "homogenizer_motor = Motor(motors, 0, max_position=6000)"
   ]
  },
  {
   "cell_type": "code",
   "execution_count": null,
   "metadata": {},
   "outputs": [],
   "source": [
    "homogenizer_motor.check_connection()"
   ]
  },
  {
   "cell_type": "code",
   "execution_count": 376,
   "metadata": {},
   "outputs": [],
   "source": [
    "homogenizer_motor.set_speed(800)"
   ]
  },
  {
   "cell_type": "code",
   "execution_count": 383,
   "metadata": {},
   "outputs": [],
   "source": [
    "homogenizer_motor.move_to_top()"
   ]
  },
  {
   "cell_type": "code",
   "execution_count": 384,
   "metadata": {},
   "outputs": [],
   "source": [
    "homogenizer_motor.move_to_bottom()"
   ]
  },
  {
   "cell_type": "code",
   "execution_count": 49,
   "metadata": {},
   "outputs": [],
   "source": [
    "pipette = Pipette(coms['pipetteCom'])\n",
    "pipette.initialize()\n",
    "\n",
    "scale = Scale(coms['scaleCom'], 9600, 10)\n",
    "scale.connect()\n",
    "scale.tare()"
   ]
  },
  {
   "cell_type": "code",
   "execution_count": null,
   "metadata": {},
   "outputs": [],
   "source": [
    "#Positionentest\n",
    "robot.PickUpVial('Vial1')\n",
    "robot.VialToScale()\n",
    "robot.ScaleToLiquidRestPoint()\n",
    "robot.PickUpPipette()\n",
    "robot.GettingPipetteTip(\"3\")\n",
    "robot.TakingLiquid(\"3\")\n",
    "robot.LiquidToVial()\n",
    "robot.PuttingBackPipetteTip(\"3\")"
   ]
  },
  {
   "cell_type": "code",
   "execution_count": null,
   "metadata": {},
   "outputs": [],
   "source": [
    "robot.PuttingBackPipette()\n",
    "robot.LiquidsToMixingPoint()\n",
    "robot.TurnOnHomogenizer(20)\n",
    "robot.TurnOffHomogenizer()\n",
    "robot.MixingPointToLiquids()\n",
    "robot.CleaningLiquidsToMixer(\"Water\")\n",
    "robot.CleaningLiquidsToStorage(\"Water\")"
   ]
  },
  {
   "cell_type": "code",
   "execution_count": null,
   "metadata": {},
   "outputs": [],
   "source": [
    "#Workflow: Mixen\n",
    "robot.LiquidsToMixingPoint()\n",
    "homogenizer_motor.move_to_top()\n",
    "robot.TurnOnHomogenizer(10)\n",
    "time.sleep(5)\n",
    "robot.TurnOffHomogenizer()\n",
    "homogenizer_motor.move_to_bottom()\n",
    "time.sleep(5)\n",
    "robot.MixingPointToLiquids()"
   ]
  },
  {
   "cell_type": "code",
   "execution_count": null,
   "metadata": {},
   "outputs": [],
   "source": [
    "#Workflow: Cleaning after Mixing\n",
    "robot.CleaningLiquidsToMixer(\"Water\")\n",
    "homogenizer_motor.move_to_top()\n",
    "robot.TurnOnHomogenizer(10)\n",
    "time.sleep(10)\n",
    "robot.TurnOffHomogenizer()\n",
    "homogenizer_motor.move_to_bottom()\n",
    "robot.CleaningLiquidsToStorage(\"Water\")\n",
    "robot.CleaningLiquidsToMixer(\"Isopropanol\")\n",
    "homogenizer_motor.move_to_top()\n",
    "robot.TurnOnHomogenizer(10)\n",
    "time.sleep(10)\n",
    "robot.TurnOffHomogenizer()\n",
    "homogenizer_motor.move_to_bottom()\n",
    "robot.CleaningLiquidsToStorage(\"Isopropanol\")\n"
   ]
  },
  {
   "cell_type": "code",
   "execution_count": null,
   "metadata": {},
   "outputs": [],
   "source": [
    "#Pipetten Workflow\n",
    "robot.PickUpPipette()\n",
    "robot.PickUpPipetteTip(\"1\")\n",
    "robot.MoveToBinder()\n",
    "pipette.aspirate(1000)\n",
    "time.sleep(2)\n",
    "robot.BinderToVialRestPoint()\n",
    "pipette.dispense(1000)\n",
    "time.sleep(2)\n",
    "pipette.blowout()\n",
    "time.sleep(2)\n",
    "robot.VialRestPointToBinder()\n",
    "pipette.aspirate(1000)\n",
    "time.sleep(2)\n",
    "robot.BinderToVialRestPoint()\n",
    "pipette.dispense(1000)\n",
    "time.sleep(2)\n",
    "pipette.blowout()\n",
    "time.sleep(2)\n",
    "robot.PuttingBackPipetteTip(\"1\")\n",
    "pipette.eject()\n",
    "time.sleep(2)\n",
    "robot.PuttingBackPipette()"
   ]
  }
 ],
 "metadata": {
  "kernelspec": {
   "display_name": "Python 3",
   "language": "python",
   "name": "python3"
  },
  "language_info": {
   "codemirror_mode": {
    "name": "ipython",
    "version": 3
   },
   "file_extension": ".py",
   "mimetype": "text/x-python",
   "name": "python",
   "nbconvert_exporter": "python",
   "pygments_lexer": "ipython3",
   "version": "3.12.1"
  }
 },
 "nbformat": 4,
 "nbformat_minor": 2
}
