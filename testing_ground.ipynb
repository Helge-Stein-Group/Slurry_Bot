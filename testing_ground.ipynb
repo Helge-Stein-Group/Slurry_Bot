{
 "cells": [
  {
   "cell_type": "code",
   "execution_count": 276,
   "metadata": {},
   "outputs": [
    {
     "name": "stdout",
     "output_type": "stream",
     "text": [
      "The autoreload extension is already loaded. To reload it, use:\n",
      "  %reload_ext autoreload\n"
     ]
    }
   ],
   "source": [
    "%load_ext autoreload\n",
    "%autoreload 2\n",
    "from Drivers.scale_driver import *\n",
    "from Drivers.motor_driver import *\n",
    "from Testing.dispensing_wrapper import *\n",
    "from Testing.Robot_wrapper import *\n",
    "from Drivers.pipette_driver import *"
   ]
  },
  {
   "cell_type": "code",
   "execution_count": 218,
   "metadata": {},
   "outputs": [
    {
     "name": "stdout",
     "output_type": "stream",
     "text": [
      "ROBOT_IP: 192.168.1.200, VERSION: v2.3.0, PROTOCOL: V1, DETAIL: 6,6,XI1303,MC1303,v2.3.0, TYPE1300: [1, 1]\n",
      "change protocol identifier to 3\n"
     ]
    }
   ],
   "source": [
    "robot = Robot()\n"
   ]
  },
  {
   "cell_type": "code",
   "execution_count": 185,
   "metadata": {},
   "outputs": [
    {
     "name": "stdout",
     "output_type": "stream",
     "text": [
      "ROBOT_IP: 192.168.1.200, VERSION: v2.3.0, PROTOCOL: V1, DETAIL: 6,6,XI1303,MC1303,v2.3.0, TYPE1300: [1, 1]\n",
      "change protocol identifier to 3\n",
      "[motion_enable], xArm is not ready to move\n",
      "[set_state], xArm is ready to move\n"
     ]
    },
    {
     "name": "stdout",
     "output_type": "stream",
     "text": [
      "ControllerError, code: 31\n",
      "ControllerError had clean\n",
      "ControllerError, code: 2\n"
     ]
    }
   ],
   "source": [
    "robot.restart()"
   ]
  },
  {
   "cell_type": "code",
   "execution_count": 259,
   "metadata": {},
   "outputs": [],
   "source": [
    "robot.initialize()\n",
    "robot.GoTo_InitialPoint()"
   ]
  },
  {
   "cell_type": "code",
   "execution_count": 219,
   "metadata": {},
   "outputs": [],
   "source": [
    "coms = {\n",
    "    'scaleCom': 'COM7',\n",
    "    'motorsCom': 'COM5',\n",
    "    'pipetteCom': 'COM6'\n",
    "}\n",
    "\n",
    "motors = SerialConnection(coms['motorsCom'], 9600, 10)\n",
    "dispenser_motor = Motor(motors, 0)\n",
    "\n",
    "pipette = Pipette(coms['pipetteCom'])\n",
    "pipette.initialize()\n",
    "\n",
    "scale = Scale(coms['scaleCom'], 9600, 10)\n",
    "scale.connect()\n",
    "scale.tare()"
   ]
  },
  {
   "cell_type": "code",
   "execution_count": null,
   "metadata": {},
   "outputs": [],
   "source": [
    "my_calibration = Calibration(100,100,\"Test\",\"NA\", \"NA\")\n",
    "#my_calibration.calibrate([5, 10, 15, 20, 30, 70, 200, 500], 4, dispenser_motor, scale, robot, \"Vial1\")\n",
    "my_calibration.calibrate([5, 30, 70], 2, dispenser_motor, scale, robot, \"Vial1\")"
   ]
  },
  {
   "cell_type": "code",
   "execution_count": null,
   "metadata": {},
   "outputs": [],
   "source": [
    "my_calibration.save_calibration()"
   ]
  },
  {
   "cell_type": "code",
   "execution_count": null,
   "metadata": {},
   "outputs": [
    {
     "data": {
      "text/plain": [
       "'Calibration Report:\\nDate: Wed Apr 17 15:18:48 2024\\nMaterial: Test\\nVersion Inside: NA\\nVersion Outside: NA\\nCalibration:\\nSlope: 0.007192999999999998, y-intercept: -0.022299999999999914, R_square = 1.0'"
      ]
     },
     "execution_count": 7,
     "metadata": {},
     "output_type": "execute_result"
    }
   ],
   "source": [
    "my_calibration.calibration_report()"
   ]
  },
  {
   "cell_type": "code",
   "execution_count": null,
   "metadata": {},
   "outputs": [
    {
     "data": {
      "text/plain": [
       "(0.9014999999999986, 0.0016666666666651261, 0.0014999999999986136)"
      ]
     },
     "execution_count": 38,
     "metadata": {},
     "output_type": "execute_result"
    }
   ],
   "source": [
    "dispense_precisely(0.9, 2,dispenser_motor,scale,robot, \"Vial2\")"
   ]
  },
  {
   "cell_type": "code",
   "execution_count": 221,
   "metadata": {},
   "outputs": [
    {
     "data": {
      "text/plain": [
       "0"
      ]
     },
     "execution_count": 221,
     "metadata": {},
     "output_type": "execute_result"
    }
   ],
   "source": [
    "robot.arm.set_linear_track_pos(200, wait=True)\n"
   ]
  },
  {
   "cell_type": "code",
   "execution_count": null,
   "metadata": {},
   "outputs": [],
   "source": [
    "#Motors Connection\n",
    "motors = SerialConnection(coms['motorsCom'], 9600, 3)\n",
    "homogenizer_motor = Motor(motors, 1)\n",
    "dispenser_motor = Motor(motors, 0)\n",
    "dispenser_motor.check_connection()\n",
    "print(motors.read_response())\n"
   ]
  },
  {
   "cell_type": "code",
   "execution_count": 250,
   "metadata": {},
   "outputs": [],
   "source": [
    "homogenizer_motor = Motor(motors, 1)"
   ]
  },
  {
   "cell_type": "code",
   "execution_count": 202,
   "metadata": {},
   "outputs": [],
   "source": [
    "#Mixing\n",
    "robot.VialToMixing()\n",
    "homogenizer_motor.moveDown('6000')#(ONLY RUN IF IT IS AT THE VERY TOP)The difference from the top to the bottom is 6000 steps\n",
    "robot.TurnOnHomogenizer(10)\n",
    "robot.TurnOffHomogenizer()\n",
    "homogenizer_motor.moveUp('6000')#(ONLY RUN IF IT IS AT THE VERY TOP)The difference from the top to the bottom is 6000 steps"
   ]
  },
  {
   "cell_type": "code",
   "execution_count": null,
   "metadata": {},
   "outputs": [],
   "source": [
    "robot.GoTo_InitialPoint()"
   ]
  },
  {
   "cell_type": "code",
   "execution_count": 260,
   "metadata": {},
   "outputs": [
    {
     "data": {
      "text/plain": [
       "(1.0311000000000003, 0.03110000000000035, 0.03110000000000035)"
      ]
     },
     "execution_count": 260,
     "metadata": {},
     "output_type": "execute_result"
    }
   ],
   "source": [
    "#Test Run\n",
    "dispense_precisely(1, 2,dispenser_motor,scale,robot, \"Vial2\")"
   ]
  },
  {
   "cell_type": "code",
   "execution_count": 261,
   "metadata": {},
   "outputs": [
    {
     "name": "stdout",
     "output_type": "stream",
     "text": [
      "50\n",
      "Command has been understood but would result in out-of-bounds state\n",
      "50\n",
      "Command has been understood but would result in out-of-bounds state\n"
     ]
    }
   ],
   "source": [
    "robot.PickUpPipette()\n",
    "robot.PickUpPipetteTip(\"1\")\n",
    "robot.MoveToBinder()\n",
    "pipette.aspirate(1000)\n",
    "time.sleep(2)\n",
    "robot.BinderToVialRestPoint()\n",
    "pipette.dispense(1000)\n",
    "time.sleep(2)\n",
    "pipette.blowout()\n",
    "time.sleep(2)\n",
    "robot.VialRestPointToBinder()\n",
    "pipette.aspirate(1000)\n",
    "time.sleep(2)\n",
    "robot.BinderToVialRestPoint()\n",
    "pipette.dispense(1000)\n",
    "time.sleep(2)\n",
    "pipette.blowout()\n",
    "time.sleep(2)\n",
    "robot.PuttingBackPipetteTip(\"1\")\n",
    "pipette.eject()\n",
    "time.sleep(2)\n",
    "robot.PuttingBackPipette()"
   ]
  },
  {
   "cell_type": "code",
   "execution_count": 262,
   "metadata": {},
   "outputs": [],
   "source": [
    "robot.VialToMixing()"
   ]
  },
  {
   "cell_type": "code",
   "execution_count": 263,
   "metadata": {},
   "outputs": [],
   "source": [
    "homogenizer_motor.moveDown('6000')#(ONLY RUN IF IT IS AT THE VERY TOP)The difference from the top to the bottom is 6000 steps"
   ]
  },
  {
   "cell_type": "code",
   "execution_count": 264,
   "metadata": {},
   "outputs": [],
   "source": [
    "robot.TurnOnHomogenizer(10)\n",
    "robot.TurnOffHomogenizer()"
   ]
  },
  {
   "cell_type": "code",
   "execution_count": 265,
   "metadata": {},
   "outputs": [],
   "source": [
    "homogenizer_motor.moveUp('6000')"
   ]
  },
  {
   "cell_type": "code",
   "execution_count": 278,
   "metadata": {},
   "outputs": [
    {
     "name": "stdout",
     "output_type": "stream",
     "text": [
      "[SDK][ERROR][2024-04-19 11:29:28][base.py:374] - - wait_feedback, xarm is stop, state=4\n",
      "[SDK][ERROR][2024-04-19 11:29:28][base.py:374] - - API -> set_relative_position -> code=1, pos=[0.0, 0.0, 0, 0, 0, 0], radius=-1, velo=20.0, acc=2000\n",
      "[SDK][ERROR][2024-04-19 11:29:28][base.py:374] - - API -> set_relative_position -> code=1, pos=[0, 0, -100.0, 0, 0, 0], radius=-1, velo=10.0, acc=2000\n"
     ]
    }
   ],
   "source": [
    "#speedtesting:\n",
    "robot.PuttingBackPipetteTip(\"1\")"
   ]
  }
 ],
 "metadata": {
  "kernelspec": {
   "display_name": "Python 3",
   "language": "python",
   "name": "python3"
  },
  "language_info": {
   "codemirror_mode": {
    "name": "ipython",
    "version": 3
   },
   "file_extension": ".py",
   "mimetype": "text/x-python",
   "name": "python",
   "nbconvert_exporter": "python",
   "pygments_lexer": "ipython3",
   "version": "3.12.1"
  }
 },
 "nbformat": 4,
 "nbformat_minor": 2
}
