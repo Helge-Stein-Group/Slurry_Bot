{
 "cells": [
  {
   "cell_type": "code",
   "execution_count": 219,
   "metadata": {},
   "outputs": [
    {
     "name": "stdout",
     "output_type": "stream",
     "text": [
      "The autoreload extension is already loaded. To reload it, use:\n",
      "  %reload_ext autoreload\n"
     ]
    }
   ],
   "source": [
    "%load_ext autoreload\n",
    "%autoreload 2\n",
    "from Drivers.scale_driver import *\n",
    "from Drivers.motor_driver import *\n",
    "#rom Testing.Dispensing_wrapper import *\n",
    "from Testing.Robot_wrapper import *\n",
    "from Drivers.pipette_driver import *"
   ]
  },
  {
   "cell_type": "code",
   "execution_count": 231,
   "metadata": {},
   "outputs": [
    {
     "name": "stdout",
     "output_type": "stream",
     "text": [
      "ROBOT_IP: 192.168.1.200, VERSION: v2.3.0, PROTOCOL: V1, DETAIL: 6,6,XI1303,MC1303,v2.3.0, TYPE1300: [1, 1]\n",
      "change protocol identifier to 3\n"
     ]
    }
   ],
   "source": [
    "robot = Robot()"
   ]
  },
  {
   "cell_type": "code",
   "execution_count": null,
   "metadata": {},
   "outputs": [
    {
     "name": "stdout",
     "output_type": "stream",
     "text": [
      "ControllerError, code: 11\n",
      "servo_error_code, servo_id=1, status=1, code=40\n"
     ]
    }
   ],
   "source": [
    "robot.restart()"
   ]
  },
  {
   "cell_type": "code",
   "execution_count": 232,
   "metadata": {},
   "outputs": [
    {
     "name": "stdout",
     "output_type": "stream",
     "text": [
      "[motion_enable], xArm is not ready to move\n",
      "[set_state], xArm is ready to move\n"
     ]
    }
   ],
   "source": [
    "robot.initialize()\n",
    "robot.GoTo_InitialPoint()"
   ]
  },
  {
   "cell_type": "code",
   "execution_count": 192,
   "metadata": {},
   "outputs": [],
   "source": [
    "robot.GoTo_InitialPoint()"
   ]
  },
  {
   "cell_type": "code",
   "execution_count": 251,
   "metadata": {},
   "outputs": [],
   "source": [
    "coms = {\n",
    "    'scaleCom': 'COM7',\n",
    "    'motorsCom': 'COM5',\n",
    "    'pipetteCom': 'COM6'\n",
    "}"
   ]
  },
  {
   "cell_type": "code",
   "execution_count": 252,
   "metadata": {},
   "outputs": [],
   "source": [
    "motors = SerialConnection(coms['motorsCom'], 9600, 10)\n",
    "homogenizer_motor = Motor(motors, 0)\n",
    "homogenizer_motor.check_connection()\n",
    "homogenizer_motor.set_speed(700)"
   ]
  },
  {
   "cell_type": "code",
   "execution_count": 255,
   "metadata": {},
   "outputs": [],
   "source": [
    "homogenizer_motor.move_to_bottom()"
   ]
  },
  {
   "cell_type": "code",
   "execution_count": 253,
   "metadata": {},
   "outputs": [
    {
     "name": "stdout",
     "output_type": "stream",
     "text": [
      "Home position set.\n"
     ]
    }
   ],
   "source": [
    "homogenizer_motor.set_home()"
   ]
  },
  {
   "cell_type": "code",
   "execution_count": 49,
   "metadata": {},
   "outputs": [],
   "source": [
    "pipette = Pipette(coms['pipetteCom'])\n",
    "pipette.initialize()\n",
    "\n",
    "scale = Scale(coms['scaleCom'], 9600, 10)\n",
    "scale.connect()\n",
    "scale.tare()"
   ]
  },
  {
   "cell_type": "code",
   "execution_count": 227,
   "metadata": {},
   "outputs": [],
   "source": [
    "#Positionentest\n",
    "robot.PickUpVial('Vial1')\n"
   ]
  },
  {
   "cell_type": "code",
   "execution_count": 228,
   "metadata": {},
   "outputs": [],
   "source": [
    "robot.VialToScale()"
   ]
  },
  {
   "cell_type": "code",
   "execution_count": 229,
   "metadata": {},
   "outputs": [],
   "source": [
    "robot.ScaleToLiquidRestPoint()"
   ]
  },
  {
   "cell_type": "code",
   "execution_count": 202,
   "metadata": {},
   "outputs": [],
   "source": [
    "robot.PickUpPipette()"
   ]
  },
  {
   "cell_type": "code",
   "execution_count": 80,
   "metadata": {},
   "outputs": [],
   "source": [
    "#Pipetten Tip greifen -> muss noch gemacht werden \n",
    "robot.arm.set_linear_track_pos(200, wait=True)\n",
    "robot.GoTo_Point(\"PipettePoint\", 30)#Start point\n",
    "robot.GoTo_Point(\"PipetteTip1\", 10)\n",
    "robot.GoTo_Tip(\"4\", 10)\n",
    "robot.arm.set_position(z=-150, relative=True, speed=10, wait=True)\n",
    "robot.arm.set_position(x=3.5, y=3.5, relative=True, speed=10, wait=True)\n",
    "robot.arm.set_position(z=-5, relative=True, speed=3, wait=True)\n",
    "robot.arm.set_position(z=-5, relative=True, speed=3, wait=True)\n",
    "robot.arm.set_position(z=-10, relative=True, speed=3, wait=True)\n",
    "robot.arm.set_position(z=-5, relative=True, speed=6, wait=True)\n",
    "robot.arm.set_position(z=120, relative=True, speed=50, wait=True)\n"
   ]
  },
  {
   "cell_type": "code",
   "execution_count": 203,
   "metadata": {},
   "outputs": [],
   "source": [
    "robot.PuttingBackPipette()"
   ]
  },
  {
   "cell_type": "code",
   "execution_count": 204,
   "metadata": {},
   "outputs": [],
   "source": [
    "robot.LiquidsToMixingPoint()"
   ]
  },
  {
   "cell_type": "code",
   "execution_count": 205,
   "metadata": {},
   "outputs": [],
   "source": [
    "robot.TurnOnHomogenizer(10)"
   ]
  },
  {
   "cell_type": "code",
   "execution_count": 206,
   "metadata": {},
   "outputs": [],
   "source": [
    "robot.TurnOffHomogenizer()"
   ]
  },
  {
   "cell_type": "code",
   "execution_count": 207,
   "metadata": {},
   "outputs": [],
   "source": [
    "robot.MixingPointToLiquids()"
   ]
  },
  {
   "cell_type": "code",
   "execution_count": 208,
   "metadata": {},
   "outputs": [],
   "source": [
    "robot.CleaningLiquidsToMixer(\"Isopropanol\")"
   ]
  },
  {
   "cell_type": "code",
   "execution_count": 209,
   "metadata": {},
   "outputs": [],
   "source": [
    "robot.CleaningLiquidsToStorage(\"Isopropanol\")"
   ]
  },
  {
   "cell_type": "code",
   "execution_count": 230,
   "metadata": {},
   "outputs": [
    {
     "name": "stdout",
     "output_type": "stream",
     "text": [
      "ControllerError, code: 2\n",
      "ControllerError had clean\n"
     ]
    },
    {
     "name": "stdout",
     "output_type": "stream",
     "text": [
      "[SDK][ERROR][2025-03-31 16:09:03][base.py:374] - - API -> set_linear_track_enable(enable=True) -> code1=23, code2=23, err=0, enabled=1, zero=1\n",
      "[SDK][ERROR][2025-03-31 16:09:03][base.py:374] - - API -> set_linear_track_pos(pos=200) -> code=23, err=0, enabled=1, zero=1\n",
      "[SDK][ERROR][2025-03-31 16:09:03][base.py:374] - - wait_move, xarm has error, error=2\n",
      "[SDK][ERROR][2025-03-31 16:09:05][base.py:374] - - API -> set_position -> code=1, pos=[-585.5, -276.2, 54.0, 1.5707963267948966, 1.5707963267948966, 0.0], radius=-1, velo=100.0, acc=2000\n",
      "[SDK][ERROR][2025-03-31 16:09:05][base.py:374] - - API -> set_relative_position -> code=1, pos=[0, 0, 308.0, 0, 0, 0], radius=-1, velo=80.0, acc=2000\n",
      "[SDK][ERROR][2025-03-31 16:09:05][base.py:374] - - API -> set_relative_position -> code=1, pos=[-2.0, -39.0, 0, 0, 0, 0], radius=-1, velo=30.0, acc=2000\n",
      "[SDK][ERROR][2025-03-31 16:09:05][base.py:374] - - wait_move, xarm has error, error=2\n",
      "[SDK][ERROR][2025-03-31 16:09:06][base.py:374] - - API -> set_relative_position -> code=1, pos=[0, 0, 0, 0, -0.17453292519943295, 0], radius=-1, velo=30.0, acc=2000\n",
      "[SDK][ERROR][2025-03-31 16:09:06][base.py:374] - - wait_move, xarm has error, error=2\n",
      "[SDK][ERROR][2025-03-31 16:09:07][base.py:374] - - API -> set_relative_position -> code=1, pos=[0, 39.0, 0, 0, 0, 0], radius=-1, velo=30.0, acc=2000\n",
      "[SDK][ERROR][2025-03-31 16:09:07][base.py:374] - - API -> set_position -> code=1, pos=[-585.5, -276.2, 54.0, 1.5707963267948966, 1.5707963267948966, 0.0], radius=-1, velo=60.0, acc=2000\n"
     ]
    },
    {
     "ename": "KeyboardInterrupt",
     "evalue": "",
     "output_type": "error",
     "traceback": [
      "\u001b[1;31m---------------------------------------------------------------------------\u001b[0m",
      "\u001b[1;31mKeyboardInterrupt\u001b[0m                         Traceback (most recent call last)",
      "Cell \u001b[1;32mIn[230], line 5\u001b[0m\n\u001b[0;32m      3\u001b[0m homogenizer_motor\u001b[38;5;241m.\u001b[39mmove_to_top()\n\u001b[0;32m      4\u001b[0m robot\u001b[38;5;241m.\u001b[39mTurnOnHomogenizer(\u001b[38;5;241m10\u001b[39m)\n\u001b[1;32m----> 5\u001b[0m \u001b[43mtime\u001b[49m\u001b[38;5;241;43m.\u001b[39;49m\u001b[43msleep\u001b[49m\u001b[43m(\u001b[49m\u001b[38;5;241;43m10\u001b[39;49m\u001b[43m)\u001b[49m\n\u001b[0;32m      6\u001b[0m robot\u001b[38;5;241m.\u001b[39mTurnOffHomogenizer()\n\u001b[0;32m      7\u001b[0m homogenizer_motor\u001b[38;5;241m.\u001b[39mmove_to_bottom()\n",
      "\u001b[1;31mKeyboardInterrupt\u001b[0m: "
     ]
    }
   ],
   "source": [
    "#Workflow: Mixen\n",
    "robot.LiquidsToMixingPoint()\n",
    "homogenizer_motor.move_to_top()\n",
    "robot.TurnOnHomogenizer(10)\n",
    "time.sleep(10)\n",
    "robot.TurnOffHomogenizer()\n",
    "homogenizer_motor.move_to_bottom()\n",
    "#Achtung: Hier muss eine Pause geschaffen werden!!\n",
    "robot.MixingPointToLiquids()"
   ]
  },
  {
   "cell_type": "code",
   "execution_count": null,
   "metadata": {},
   "outputs": [],
   "source": [
    "#Workflow: Cleaning after Mixing\n",
    "robot.CleaningLiquidsToMixer(\"Water\")\n",
    "homogenizer_motor.move_to_top()\n",
    "robot.TurnOnHomogenizer(10)\n",
    "time.sleep(10)\n",
    "robot.TurnOffHomogenizer()\n",
    "homogenizer_motor.move_to_bottom()\n",
    "robot.CleaningLiquidsToStorage(\"Water\")\n",
    "robot.CleaningLiquidsToMixer(\"Isopropanol\")\n",
    "homogenizer_motor.move_to_top()\n",
    "robot.TurnOnHomogenizer(10)\n",
    "time.sleep(10)\n",
    "robot.TurnOffHomogenizer()\n",
    "homogenizer_motor.move_to_bottom()\n",
    "robot.CleaningLiquidsToStorage(\"Isopropanol\")\n"
   ]
  },
  {
   "cell_type": "code",
   "execution_count": null,
   "metadata": {},
   "outputs": [],
   "source": [
    "#Pipetten Workflow\n",
    "robot.PickUpPipette()\n",
    "robot.PickUpPipetteTip(\"1\")\n",
    "robot.MoveToBinder()\n",
    "pipette.aspirate(1000)\n",
    "time.sleep(2)\n",
    "robot.BinderToVialRestPoint()\n",
    "pipette.dispense(1000)\n",
    "time.sleep(2)\n",
    "pipette.blowout()\n",
    "time.sleep(2)\n",
    "robot.VialRestPointToBinder()\n",
    "pipette.aspirate(1000)\n",
    "time.sleep(2)\n",
    "robot.BinderToVialRestPoint()\n",
    "pipette.dispense(1000)\n",
    "time.sleep(2)\n",
    "pipette.blowout()\n",
    "time.sleep(2)\n",
    "robot.PuttingBackPipetteTip(\"1\")\n",
    "pipette.eject()\n",
    "time.sleep(2)\n",
    "robot.PuttingBackPipette()"
   ]
  }
 ],
 "metadata": {
  "kernelspec": {
   "display_name": "Python 3",
   "language": "python",
   "name": "python3"
  },
  "language_info": {
   "codemirror_mode": {
    "name": "ipython",
    "version": 3
   },
   "file_extension": ".py",
   "mimetype": "text/x-python",
   "name": "python",
   "nbconvert_exporter": "python",
   "pygments_lexer": "ipython3",
   "version": "3.12.1"
  }
 },
 "nbformat": 4,
 "nbformat_minor": 2
}
