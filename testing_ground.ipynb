{
 "cells": [
  {
   "cell_type": "code",
   "execution_count": 275,
   "metadata": {},
   "outputs": [
    {
     "name": "stdout",
     "output_type": "stream",
     "text": [
      "The autoreload extension is already loaded. To reload it, use:\n",
      "  %reload_ext autoreload\n"
     ]
    }
   ],
   "source": [
    "%load_ext autoreload\n",
    "%autoreload 2\n",
    "from Drivers.scale_driver import *\n",
    "from Drivers.motor_driver import *\n",
    "#rom Testing.Dispensing_wrapper import *\n",
    "from Testing.Robot_wrapper import *\n",
    "from Drivers.pipette_driver import *"
   ]
  },
  {
   "cell_type": "code",
   "execution_count": 231,
   "metadata": {},
   "outputs": [
    {
     "name": "stdout",
     "output_type": "stream",
     "text": [
      "ROBOT_IP: 192.168.1.200, VERSION: v2.3.0, PROTOCOL: V1, DETAIL: 6,6,XI1303,MC1303,v2.3.0, TYPE1300: [1, 1]\n",
      "change protocol identifier to 3\n"
     ]
    },
    {
     "name": "stdout",
     "output_type": "stream",
     "text": [
      "ControllerError had clean\n",
      "ControllerError had clean\n"
     ]
    }
   ],
   "source": [
    "robot = Robot()"
   ]
  },
  {
   "cell_type": "code",
   "execution_count": null,
   "metadata": {},
   "outputs": [
    {
     "name": "stdout",
     "output_type": "stream",
     "text": [
      "ControllerError, code: 11\n",
      "servo_error_code, servo_id=1, status=1, code=40\n"
     ]
    }
   ],
   "source": [
    "robot.restart()"
   ]
  },
  {
   "cell_type": "code",
   "execution_count": 273,
   "metadata": {},
   "outputs": [
    {
     "name": "stdout",
     "output_type": "stream",
     "text": [
      "[motion_enable], xArm is not ready to move\n",
      "[set_state], xArm is ready to move\n"
     ]
    }
   ],
   "source": [
    "robot.initialize()\n",
    "robot.GoTo_InitialPoint()"
   ]
  },
  {
   "cell_type": "code",
   "execution_count": 192,
   "metadata": {},
   "outputs": [],
   "source": [
    "robot.GoTo_InitialPoint()"
   ]
  },
  {
   "cell_type": "code",
   "execution_count": 325,
   "metadata": {},
   "outputs": [],
   "source": [
    "coms = {\n",
    "    'scaleCom': 'COM7',\n",
    "    'motorsCom': 'COM5',\n",
    "    'pipetteCom': 'COM6'\n",
    "}"
   ]
  },
  {
   "cell_type": "code",
   "execution_count": 326,
   "metadata": {},
   "outputs": [
    {
     "ename": "KeyboardInterrupt",
     "evalue": "",
     "output_type": "error",
     "traceback": [
      "\u001b[1;31m---------------------------------------------------------------------------\u001b[0m",
      "\u001b[1;31mKeyboardInterrupt\u001b[0m                         Traceback (most recent call last)",
      "Cell \u001b[1;32mIn[326], line 4\u001b[0m\n\u001b[0;32m      2\u001b[0m homogenizer_motor \u001b[38;5;241m=\u001b[39m Motor(motors, \u001b[38;5;241m0\u001b[39m, max_position\u001b[38;5;241m=\u001b[39m\u001b[38;5;241m6000\u001b[39m)\n\u001b[0;32m      3\u001b[0m homogenizer_motor\u001b[38;5;241m.\u001b[39mcheck_connection()\n\u001b[1;32m----> 4\u001b[0m \u001b[43mhomogenizer_motor\u001b[49m\u001b[38;5;241;43m.\u001b[39;49m\u001b[43mset_speed\u001b[49m\u001b[43m(\u001b[49m\u001b[38;5;241;43m700\u001b[39;49m\u001b[43m)\u001b[49m\n",
      "File \u001b[1;32mc:\\Users\\digic\\OneDrive\\Desktop\\Slurry Formation 2024\\SlurryBot\\Slurry_Bot\\Drivers\\motor_driver.py:63\u001b[0m, in \u001b[0;36mMotor.set_speed\u001b[1;34m(self, speed)\u001b[0m\n\u001b[0;32m     61\u001b[0m \u001b[38;5;28;01mif\u001b[39;00m \u001b[38;5;241m0\u001b[39m \u001b[38;5;241m<\u001b[39m speed \u001b[38;5;241m<\u001b[39m\u001b[38;5;241m=\u001b[39m \u001b[38;5;241m1000\u001b[39m:\n\u001b[0;32m     62\u001b[0m     \u001b[38;5;28mself\u001b[39m\u001b[38;5;241m.\u001b[39mconnection\u001b[38;5;241m.\u001b[39msend_command(\u001b[38;5;124mf\u001b[39m\u001b[38;5;124m\"\u001b[39m\u001b[38;5;132;01m{\u001b[39;00m\u001b[38;5;28mself\u001b[39m\u001b[38;5;241m.\u001b[39mnum\u001b[38;5;132;01m}\u001b[39;00m\u001b[38;5;124mV\u001b[39m\u001b[38;5;132;01m{\u001b[39;00mspeed\u001b[38;5;132;01m}\u001b[39;00m\u001b[38;5;124m\"\u001b[39m)\n\u001b[1;32m---> 63\u001b[0m     \u001b[38;5;28;43mself\u001b[39;49m\u001b[38;5;241;43m.\u001b[39;49m\u001b[43m_wait_for_motor\u001b[49m\u001b[43m(\u001b[49m\u001b[43m)\u001b[49m\n\u001b[0;32m     64\u001b[0m \u001b[38;5;28;01melse\u001b[39;00m:\n\u001b[0;32m     65\u001b[0m     \u001b[38;5;28;01mraise\u001b[39;00m \u001b[38;5;167;01mValueError\u001b[39;00m(\u001b[38;5;124m\"\u001b[39m\u001b[38;5;124mSpeed must be between 1 and 1000\u001b[39m\u001b[38;5;124m\"\u001b[39m)\n",
      "File \u001b[1;32mc:\\Users\\digic\\OneDrive\\Desktop\\Slurry Formation 2024\\SlurryBot\\Slurry_Bot\\Drivers\\motor_driver.py:40\u001b[0m, in \u001b[0;36mMotor._wait_for_motor\u001b[1;34m(self)\u001b[0m\n\u001b[0;32m     37\u001b[0m \u001b[38;5;28;01mdef\u001b[39;00m \u001b[38;5;21m_wait_for_motor\u001b[39m(\u001b[38;5;28mself\u001b[39m):\n\u001b[0;32m     38\u001b[0m     \u001b[38;5;66;03m# Wait until the motor has finished its task\u001b[39;00m\n\u001b[0;32m     39\u001b[0m     \u001b[38;5;28;01mwhile\u001b[39;00m \u001b[38;5;28;01mTrue\u001b[39;00m:\n\u001b[1;32m---> 40\u001b[0m         response \u001b[38;5;241m=\u001b[39m \u001b[38;5;28;43mself\u001b[39;49m\u001b[38;5;241;43m.\u001b[39;49m\u001b[43mconnection\u001b[49m\u001b[38;5;241;43m.\u001b[39;49m\u001b[43mread_response\u001b[49m\u001b[43m(\u001b[49m\u001b[43m)\u001b[49m\n\u001b[0;32m     41\u001b[0m         \u001b[38;5;28;01mif\u001b[39;00m response \u001b[38;5;241m==\u001b[39m \u001b[38;5;124m'\u001b[39m\u001b[38;5;124mMOTOR_FINISHED\u001b[39m\u001b[38;5;124m'\u001b[39m:\n\u001b[0;32m     42\u001b[0m             \u001b[38;5;28;01mbreak\u001b[39;00m\n",
      "File \u001b[1;32mc:\\Users\\digic\\OneDrive\\Desktop\\Slurry Formation 2024\\SlurryBot\\Slurry_Bot\\Drivers\\motor_driver.py:28\u001b[0m, in \u001b[0;36mSerialConnection.read_response\u001b[1;34m(self)\u001b[0m\n\u001b[0;32m     26\u001b[0m \u001b[38;5;28;01mdef\u001b[39;00m \u001b[38;5;21mread_response\u001b[39m(\u001b[38;5;28mself\u001b[39m):\n\u001b[0;32m     27\u001b[0m \u001b[38;5;250m    \u001b[39m\u001b[38;5;124;03m\"\"\" Reads and returns the response from the serial connection. \"\"\"\u001b[39;00m\n\u001b[1;32m---> 28\u001b[0m     \u001b[38;5;28;01mreturn\u001b[39;00m \u001b[38;5;28;43mself\u001b[39;49m\u001b[38;5;241;43m.\u001b[39;49m\u001b[43mser\u001b[49m\u001b[38;5;241;43m.\u001b[39;49m\u001b[43mreadline\u001b[49m\u001b[43m(\u001b[49m\u001b[43m)\u001b[49m\u001b[38;5;241m.\u001b[39mdecode(\u001b[38;5;124m'\u001b[39m\u001b[38;5;124mutf-8\u001b[39m\u001b[38;5;124m'\u001b[39m)\u001b[38;5;241m.\u001b[39mstrip()\n",
      "File \u001b[1;32mc:\\Users\\digic\\AppData\\Local\\Programs\\Python\\Python312\\Lib\\site-packages\\serial\\serialwin32.py:288\u001b[0m, in \u001b[0;36mSerial.read\u001b[1;34m(self, size)\u001b[0m\n\u001b[0;32m    286\u001b[0m \u001b[38;5;28;01mif\u001b[39;00m \u001b[38;5;129;01mnot\u001b[39;00m read_ok \u001b[38;5;129;01mand\u001b[39;00m win32\u001b[38;5;241m.\u001b[39mGetLastError() \u001b[38;5;129;01mnot\u001b[39;00m \u001b[38;5;129;01min\u001b[39;00m (win32\u001b[38;5;241m.\u001b[39mERROR_SUCCESS, win32\u001b[38;5;241m.\u001b[39mERROR_IO_PENDING):\n\u001b[0;32m    287\u001b[0m     \u001b[38;5;28;01mraise\u001b[39;00m SerialException(\u001b[38;5;124m\"\u001b[39m\u001b[38;5;124mReadFile failed (\u001b[39m\u001b[38;5;132;01m{!r}\u001b[39;00m\u001b[38;5;124m)\u001b[39m\u001b[38;5;124m\"\u001b[39m\u001b[38;5;241m.\u001b[39mformat(ctypes\u001b[38;5;241m.\u001b[39mWinError()))\n\u001b[1;32m--> 288\u001b[0m result_ok \u001b[38;5;241m=\u001b[39m \u001b[43mwin32\u001b[49m\u001b[38;5;241;43m.\u001b[39;49m\u001b[43mGetOverlappedResult\u001b[49m\u001b[43m(\u001b[49m\n\u001b[0;32m    289\u001b[0m \u001b[43m    \u001b[49m\u001b[38;5;28;43mself\u001b[39;49m\u001b[38;5;241;43m.\u001b[39;49m\u001b[43m_port_handle\u001b[49m\u001b[43m,\u001b[49m\n\u001b[0;32m    290\u001b[0m \u001b[43m    \u001b[49m\u001b[43mctypes\u001b[49m\u001b[38;5;241;43m.\u001b[39;49m\u001b[43mbyref\u001b[49m\u001b[43m(\u001b[49m\u001b[38;5;28;43mself\u001b[39;49m\u001b[38;5;241;43m.\u001b[39;49m\u001b[43m_overlapped_read\u001b[49m\u001b[43m)\u001b[49m\u001b[43m,\u001b[49m\n\u001b[0;32m    291\u001b[0m \u001b[43m    \u001b[49m\u001b[43mctypes\u001b[49m\u001b[38;5;241;43m.\u001b[39;49m\u001b[43mbyref\u001b[49m\u001b[43m(\u001b[49m\u001b[43mrc\u001b[49m\u001b[43m)\u001b[49m\u001b[43m,\u001b[49m\n\u001b[0;32m    292\u001b[0m \u001b[43m    \u001b[49m\u001b[38;5;28;43;01mTrue\u001b[39;49;00m\u001b[43m)\u001b[49m\n\u001b[0;32m    293\u001b[0m \u001b[38;5;28;01mif\u001b[39;00m \u001b[38;5;129;01mnot\u001b[39;00m result_ok:\n\u001b[0;32m    294\u001b[0m     \u001b[38;5;28;01mif\u001b[39;00m win32\u001b[38;5;241m.\u001b[39mGetLastError() \u001b[38;5;241m!=\u001b[39m win32\u001b[38;5;241m.\u001b[39mERROR_OPERATION_ABORTED:\n",
      "\u001b[1;31mKeyboardInterrupt\u001b[0m: "
     ]
    }
   ],
   "source": [
    "motors = SerialConnection(coms['motorsCom'], 9600, 10)\n",
    "homogenizer_motor = Motor(motors, 0, max_position=6000)\n",
    "homogenizer_motor.check_connection()\n",
    "homogenizer_motor.set_speed(700)"
   ]
  },
  {
   "cell_type": "code",
   "execution_count": 311,
   "metadata": {},
   "outputs": [
    {
     "name": "stdout",
     "output_type": "stream",
     "text": [
      "Arduino: MOTOR_FINISHED\n"
     ]
    }
   ],
   "source": [
    "homogenizer_motor.move_up(100)"
   ]
  },
  {
   "cell_type": "code",
   "execution_count": 322,
   "metadata": {},
   "outputs": [
    {
     "name": "stdout",
     "output_type": "stream",
     "text": [
      "Arduino: WARNING: Target below 0. Moving to position 0 instead.\n",
      "WARNING: WARNING: Target below 0. Moving to position 0 instead.\n"
     ]
    }
   ],
   "source": [
    "homogenizer_motor.move_to_top()"
   ]
  },
  {
   "cell_type": "code",
   "execution_count": 317,
   "metadata": {},
   "outputs": [
    {
     "name": "stdout",
     "output_type": "stream",
     "text": [
      "Home position set.\n"
     ]
    }
   ],
   "source": [
    "homogenizer_motor.set_home()"
   ]
  },
  {
   "cell_type": "code",
   "execution_count": 49,
   "metadata": {},
   "outputs": [],
   "source": [
    "pipette = Pipette(coms['pipetteCom'])\n",
    "pipette.initialize()\n",
    "\n",
    "scale = Scale(coms['scaleCom'], 9600, 10)\n",
    "scale.connect()\n",
    "scale.tare()"
   ]
  },
  {
   "cell_type": "code",
   "execution_count": 267,
   "metadata": {},
   "outputs": [],
   "source": [
    "#Positionentest\n",
    "robot.PickUpVial('Vial1')\n",
    "robot.VialToScale()\n",
    "robot.ScaleToLiquidRestPoint()\n",
    "\n"
   ]
  },
  {
   "cell_type": "code",
   "execution_count": 257,
   "metadata": {},
   "outputs": [],
   "source": [
    "robot.VialToScale()"
   ]
  },
  {
   "cell_type": "code",
   "execution_count": 258,
   "metadata": {},
   "outputs": [],
   "source": [
    "robot.ScaleToLiquidRestPoint()"
   ]
  },
  {
   "cell_type": "code",
   "execution_count": 202,
   "metadata": {},
   "outputs": [],
   "source": [
    "robot.PickUpPipette()"
   ]
  },
  {
   "cell_type": "code",
   "execution_count": 80,
   "metadata": {},
   "outputs": [],
   "source": [
    "#Pipetten Tip greifen -> muss noch gemacht werden \n",
    "robot.arm.set_linear_track_pos(200, wait=True)\n",
    "robot.GoTo_Point(\"PipettePoint\", 30)#Start point\n",
    "robot.GoTo_Point(\"PipetteTip1\", 10)\n",
    "robot.GoTo_Tip(\"4\", 10)\n",
    "robot.arm.set_position(z=-150, relative=True, speed=10, wait=True)\n",
    "robot.arm.set_position(x=3.5, y=3.5, relative=True, speed=10, wait=True)\n",
    "robot.arm.set_position(z=-5, relative=True, speed=3, wait=True)\n",
    "robot.arm.set_position(z=-5, relative=True, speed=3, wait=True)\n",
    "robot.arm.set_position(z=-10, relative=True, speed=3, wait=True)\n",
    "robot.arm.set_position(z=-5, relative=True, speed=6, wait=True)\n",
    "robot.arm.set_position(z=120, relative=True, speed=50, wait=True)\n"
   ]
  },
  {
   "cell_type": "code",
   "execution_count": 203,
   "metadata": {},
   "outputs": [],
   "source": [
    "robot.PuttingBackPipette()"
   ]
  },
  {
   "cell_type": "code",
   "execution_count": 204,
   "metadata": {},
   "outputs": [],
   "source": [
    "robot.LiquidsToMixingPoint()"
   ]
  },
  {
   "cell_type": "code",
   "execution_count": 205,
   "metadata": {},
   "outputs": [],
   "source": [
    "robot.TurnOnHomogenizer(10)"
   ]
  },
  {
   "cell_type": "code",
   "execution_count": 206,
   "metadata": {},
   "outputs": [],
   "source": [
    "robot.TurnOffHomogenizer()"
   ]
  },
  {
   "cell_type": "code",
   "execution_count": 207,
   "metadata": {},
   "outputs": [],
   "source": [
    "robot.MixingPointToLiquids()"
   ]
  },
  {
   "cell_type": "code",
   "execution_count": 208,
   "metadata": {},
   "outputs": [],
   "source": [
    "robot.CleaningLiquidsToMixer(\"Isopropanol\")"
   ]
  },
  {
   "cell_type": "code",
   "execution_count": 209,
   "metadata": {},
   "outputs": [],
   "source": [
    "robot.CleaningLiquidsToStorage(\"Isopropanol\")"
   ]
  },
  {
   "cell_type": "code",
   "execution_count": 268,
   "metadata": {},
   "outputs": [
    {
     "name": "stdout",
     "output_type": "stream",
     "text": [
      "Arduino: MOTOR_FINISHED\n",
      "Arduino: MOTOR_FINISHED\n",
      "[SDK][ERROR][2025-03-31 16:47:14][base.py:374] - - wait_feedback, xarm is stop, state=4\n",
      "[SDK][ERROR][2025-03-31 16:47:14][base.py:374] - - API -> set_relative_position -> code=1, pos=[0, 0, -45.0, 0, 0, 0], radius=-1, velo=20.0, acc=2000\n",
      "[SDK][ERROR][2025-03-31 16:47:14][base.py:374] - - wait_move, xarm is stop, state=4\n",
      "[SDK][ERROR][2025-03-31 16:47:14][base.py:374] - - API -> set_modbus_gripper_position(pos=260) -> code=1\n",
      "[SDK][ERROR][2025-03-31 16:47:24][base.py:374] - - API -> set_relative_position -> code=1, pos=[0, 0, 45.0, 0, 0, 0], radius=-1, velo=20.0, acc=2000\n",
      "[SDK][ERROR][2025-03-31 16:47:24][base.py:374] - - API -> set_relative_position -> code=1, pos=[0, 95.0, 0, 0, 0, 0], radius=-1, velo=20.0, acc=2000\n",
      "[SDK][ERROR][2025-03-31 16:47:24][base.py:374] - - API -> set_position -> code=1, pos=[-367.0, -282.0, 250.0, 1.5707963267948966, 1.5707963267948966, 0.0], radius=-1, velo=40.0, acc=2000\n",
      "[SDK][ERROR][2025-03-31 16:47:24][base.py:374] - - API -> set_relative_position -> code=1, pos=[145.5, -8.0, 0, 0, 0, 0], radius=-1, velo=30.0, acc=2000\n",
      "[SDK][ERROR][2025-03-31 16:47:24][base.py:374] - - API -> set_relative_position -> code=1, pos=[0, 0, -224.0, 0, 0, 0], radius=-1, velo=30.0, acc=2000\n",
      "[SDK][ERROR][2025-03-31 16:47:24][base.py:374] - - wait_move, xarm has error, error=2\n",
      "[SDK][ERROR][2025-03-31 16:47:25][base.py:374] - - API -> set_relative_position -> code=1, pos=[0, 0, 224.0, 0, 0, 0], radius=-1, velo=30.0, acc=2000\n",
      "[SDK][ERROR][2025-03-31 16:47:25][base.py:374] - - API -> set_position -> code=1, pos=[-585.5, -276.2, 54.0, 1.5707963267948966, 1.5707963267948966, 0.0], radius=-1, velo=30.0, acc=2000\n"
     ]
    }
   ],
   "source": [
    "#Workflow: Mixen\n",
    "robot.LiquidsToMixingPoint()\n",
    "homogenizer_motor.move_to_top()\n",
    "robot.TurnOnHomogenizer(10)\n",
    "time.sleep(10)\n",
    "robot.TurnOffHomogenizer()\n",
    "homogenizer_motor.move_to_bottom()\n",
    "#Achtung: Hier muss eine Pause geschaffen werden!!\n",
    "robot.MixingPointToLiquids()"
   ]
  },
  {
   "cell_type": "code",
   "execution_count": 288,
   "metadata": {},
   "outputs": [
    {
     "name": "stdout",
     "output_type": "stream",
     "text": [
      "Arduino: MOTOR_FINISHED\n",
      "Ende\n"
     ]
    }
   ],
   "source": [
    "homogenizer_motor.move_to_bottom()\n",
    "print(\"Ende\")"
   ]
  },
  {
   "cell_type": "code",
   "execution_count": null,
   "metadata": {},
   "outputs": [],
   "source": [
    "#Workflow: Cleaning after Mixing\n",
    "robot.CleaningLiquidsToMixer(\"Water\")\n",
    "homogenizer_motor.move_to_top()\n",
    "robot.TurnOnHomogenizer(10)\n",
    "time.sleep(10)\n",
    "robot.TurnOffHomogenizer()\n",
    "homogenizer_motor.move_to_bottom()\n",
    "robot.CleaningLiquidsToStorage(\"Water\")\n",
    "robot.CleaningLiquidsToMixer(\"Isopropanol\")\n",
    "homogenizer_motor.move_to_top()\n",
    "robot.TurnOnHomogenizer(10)\n",
    "time.sleep(10)\n",
    "robot.TurnOffHomogenizer()\n",
    "homogenizer_motor.move_to_bottom()\n",
    "robot.CleaningLiquidsToStorage(\"Isopropanol\")\n"
   ]
  },
  {
   "cell_type": "code",
   "execution_count": null,
   "metadata": {},
   "outputs": [],
   "source": [
    "#Pipetten Workflow\n",
    "robot.PickUpPipette()\n",
    "robot.PickUpPipetteTip(\"1\")\n",
    "robot.MoveToBinder()\n",
    "pipette.aspirate(1000)\n",
    "time.sleep(2)\n",
    "robot.BinderToVialRestPoint()\n",
    "pipette.dispense(1000)\n",
    "time.sleep(2)\n",
    "pipette.blowout()\n",
    "time.sleep(2)\n",
    "robot.VialRestPointToBinder()\n",
    "pipette.aspirate(1000)\n",
    "time.sleep(2)\n",
    "robot.BinderToVialRestPoint()\n",
    "pipette.dispense(1000)\n",
    "time.sleep(2)\n",
    "pipette.blowout()\n",
    "time.sleep(2)\n",
    "robot.PuttingBackPipetteTip(\"1\")\n",
    "pipette.eject()\n",
    "time.sleep(2)\n",
    "robot.PuttingBackPipette()"
   ]
  }
 ],
 "metadata": {
  "kernelspec": {
   "display_name": "Python 3",
   "language": "python",
   "name": "python3"
  },
  "language_info": {
   "codemirror_mode": {
    "name": "ipython",
    "version": 3
   },
   "file_extension": ".py",
   "mimetype": "text/x-python",
   "name": "python",
   "nbconvert_exporter": "python",
   "pygments_lexer": "ipython3",
   "version": "3.12.1"
  }
 },
 "nbformat": 4,
 "nbformat_minor": 2
}
