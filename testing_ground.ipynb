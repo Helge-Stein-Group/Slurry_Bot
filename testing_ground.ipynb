{
 "cells": [
  {
   "cell_type": "code",
   "execution_count": 181,
   "metadata": {},
   "outputs": [
    {
     "name": "stdout",
     "output_type": "stream",
     "text": [
      "The autoreload extension is already loaded. To reload it, use:\n",
      "  %reload_ext autoreload\n"
     ]
    }
   ],
   "source": [
    "%load_ext autoreload\n",
    "%autoreload 2\n",
    "from Drivers.scale_driver import *\n",
    "from Drivers.motor_driver import *\n",
    "#rom Testing.Dispensing_wrapper import *\n",
    "from Testing.Robot_wrapper import *\n",
    "from Drivers.pipette_driver import *"
   ]
  },
  {
   "cell_type": "code",
   "execution_count": 175,
   "metadata": {},
   "outputs": [
    {
     "name": "stdout",
     "output_type": "stream",
     "text": [
      "ROBOT_IP: 192.168.1.200, VERSION: v2.3.0, PROTOCOL: V1, DETAIL: 6,6,XI1303,MC1303,v2.3.0, TYPE1300: [1, 1]\n",
      "change protocol identifier to 3\n"
     ]
    },
    {
     "name": "stdout",
     "output_type": "stream",
     "text": [
      "ControllerError, code: 2\n",
      "ControllerError had clean\n"
     ]
    }
   ],
   "source": [
    "robot = Robot()"
   ]
  },
  {
   "cell_type": "code",
   "execution_count": null,
   "metadata": {},
   "outputs": [],
   "source": [
    "robot.restart()"
   ]
  },
  {
   "cell_type": "code",
   "execution_count": 193,
   "metadata": {},
   "outputs": [
    {
     "name": "stdout",
     "output_type": "stream",
     "text": [
      "[motion_enable], xArm is not ready to move\n",
      "[set_state], xArm is ready to move\n"
     ]
    }
   ],
   "source": [
    "robot.initialize()\n",
    "robot.GoTo_InitialPoint()"
   ]
  },
  {
   "cell_type": "code",
   "execution_count": null,
   "metadata": {},
   "outputs": [],
   "source": [
    "robot.GoTo_InitialPoint()"
   ]
  },
  {
   "cell_type": "code",
   "execution_count": 73,
   "metadata": {},
   "outputs": [],
   "source": [
    "coms = {\n",
    "    'scaleCom': 'COM7',\n",
    "    'motorsCom': 'COM5',\n",
    "    'pipetteCom': 'COM6'\n",
    "}"
   ]
  },
  {
   "cell_type": "code",
   "execution_count": 74,
   "metadata": {},
   "outputs": [],
   "source": [
    "motors = SerialConnection(coms['motorsCom'], 9600, 10)\n",
    "homogenizer_motor = Motor(motors, 0)"
   ]
  },
  {
   "cell_type": "code",
   "execution_count": 47,
   "metadata": {},
   "outputs": [
    {
     "data": {
      "text/plain": [
       "True"
      ]
     },
     "execution_count": 47,
     "metadata": {},
     "output_type": "execute_result"
    }
   ],
   "source": [
    "homogenizer_motor.check_connection()"
   ]
  },
  {
   "cell_type": "code",
   "execution_count": 49,
   "metadata": {},
   "outputs": [],
   "source": [
    "motors = SerialConnection(coms['motorsCom'], 9600, 10)\n",
    "dispenser_motor = Motor(motors, 0)\n",
    "homogenizer_motor = Motor(motors, 1)\n",
    "\n",
    "pipette = Pipette(coms['pipetteCom'])\n",
    "pipette.initialize()\n",
    "\n",
    "scale = Scale(coms['scaleCom'], 9600, 10)\n",
    "scale.connect()\n",
    "scale.tare()"
   ]
  },
  {
   "cell_type": "code",
   "execution_count": 7,
   "metadata": {},
   "outputs": [
    {
     "data": {
      "text/plain": [
       "False"
      ]
     },
     "execution_count": 7,
     "metadata": {},
     "output_type": "execute_result"
    }
   ],
   "source": [
    "pipette = Pipette(coms['pipetteCom'])\n",
    "pipette.initialize()"
   ]
  },
  {
   "cell_type": "code",
   "execution_count": 177,
   "metadata": {},
   "outputs": [],
   "source": [
    "#Positionentest\n",
    "robot.PickUpVial('Vial1')\n"
   ]
  },
  {
   "cell_type": "code",
   "execution_count": 178,
   "metadata": {},
   "outputs": [],
   "source": [
    "robot.VialToScale()"
   ]
  },
  {
   "cell_type": "code",
   "execution_count": 179,
   "metadata": {},
   "outputs": [],
   "source": [
    "robot.ScaleToLiquidRestPoint()"
   ]
  },
  {
   "cell_type": "code",
   "execution_count": 79,
   "metadata": {},
   "outputs": [],
   "source": [
    "robot.PickUpPipette() #-> Greifer für Pipette muss noch angepasst werden"
   ]
  },
  {
   "cell_type": "code",
   "execution_count": 80,
   "metadata": {},
   "outputs": [],
   "source": [
    "#Pipetten Tip greifen -> muss noch gemacht werden \n",
    "robot.arm.set_linear_track_pos(200, wait=True)\n",
    "robot.GoTo_Point(\"PipettePoint\", 30)#Start point\n",
    "robot.GoTo_Point(\"PipetteTip1\", 10)\n",
    "robot.GoTo_Tip(\"4\", 10)\n",
    "robot.arm.set_position(z=-150, relative=True, speed=10, wait=True)\n",
    "robot.arm.set_position(x=3.5, y=3.5, relative=True, speed=10, wait=True)\n",
    "robot.arm.set_position(z=-5, relative=True, speed=3, wait=True)\n",
    "robot.arm.set_position(z=-5, relative=True, speed=3, wait=True)\n",
    "robot.arm.set_position(z=-10, relative=True, speed=3, wait=True)\n",
    "robot.arm.set_position(z=-5, relative=True, speed=6, wait=True)\n",
    "robot.arm.set_position(z=120, relative=True, speed=50, wait=True)\n"
   ]
  },
  {
   "cell_type": "code",
   "execution_count": 183,
   "metadata": {},
   "outputs": [],
   "source": [
    "robot.LiquidsToMixingPoint()"
   ]
  },
  {
   "cell_type": "code",
   "execution_count": null,
   "metadata": {},
   "outputs": [],
   "source": [
    "#TurnOn Homogenizer"
   ]
  },
  {
   "cell_type": "code",
   "execution_count": 187,
   "metadata": {},
   "outputs": [],
   "source": [
    "robot.GripperAction(\"ReleaseHomogenizerDial\")"
   ]
  },
  {
   "cell_type": "code",
   "execution_count": 190,
   "metadata": {},
   "outputs": [],
   "source": [
    "robot.GoTo_Point(\"MixerPoint\", 10)#Start point"
   ]
  },
  {
   "cell_type": "code",
   "execution_count": 191,
   "metadata": {},
   "outputs": [
    {
     "data": {
      "text/plain": [
       "0"
      ]
     },
     "execution_count": 191,
     "metadata": {},
     "output_type": "execute_result"
    }
   ],
   "source": [
    "robot.arm.set_position(z=300, relative=True, speed=30, wait=True)"
   ]
  },
  {
   "cell_type": "code",
   "execution_count": null,
   "metadata": {},
   "outputs": [],
   "source": [
    "#Hier fehlen noch Zeilen \n",
    "robot.GripperAction(\"GrabHomogenizerDial\")\n",
    "robot.arm.set_position(pitch=-10, relative=True, speed=30, wait=True)\n",
    "robot.GripperAction(\"ReleaseHomogenizerDial\")\n",
    "robot.GoTo_Point(\"MixerPoint\", 60)"
   ]
  },
  {
   "cell_type": "code",
   "execution_count": null,
   "metadata": {},
   "outputs": [],
   "source": [
    "#Pipetten Workflow\n",
    "robot.PickUpPipette()\n",
    "robot.PickUpPipetteTip(\"1\")\n",
    "robot.MoveToBinder()\n",
    "pipette.aspirate(1000)\n",
    "time.sleep(2)\n",
    "robot.BinderToVialRestPoint()\n",
    "pipette.dispense(1000)\n",
    "time.sleep(2)\n",
    "pipette.blowout()\n",
    "time.sleep(2)\n",
    "robot.VialRestPointToBinder()\n",
    "pipette.aspirate(1000)\n",
    "time.sleep(2)\n",
    "robot.BinderToVialRestPoint()\n",
    "pipette.dispense(1000)\n",
    "time.sleep(2)\n",
    "pipette.blowout()\n",
    "time.sleep(2)\n",
    "robot.PuttingBackPipetteTip(\"1\")\n",
    "pipette.eject()\n",
    "time.sleep(2)\n",
    "robot.PuttingBackPipette()"
   ]
  },
  {
   "cell_type": "code",
   "execution_count": 264,
   "metadata": {},
   "outputs": [],
   "source": [
    "robot.VialToMixing()\n",
    "homogenizer_motor.moveDown('6000')#(ONLY RUN IF IT IS AT THE VERY TOP)The difference from the top to the bottom is 6000 steps\n",
    "robot.TurnOnHomogenizer(10)\n",
    "robot.TurnOffHomogenizer()\n",
    "homogenizer_motor.moveUp('6000')"
   ]
  },
  {
   "cell_type": "code",
   "execution_count": 101,
   "metadata": {},
   "outputs": [],
   "source": [
    "robot.GripperAction(\"ReleasePipette\")"
   ]
  },
  {
   "cell_type": "code",
   "execution_count": 100,
   "metadata": {},
   "outputs": [],
   "source": [
    "robot.GripperAction(\"GrabPipette\")"
   ]
  }
 ],
 "metadata": {
  "kernelspec": {
   "display_name": "Python 3",
   "language": "python",
   "name": "python3"
  },
  "language_info": {
   "codemirror_mode": {
    "name": "ipython",
    "version": 3
   },
   "file_extension": ".py",
   "mimetype": "text/x-python",
   "name": "python",
   "nbconvert_exporter": "python",
   "pygments_lexer": "ipython3",
   "version": "3.12.1"
  }
 },
 "nbformat": 4,
 "nbformat_minor": 2
}
